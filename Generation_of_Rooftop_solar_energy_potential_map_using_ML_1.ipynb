{
  "nbformat": 4,
  "nbformat_minor": 0,
  "metadata": {
    "colab": {
      "provenance": [],
      "gpuType": "T4"
    },
    "kernelspec": {
      "name": "python3",
      "display_name": "Python 3"
    },
    "language_info": {
      "name": "python"
    },
    "accelerator": "GPU"
  },
  "cells": [
    {
      "cell_type": "code",
      "execution_count": null,
      "metadata": {
        "colab": {
          "base_uri": "https://localhost:8080/"
        },
        "id": "xaUvfz09lJVV",
        "outputId": "58abacfe-8743-46d2-c8cd-9395dab7a492"
      },
      "outputs": [
        {
          "output_type": "stream",
          "name": "stdout",
          "text": [
            "Collecting roboflow\n",
            "  Downloading roboflow-1.1.37-py3-none-any.whl.metadata (9.4 kB)\n",
            "Requirement already satisfied: certifi in /usr/local/lib/python3.10/dist-packages (from roboflow) (2024.7.4)\n",
            "Collecting chardet==4.0.0 (from roboflow)\n",
            "  Downloading chardet-4.0.0-py2.py3-none-any.whl.metadata (3.5 kB)\n",
            "Requirement already satisfied: idna==3.7 in /usr/local/lib/python3.10/dist-packages (from roboflow) (3.7)\n",
            "Requirement already satisfied: cycler in /usr/local/lib/python3.10/dist-packages (from roboflow) (0.12.1)\n",
            "Requirement already satisfied: kiwisolver>=1.3.1 in /usr/local/lib/python3.10/dist-packages (from roboflow) (1.4.5)\n",
            "Requirement already satisfied: matplotlib in /usr/local/lib/python3.10/dist-packages (from roboflow) (3.7.1)\n",
            "Requirement already satisfied: numpy>=1.18.5 in /usr/local/lib/python3.10/dist-packages (from roboflow) (1.26.4)\n",
            "Requirement already satisfied: opencv-python-headless==4.10.0.84 in /usr/local/lib/python3.10/dist-packages (from roboflow) (4.10.0.84)\n",
            "Requirement already satisfied: Pillow>=7.1.2 in /usr/local/lib/python3.10/dist-packages (from roboflow) (9.4.0)\n",
            "Requirement already satisfied: python-dateutil in /usr/local/lib/python3.10/dist-packages (from roboflow) (2.8.2)\n",
            "Collecting python-dotenv (from roboflow)\n",
            "  Downloading python_dotenv-1.0.1-py3-none-any.whl.metadata (23 kB)\n",
            "Requirement already satisfied: requests in /usr/local/lib/python3.10/dist-packages (from roboflow) (2.32.3)\n",
            "Requirement already satisfied: six in /usr/local/lib/python3.10/dist-packages (from roboflow) (1.16.0)\n",
            "Requirement already satisfied: urllib3>=1.26.6 in /usr/local/lib/python3.10/dist-packages (from roboflow) (2.0.7)\n",
            "Requirement already satisfied: tqdm>=4.41.0 in /usr/local/lib/python3.10/dist-packages (from roboflow) (4.66.5)\n",
            "Requirement already satisfied: PyYAML>=5.3.1 in /usr/local/lib/python3.10/dist-packages (from roboflow) (6.0.2)\n",
            "Collecting requests-toolbelt (from roboflow)\n",
            "  Downloading requests_toolbelt-1.0.0-py2.py3-none-any.whl.metadata (14 kB)\n",
            "Collecting filetype (from roboflow)\n",
            "  Downloading filetype-1.2.0-py2.py3-none-any.whl.metadata (6.5 kB)\n",
            "Requirement already satisfied: contourpy>=1.0.1 in /usr/local/lib/python3.10/dist-packages (from matplotlib->roboflow) (1.2.1)\n",
            "Requirement already satisfied: fonttools>=4.22.0 in /usr/local/lib/python3.10/dist-packages (from matplotlib->roboflow) (4.53.1)\n",
            "Requirement already satisfied: packaging>=20.0 in /usr/local/lib/python3.10/dist-packages (from matplotlib->roboflow) (24.1)\n",
            "Requirement already satisfied: pyparsing>=2.3.1 in /usr/local/lib/python3.10/dist-packages (from matplotlib->roboflow) (3.1.2)\n",
            "Requirement already satisfied: charset-normalizer<4,>=2 in /usr/local/lib/python3.10/dist-packages (from requests->roboflow) (3.3.2)\n",
            "Downloading roboflow-1.1.37-py3-none-any.whl (76 kB)\n",
            "\u001b[2K   \u001b[90m━━━━━━━━━━━━━━━━━━━━━━━━━━━━━━━━━━━━━━━━\u001b[0m \u001b[32m76.9/76.9 kB\u001b[0m \u001b[31m6.2 MB/s\u001b[0m eta \u001b[36m0:00:00\u001b[0m\n",
            "\u001b[?25hDownloading chardet-4.0.0-py2.py3-none-any.whl (178 kB)\n",
            "\u001b[2K   \u001b[90m━━━━━━━━━━━━━━━━━━━━━━━━━━━━━━━━━━━━━━━━\u001b[0m \u001b[32m178.7/178.7 kB\u001b[0m \u001b[31m18.5 MB/s\u001b[0m eta \u001b[36m0:00:00\u001b[0m\n",
            "\u001b[?25hDownloading filetype-1.2.0-py2.py3-none-any.whl (19 kB)\n",
            "Downloading python_dotenv-1.0.1-py3-none-any.whl (19 kB)\n",
            "Downloading requests_toolbelt-1.0.0-py2.py3-none-any.whl (54 kB)\n",
            "\u001b[2K   \u001b[90m━━━━━━━━━━━━━━━━━━━━━━━━━━━━━━━━━━━━━━━━\u001b[0m \u001b[32m54.5/54.5 kB\u001b[0m \u001b[31m5.3 MB/s\u001b[0m eta \u001b[36m0:00:00\u001b[0m\n",
            "\u001b[?25hInstalling collected packages: filetype, python-dotenv, chardet, requests-toolbelt, roboflow\n",
            "  Attempting uninstall: chardet\n",
            "    Found existing installation: chardet 5.2.0\n",
            "    Uninstalling chardet-5.2.0:\n",
            "      Successfully uninstalled chardet-5.2.0\n",
            "Successfully installed chardet-4.0.0 filetype-1.2.0 python-dotenv-1.0.1 requests-toolbelt-1.0.0 roboflow-1.1.37\n"
          ]
        }
      ],
      "source": [
        "!pip install roboflow"
      ]
    },
    {
      "cell_type": "code",
      "source": [
        "from roboflow import Roboflow\n",
        "rf = Roboflow(api_key=\"S5hzzEqEOnKJ0XyrHWzK\")\n",
        "project = rf.workspace(\"geoproject\").project(\"geo-solar-tooai\")\n",
        "version = project.version(1)\n",
        "dataset = version.download(\"yolov8\")\n"
      ],
      "metadata": {
        "colab": {
          "base_uri": "https://localhost:8080/"
        },
        "id": "3WqkBxZZlmYV",
        "outputId": "0ca71d96-3423-4d4c-8f4c-9000c1e22df0"
      },
      "execution_count": null,
      "outputs": [
        {
          "output_type": "stream",
          "name": "stdout",
          "text": [
            "loading Roboflow workspace...\n",
            "loading Roboflow project...\n",
            "[WARNING] we noticed you are downloading a `yolov8` datasets but you don't have `ultralytics` installed. Roboflow `.deploy` supports only models trained with `ultralytics==8.0.196`, to intall it `pip install ultralytics==8.0.196`.\n"
          ]
        },
        {
          "output_type": "stream",
          "name": "stderr",
          "text": [
            "Downloading Dataset Version Zip in GEO-Solar-1 to yolov8:: 100%|██████████| 314608/314608 [00:19<00:00, 16186.91it/s]"
          ]
        },
        {
          "output_type": "stream",
          "name": "stdout",
          "text": [
            "\n"
          ]
        },
        {
          "output_type": "stream",
          "name": "stderr",
          "text": [
            "\n",
            "Extracting Dataset Version Zip to GEO-Solar-1 in yolov8:: 100%|██████████| 9712/9712 [00:01<00:00, 5210.88it/s]\n"
          ]
        }
      ]
    },
    {
      "cell_type": "code",
      "source": [
        "!pip install ultralytics\n"
      ],
      "metadata": {
        "colab": {
          "base_uri": "https://localhost:8080/"
        },
        "id": "bzKt1h5PnTXp",
        "outputId": "816b6089-772b-4a00-c8a4-281c6c01f6f3"
      },
      "execution_count": null,
      "outputs": [
        {
          "output_type": "stream",
          "name": "stdout",
          "text": [
            "Collecting ultralytics\n",
            "  Downloading ultralytics-8.2.75-py3-none-any.whl.metadata (41 kB)\n",
            "\u001b[?25l     \u001b[90m━━━━━━━━━━━━━━━━━━━━━━━━━━━━━━━━━━━━━━━━\u001b[0m \u001b[32m0.0/41.3 kB\u001b[0m \u001b[31m?\u001b[0m eta \u001b[36m-:--:--\u001b[0m\r\u001b[2K     \u001b[90m━━━━━━━━━━━━━━━━━━━━━━━━━━━━━━━━━━━━━━━━\u001b[0m \u001b[32m41.3/41.3 kB\u001b[0m \u001b[31m3.8 MB/s\u001b[0m eta \u001b[36m0:00:00\u001b[0m\n",
            "\u001b[?25hRequirement already satisfied: numpy<2.0.0,>=1.23.0 in /usr/local/lib/python3.10/dist-packages (from ultralytics) (1.26.4)\n",
            "Requirement already satisfied: matplotlib>=3.3.0 in /usr/local/lib/python3.10/dist-packages (from ultralytics) (3.7.1)\n",
            "Requirement already satisfied: opencv-python>=4.6.0 in /usr/local/lib/python3.10/dist-packages (from ultralytics) (4.10.0.84)\n",
            "Requirement already satisfied: pillow>=7.1.2 in /usr/local/lib/python3.10/dist-packages (from ultralytics) (9.4.0)\n",
            "Requirement already satisfied: pyyaml>=5.3.1 in /usr/local/lib/python3.10/dist-packages (from ultralytics) (6.0.2)\n",
            "Requirement already satisfied: requests>=2.23.0 in /usr/local/lib/python3.10/dist-packages (from ultralytics) (2.32.3)\n",
            "Requirement already satisfied: scipy>=1.4.1 in /usr/local/lib/python3.10/dist-packages (from ultralytics) (1.13.1)\n",
            "Requirement already satisfied: torch>=1.8.0 in /usr/local/lib/python3.10/dist-packages (from ultralytics) (2.3.1+cu121)\n",
            "Requirement already satisfied: torchvision>=0.9.0 in /usr/local/lib/python3.10/dist-packages (from ultralytics) (0.18.1+cu121)\n",
            "Requirement already satisfied: tqdm>=4.64.0 in /usr/local/lib/python3.10/dist-packages (from ultralytics) (4.66.5)\n",
            "Requirement already satisfied: psutil in /usr/local/lib/python3.10/dist-packages (from ultralytics) (5.9.5)\n",
            "Requirement already satisfied: py-cpuinfo in /usr/local/lib/python3.10/dist-packages (from ultralytics) (9.0.0)\n",
            "Requirement already satisfied: pandas>=1.1.4 in /usr/local/lib/python3.10/dist-packages (from ultralytics) (2.1.4)\n",
            "Requirement already satisfied: seaborn>=0.11.0 in /usr/local/lib/python3.10/dist-packages (from ultralytics) (0.13.1)\n",
            "Collecting ultralytics-thop>=2.0.0 (from ultralytics)\n",
            "  Downloading ultralytics_thop-2.0.0-py3-none-any.whl.metadata (8.5 kB)\n",
            "Requirement already satisfied: contourpy>=1.0.1 in /usr/local/lib/python3.10/dist-packages (from matplotlib>=3.3.0->ultralytics) (1.2.1)\n",
            "Requirement already satisfied: cycler>=0.10 in /usr/local/lib/python3.10/dist-packages (from matplotlib>=3.3.0->ultralytics) (0.12.1)\n",
            "Requirement already satisfied: fonttools>=4.22.0 in /usr/local/lib/python3.10/dist-packages (from matplotlib>=3.3.0->ultralytics) (4.53.1)\n",
            "Requirement already satisfied: kiwisolver>=1.0.1 in /usr/local/lib/python3.10/dist-packages (from matplotlib>=3.3.0->ultralytics) (1.4.5)\n",
            "Requirement already satisfied: packaging>=20.0 in /usr/local/lib/python3.10/dist-packages (from matplotlib>=3.3.0->ultralytics) (24.1)\n",
            "Requirement already satisfied: pyparsing>=2.3.1 in /usr/local/lib/python3.10/dist-packages (from matplotlib>=3.3.0->ultralytics) (3.1.2)\n",
            "Requirement already satisfied: python-dateutil>=2.7 in /usr/local/lib/python3.10/dist-packages (from matplotlib>=3.3.0->ultralytics) (2.8.2)\n",
            "Requirement already satisfied: pytz>=2020.1 in /usr/local/lib/python3.10/dist-packages (from pandas>=1.1.4->ultralytics) (2024.1)\n",
            "Requirement already satisfied: tzdata>=2022.1 in /usr/local/lib/python3.10/dist-packages (from pandas>=1.1.4->ultralytics) (2024.1)\n",
            "Requirement already satisfied: charset-normalizer<4,>=2 in /usr/local/lib/python3.10/dist-packages (from requests>=2.23.0->ultralytics) (3.3.2)\n",
            "Requirement already satisfied: idna<4,>=2.5 in /usr/local/lib/python3.10/dist-packages (from requests>=2.23.0->ultralytics) (3.7)\n",
            "Requirement already satisfied: urllib3<3,>=1.21.1 in /usr/local/lib/python3.10/dist-packages (from requests>=2.23.0->ultralytics) (2.0.7)\n",
            "Requirement already satisfied: certifi>=2017.4.17 in /usr/local/lib/python3.10/dist-packages (from requests>=2.23.0->ultralytics) (2024.7.4)\n",
            "Requirement already satisfied: filelock in /usr/local/lib/python3.10/dist-packages (from torch>=1.8.0->ultralytics) (3.15.4)\n",
            "Requirement already satisfied: typing-extensions>=4.8.0 in /usr/local/lib/python3.10/dist-packages (from torch>=1.8.0->ultralytics) (4.12.2)\n",
            "Requirement already satisfied: sympy in /usr/local/lib/python3.10/dist-packages (from torch>=1.8.0->ultralytics) (1.13.1)\n",
            "Requirement already satisfied: networkx in /usr/local/lib/python3.10/dist-packages (from torch>=1.8.0->ultralytics) (3.3)\n",
            "Requirement already satisfied: jinja2 in /usr/local/lib/python3.10/dist-packages (from torch>=1.8.0->ultralytics) (3.1.4)\n",
            "Requirement already satisfied: fsspec in /usr/local/lib/python3.10/dist-packages (from torch>=1.8.0->ultralytics) (2024.6.1)\n",
            "Collecting nvidia-cuda-nvrtc-cu12==12.1.105 (from torch>=1.8.0->ultralytics)\n",
            "  Using cached nvidia_cuda_nvrtc_cu12-12.1.105-py3-none-manylinux1_x86_64.whl.metadata (1.5 kB)\n",
            "Collecting nvidia-cuda-runtime-cu12==12.1.105 (from torch>=1.8.0->ultralytics)\n",
            "  Using cached nvidia_cuda_runtime_cu12-12.1.105-py3-none-manylinux1_x86_64.whl.metadata (1.5 kB)\n",
            "Collecting nvidia-cuda-cupti-cu12==12.1.105 (from torch>=1.8.0->ultralytics)\n",
            "  Using cached nvidia_cuda_cupti_cu12-12.1.105-py3-none-manylinux1_x86_64.whl.metadata (1.6 kB)\n",
            "Collecting nvidia-cudnn-cu12==8.9.2.26 (from torch>=1.8.0->ultralytics)\n",
            "  Using cached nvidia_cudnn_cu12-8.9.2.26-py3-none-manylinux1_x86_64.whl.metadata (1.6 kB)\n",
            "Collecting nvidia-cublas-cu12==12.1.3.1 (from torch>=1.8.0->ultralytics)\n",
            "  Using cached nvidia_cublas_cu12-12.1.3.1-py3-none-manylinux1_x86_64.whl.metadata (1.5 kB)\n",
            "Collecting nvidia-cufft-cu12==11.0.2.54 (from torch>=1.8.0->ultralytics)\n",
            "  Using cached nvidia_cufft_cu12-11.0.2.54-py3-none-manylinux1_x86_64.whl.metadata (1.5 kB)\n",
            "Collecting nvidia-curand-cu12==10.3.2.106 (from torch>=1.8.0->ultralytics)\n",
            "  Using cached nvidia_curand_cu12-10.3.2.106-py3-none-manylinux1_x86_64.whl.metadata (1.5 kB)\n",
            "Collecting nvidia-cusolver-cu12==11.4.5.107 (from torch>=1.8.0->ultralytics)\n",
            "  Using cached nvidia_cusolver_cu12-11.4.5.107-py3-none-manylinux1_x86_64.whl.metadata (1.6 kB)\n",
            "Collecting nvidia-cusparse-cu12==12.1.0.106 (from torch>=1.8.0->ultralytics)\n",
            "  Using cached nvidia_cusparse_cu12-12.1.0.106-py3-none-manylinux1_x86_64.whl.metadata (1.6 kB)\n",
            "Collecting nvidia-nccl-cu12==2.20.5 (from torch>=1.8.0->ultralytics)\n",
            "  Using cached nvidia_nccl_cu12-2.20.5-py3-none-manylinux2014_x86_64.whl.metadata (1.8 kB)\n",
            "Collecting nvidia-nvtx-cu12==12.1.105 (from torch>=1.8.0->ultralytics)\n",
            "  Using cached nvidia_nvtx_cu12-12.1.105-py3-none-manylinux1_x86_64.whl.metadata (1.7 kB)\n",
            "Requirement already satisfied: triton==2.3.1 in /usr/local/lib/python3.10/dist-packages (from torch>=1.8.0->ultralytics) (2.3.1)\n",
            "Collecting nvidia-nvjitlink-cu12 (from nvidia-cusolver-cu12==11.4.5.107->torch>=1.8.0->ultralytics)\n",
            "  Using cached nvidia_nvjitlink_cu12-12.6.20-py3-none-manylinux2014_x86_64.whl.metadata (1.5 kB)\n",
            "Requirement already satisfied: six>=1.5 in /usr/local/lib/python3.10/dist-packages (from python-dateutil>=2.7->matplotlib>=3.3.0->ultralytics) (1.16.0)\n",
            "Requirement already satisfied: MarkupSafe>=2.0 in /usr/local/lib/python3.10/dist-packages (from jinja2->torch>=1.8.0->ultralytics) (2.1.5)\n",
            "Requirement already satisfied: mpmath<1.4,>=1.1.0 in /usr/local/lib/python3.10/dist-packages (from sympy->torch>=1.8.0->ultralytics) (1.3.0)\n",
            "Downloading ultralytics-8.2.75-py3-none-any.whl (865 kB)\n",
            "\u001b[2K   \u001b[90m━━━━━━━━━━━━━━━━━━━━━━━━━━━━━━━━━━━━━━━━\u001b[0m \u001b[32m865.6/865.6 kB\u001b[0m \u001b[31m21.1 MB/s\u001b[0m eta \u001b[36m0:00:00\u001b[0m\n",
            "\u001b[?25hUsing cached nvidia_cublas_cu12-12.1.3.1-py3-none-manylinux1_x86_64.whl (410.6 MB)\n",
            "Using cached nvidia_cuda_cupti_cu12-12.1.105-py3-none-manylinux1_x86_64.whl (14.1 MB)\n",
            "Using cached nvidia_cuda_nvrtc_cu12-12.1.105-py3-none-manylinux1_x86_64.whl (23.7 MB)\n",
            "Using cached nvidia_cuda_runtime_cu12-12.1.105-py3-none-manylinux1_x86_64.whl (823 kB)\n",
            "Using cached nvidia_cudnn_cu12-8.9.2.26-py3-none-manylinux1_x86_64.whl (731.7 MB)\n",
            "Using cached nvidia_cufft_cu12-11.0.2.54-py3-none-manylinux1_x86_64.whl (121.6 MB)\n",
            "Using cached nvidia_curand_cu12-10.3.2.106-py3-none-manylinux1_x86_64.whl (56.5 MB)\n",
            "Using cached nvidia_cusolver_cu12-11.4.5.107-py3-none-manylinux1_x86_64.whl (124.2 MB)\n",
            "Using cached nvidia_cusparse_cu12-12.1.0.106-py3-none-manylinux1_x86_64.whl (196.0 MB)\n",
            "Using cached nvidia_nccl_cu12-2.20.5-py3-none-manylinux2014_x86_64.whl (176.2 MB)\n",
            "Using cached nvidia_nvtx_cu12-12.1.105-py3-none-manylinux1_x86_64.whl (99 kB)\n",
            "Downloading ultralytics_thop-2.0.0-py3-none-any.whl (25 kB)\n",
            "Using cached nvidia_nvjitlink_cu12-12.6.20-py3-none-manylinux2014_x86_64.whl (19.7 MB)\n",
            "Installing collected packages: nvidia-nvtx-cu12, nvidia-nvjitlink-cu12, nvidia-nccl-cu12, nvidia-curand-cu12, nvidia-cufft-cu12, nvidia-cuda-runtime-cu12, nvidia-cuda-nvrtc-cu12, nvidia-cuda-cupti-cu12, nvidia-cublas-cu12, nvidia-cusparse-cu12, nvidia-cudnn-cu12, nvidia-cusolver-cu12, ultralytics-thop, ultralytics\n",
            "Successfully installed nvidia-cublas-cu12-12.1.3.1 nvidia-cuda-cupti-cu12-12.1.105 nvidia-cuda-nvrtc-cu12-12.1.105 nvidia-cuda-runtime-cu12-12.1.105 nvidia-cudnn-cu12-8.9.2.26 nvidia-cufft-cu12-11.0.2.54 nvidia-curand-cu12-10.3.2.106 nvidia-cusolver-cu12-11.4.5.107 nvidia-cusparse-cu12-12.1.0.106 nvidia-nccl-cu12-2.20.5 nvidia-nvjitlink-cu12-12.6.20 nvidia-nvtx-cu12-12.1.105 ultralytics-8.2.75 ultralytics-thop-2.0.0\n"
          ]
        }
      ]
    },
    {
      "cell_type": "code",
      "source": [
        "from ultralytics import YOLO\n",
        "\n",
        "# Load the pre-trained YOLOv8n model\n",
        "model = YOLO('yolov8n.pt')"
      ],
      "metadata": {
        "id": "43c_GrFWnqvV"
      },
      "execution_count": 7,
      "outputs": []
    },
    {
      "cell_type": "code",
      "source": [
        "model.train(data='/content/GEO-Solar-1/data.yaml', epochs=50, imgsz=640)\n"
      ],
      "metadata": {
        "id": "d4fL8PRCoOsg",
        "colab": {
          "base_uri": "https://localhost:8080/"
        },
        "outputId": "b5c3f0ae-0c48-4e03-cdec-0e0f6232ee74"
      },
      "execution_count": 9,
      "outputs": [
        {
          "output_type": "stream",
          "name": "stdout",
          "text": [
            "Ultralytics YOLOv8.2.75 🚀 Python-3.10.12 torch-2.3.1+cu121 CUDA:0 (Tesla T4, 15102MiB)\n",
            "\u001b[34m\u001b[1mengine/trainer: \u001b[0mtask=detect, mode=train, model=yolov8n.pt, data=/content/GEO-Solar-1/data.yaml, epochs=50, time=None, patience=100, batch=16, imgsz=640, save=True, save_period=-1, cache=False, device=None, workers=8, project=None, name=train4, exist_ok=False, pretrained=True, optimizer=auto, verbose=True, seed=0, deterministic=True, single_cls=False, rect=False, cos_lr=False, close_mosaic=10, resume=False, amp=True, fraction=1.0, profile=False, freeze=None, multi_scale=False, overlap_mask=True, mask_ratio=4, dropout=0.0, val=True, split=val, save_json=False, save_hybrid=False, conf=None, iou=0.7, max_det=300, half=False, dnn=False, plots=True, source=None, vid_stride=1, stream_buffer=False, visualize=False, augment=False, agnostic_nms=False, classes=None, retina_masks=False, embed=None, show=False, save_frames=False, save_txt=False, save_conf=False, save_crop=False, show_labels=True, show_conf=True, show_boxes=True, line_width=None, format=torchscript, keras=False, optimize=False, int8=False, dynamic=False, simplify=False, opset=None, workspace=4, nms=False, lr0=0.01, lrf=0.01, momentum=0.937, weight_decay=0.0005, warmup_epochs=3.0, warmup_momentum=0.8, warmup_bias_lr=0.1, box=7.5, cls=0.5, dfl=1.5, pose=12.0, kobj=1.0, label_smoothing=0.0, nbs=64, hsv_h=0.015, hsv_s=0.7, hsv_v=0.4, degrees=0.0, translate=0.1, scale=0.5, shear=0.0, perspective=0.0, flipud=0.0, fliplr=0.5, bgr=0.0, mosaic=1.0, mixup=0.0, copy_paste=0.0, auto_augment=randaugment, erasing=0.4, crop_fraction=1.0, cfg=None, tracker=botsort.yaml, save_dir=runs/detect/train4\n",
            "Downloading https://ultralytics.com/assets/Arial.ttf to '/root/.config/Ultralytics/Arial.ttf'...\n"
          ]
        },
        {
          "output_type": "stream",
          "name": "stderr",
          "text": [
            "100%|██████████| 755k/755k [00:00<00:00, 136MB/s]\n"
          ]
        },
        {
          "output_type": "stream",
          "name": "stdout",
          "text": [
            "Overriding model.yaml nc=80 with nc=1\n",
            "\n",
            "                   from  n    params  module                                       arguments                     \n",
            "  0                  -1  1       464  ultralytics.nn.modules.conv.Conv             [3, 16, 3, 2]                 \n",
            "  1                  -1  1      4672  ultralytics.nn.modules.conv.Conv             [16, 32, 3, 2]                \n",
            "  2                  -1  1      7360  ultralytics.nn.modules.block.C2f             [32, 32, 1, True]             \n",
            "  3                  -1  1     18560  ultralytics.nn.modules.conv.Conv             [32, 64, 3, 2]                \n",
            "  4                  -1  2     49664  ultralytics.nn.modules.block.C2f             [64, 64, 2, True]             \n",
            "  5                  -1  1     73984  ultralytics.nn.modules.conv.Conv             [64, 128, 3, 2]               \n",
            "  6                  -1  2    197632  ultralytics.nn.modules.block.C2f             [128, 128, 2, True]           \n",
            "  7                  -1  1    295424  ultralytics.nn.modules.conv.Conv             [128, 256, 3, 2]              \n",
            "  8                  -1  1    460288  ultralytics.nn.modules.block.C2f             [256, 256, 1, True]           \n",
            "  9                  -1  1    164608  ultralytics.nn.modules.block.SPPF            [256, 256, 5]                 \n",
            " 10                  -1  1         0  torch.nn.modules.upsampling.Upsample         [None, 2, 'nearest']          \n",
            " 11             [-1, 6]  1         0  ultralytics.nn.modules.conv.Concat           [1]                           \n",
            " 12                  -1  1    148224  ultralytics.nn.modules.block.C2f             [384, 128, 1]                 \n",
            " 13                  -1  1         0  torch.nn.modules.upsampling.Upsample         [None, 2, 'nearest']          \n",
            " 14             [-1, 4]  1         0  ultralytics.nn.modules.conv.Concat           [1]                           \n",
            " 15                  -1  1     37248  ultralytics.nn.modules.block.C2f             [192, 64, 1]                  \n",
            " 16                  -1  1     36992  ultralytics.nn.modules.conv.Conv             [64, 64, 3, 2]                \n",
            " 17            [-1, 12]  1         0  ultralytics.nn.modules.conv.Concat           [1]                           \n",
            " 18                  -1  1    123648  ultralytics.nn.modules.block.C2f             [192, 128, 1]                 \n",
            " 19                  -1  1    147712  ultralytics.nn.modules.conv.Conv             [128, 128, 3, 2]              \n",
            " 20             [-1, 9]  1         0  ultralytics.nn.modules.conv.Concat           [1]                           \n",
            " 21                  -1  1    493056  ultralytics.nn.modules.block.C2f             [384, 256, 1]                 \n",
            " 22        [15, 18, 21]  1    751507  ultralytics.nn.modules.head.Detect           [1, [64, 128, 256]]           \n",
            "Model summary: 225 layers, 3,011,043 parameters, 3,011,027 gradients, 8.2 GFLOPs\n",
            "\n",
            "Transferred 319/355 items from pretrained weights\n",
            "\u001b[34m\u001b[1mTensorBoard: \u001b[0mStart with 'tensorboard --logdir runs/detect/train4', view at http://localhost:6006/\n",
            "Freezing layer 'model.22.dfl.conv.weight'\n",
            "\u001b[34m\u001b[1mAMP: \u001b[0mrunning Automatic Mixed Precision (AMP) checks with YOLOv8n...\n",
            "\u001b[34m\u001b[1mAMP: \u001b[0mchecks passed ✅\n"
          ]
        },
        {
          "output_type": "stream",
          "name": "stderr",
          "text": [
            "\u001b[34m\u001b[1mtrain: \u001b[0mScanning /content/GEO-Solar-1/train/labels... 4248 images, 30 backgrounds, 0 corrupt: 100%|██████████| 4248/4248 [00:07<00:00, 538.42it/s]\n"
          ]
        },
        {
          "output_type": "stream",
          "name": "stdout",
          "text": [
            "\u001b[34m\u001b[1mtrain: \u001b[0mNew cache created: /content/GEO-Solar-1/train/labels.cache\n",
            "WARNING ⚠️ Box and segment counts should be equal, but got len(segments) = 3897, len(boxes) = 18945. To resolve this only boxes will be used and all segments will be removed. To avoid this please supply either a detect or segment dataset, not a detect-segment mixed dataset.\n",
            "\u001b[34m\u001b[1malbumentations: \u001b[0mBlur(p=0.01, blur_limit=(3, 7)), MedianBlur(p=0.01, blur_limit=(3, 7)), ToGray(p=0.01), CLAHE(p=0.01, clip_limit=(1, 4.0), tile_grid_size=(8, 8))\n"
          ]
        },
        {
          "output_type": "stream",
          "name": "stderr",
          "text": [
            "os.fork() was called. os.fork() is incompatible with multithreaded code, and JAX is multithreaded, so this will likely lead to a deadlock.\n",
            "\u001b[34m\u001b[1mval: \u001b[0mScanning /content/GEO-Solar-1/valid/labels... 436 images, 2 backgrounds, 0 corrupt: 100%|██████████| 436/436 [00:00<00:00, 613.16it/s]\n"
          ]
        },
        {
          "output_type": "stream",
          "name": "stdout",
          "text": [
            "\u001b[34m\u001b[1mval: \u001b[0mNew cache created: /content/GEO-Solar-1/valid/labels.cache\n",
            "WARNING ⚠️ Box and segment counts should be equal, but got len(segments) = 325, len(boxes) = 1859. To resolve this only boxes will be used and all segments will be removed. To avoid this please supply either a detect or segment dataset, not a detect-segment mixed dataset.\n",
            "Plotting labels to runs/detect/train4/labels.jpg... \n",
            "\u001b[34m\u001b[1moptimizer:\u001b[0m 'optimizer=auto' found, ignoring 'lr0=0.01' and 'momentum=0.937' and determining best 'optimizer', 'lr0' and 'momentum' automatically... \n",
            "\u001b[34m\u001b[1moptimizer:\u001b[0m AdamW(lr=0.002, momentum=0.9) with parameter groups 57 weight(decay=0.0), 64 weight(decay=0.0005), 63 bias(decay=0.0)\n",
            "\u001b[34m\u001b[1mTensorBoard: \u001b[0mmodel graph visualization added ✅\n",
            "Image sizes 640 train, 640 val\n",
            "Using 2 dataloader workers\n",
            "Logging results to \u001b[1mruns/detect/train4\u001b[0m\n",
            "Starting training for 50 epochs...\n",
            "\n",
            "      Epoch    GPU_mem   box_loss   cls_loss   dfl_loss  Instances       Size\n"
          ]
        },
        {
          "output_type": "stream",
          "name": "stderr",
          "text": [
            "       1/50      2.51G      1.069       1.47      1.159         41        640: 100%|██████████| 266/266 [01:36<00:00,  2.75it/s]\n",
            "                 Class     Images  Instances      Box(P          R      mAP50  mAP50-95): 100%|██████████| 14/14 [00:07<00:00,  1.81it/s]"
          ]
        },
        {
          "output_type": "stream",
          "name": "stdout",
          "text": [
            "                   all        436       1859      0.792      0.724      0.776       0.58\n"
          ]
        },
        {
          "output_type": "stream",
          "name": "stderr",
          "text": [
            "\n"
          ]
        },
        {
          "output_type": "stream",
          "name": "stdout",
          "text": [
            "\n",
            "      Epoch    GPU_mem   box_loss   cls_loss   dfl_loss  Instances       Size\n"
          ]
        },
        {
          "output_type": "stream",
          "name": "stderr",
          "text": [
            "       2/50      2.31G      1.068      1.063      1.158         21        640: 100%|██████████| 266/266 [01:27<00:00,  3.02it/s]\n",
            "                 Class     Images  Instances      Box(P          R      mAP50  mAP50-95): 100%|██████████| 14/14 [00:03<00:00,  3.52it/s]\n"
          ]
        },
        {
          "output_type": "stream",
          "name": "stdout",
          "text": [
            "                   all        436       1859      0.689      0.621       0.67      0.465\n",
            "\n",
            "      Epoch    GPU_mem   box_loss   cls_loss   dfl_loss  Instances       Size\n"
          ]
        },
        {
          "output_type": "stream",
          "name": "stderr",
          "text": [
            "       3/50       2.3G      1.046     0.9671      1.143         58        640: 100%|██████████| 266/266 [01:28<00:00,  3.01it/s]\n",
            "                 Class     Images  Instances      Box(P          R      mAP50  mAP50-95): 100%|██████████| 14/14 [00:05<00:00,  2.35it/s]"
          ]
        },
        {
          "output_type": "stream",
          "name": "stdout",
          "text": [
            "                   all        436       1859       0.67      0.687       0.67      0.488\n"
          ]
        },
        {
          "output_type": "stream",
          "name": "stderr",
          "text": [
            "\n"
          ]
        },
        {
          "output_type": "stream",
          "name": "stdout",
          "text": [
            "\n",
            "      Epoch    GPU_mem   box_loss   cls_loss   dfl_loss  Instances       Size\n"
          ]
        },
        {
          "output_type": "stream",
          "name": "stderr",
          "text": [
            "       4/50       2.3G      1.026     0.9128      1.137         35        640: 100%|██████████| 266/266 [01:27<00:00,  3.03it/s]\n",
            "                 Class     Images  Instances      Box(P          R      mAP50  mAP50-95): 100%|██████████| 14/14 [00:03<00:00,  3.69it/s]\n"
          ]
        },
        {
          "output_type": "stream",
          "name": "stdout",
          "text": [
            "                   all        436       1859      0.835      0.722      0.807      0.618\n",
            "\n",
            "      Epoch    GPU_mem   box_loss   cls_loss   dfl_loss  Instances       Size\n"
          ]
        },
        {
          "output_type": "stream",
          "name": "stderr",
          "text": [
            "       5/50      2.35G     0.9795     0.8698      1.115         35        640: 100%|██████████| 266/266 [01:27<00:00,  3.04it/s]\n",
            "                 Class     Images  Instances      Box(P          R      mAP50  mAP50-95): 100%|██████████| 14/14 [00:06<00:00,  2.29it/s]"
          ]
        },
        {
          "output_type": "stream",
          "name": "stdout",
          "text": [
            "                   all        436       1859      0.829      0.746      0.819      0.618\n"
          ]
        },
        {
          "output_type": "stream",
          "name": "stderr",
          "text": [
            "\n"
          ]
        },
        {
          "output_type": "stream",
          "name": "stdout",
          "text": [
            "\n",
            "      Epoch    GPU_mem   box_loss   cls_loss   dfl_loss  Instances       Size\n"
          ]
        },
        {
          "output_type": "stream",
          "name": "stderr",
          "text": [
            "       6/50      2.27G      0.957     0.8359      1.103         20        640: 100%|██████████| 266/266 [01:27<00:00,  3.04it/s]\n",
            "                 Class     Images  Instances      Box(P          R      mAP50  mAP50-95): 100%|██████████| 14/14 [00:03<00:00,  3.63it/s]\n"
          ]
        },
        {
          "output_type": "stream",
          "name": "stdout",
          "text": [
            "                   all        436       1859      0.873      0.776      0.872      0.669\n",
            "\n",
            "      Epoch    GPU_mem   box_loss   cls_loss   dfl_loss  Instances       Size\n"
          ]
        },
        {
          "output_type": "stream",
          "name": "stderr",
          "text": [
            "       7/50      2.43G       0.92     0.7788      1.082         33        640: 100%|██████████| 266/266 [01:29<00:00,  2.98it/s]\n",
            "                 Class     Images  Instances      Box(P          R      mAP50  mAP50-95): 100%|██████████| 14/14 [00:06<00:00,  2.07it/s]\n"
          ]
        },
        {
          "output_type": "stream",
          "name": "stdout",
          "text": [
            "                   all        436       1859      0.869      0.795      0.883      0.682\n",
            "\n",
            "      Epoch    GPU_mem   box_loss   cls_loss   dfl_loss  Instances       Size\n"
          ]
        },
        {
          "output_type": "stream",
          "name": "stderr",
          "text": [
            "       8/50       2.3G      0.914       0.76       1.08         54        640: 100%|██████████| 266/266 [01:28<00:00,  2.99it/s]\n",
            "                 Class     Images  Instances      Box(P          R      mAP50  mAP50-95): 100%|██████████| 14/14 [00:03<00:00,  3.61it/s]\n"
          ]
        },
        {
          "output_type": "stream",
          "name": "stdout",
          "text": [
            "                   all        436       1859      0.855       0.82      0.895      0.698\n",
            "\n",
            "      Epoch    GPU_mem   box_loss   cls_loss   dfl_loss  Instances       Size\n"
          ]
        },
        {
          "output_type": "stream",
          "name": "stderr",
          "text": [
            "       9/50      2.33G     0.8916     0.7371      1.068         67        640: 100%|██████████| 266/266 [01:28<00:00,  3.01it/s]\n",
            "                 Class     Images  Instances      Box(P          R      mAP50  mAP50-95): 100%|██████████| 14/14 [00:05<00:00,  2.48it/s]"
          ]
        },
        {
          "output_type": "stream",
          "name": "stdout",
          "text": [
            "                   all        436       1859      0.865      0.827      0.903      0.697\n"
          ]
        },
        {
          "output_type": "stream",
          "name": "stderr",
          "text": [
            "\n"
          ]
        },
        {
          "output_type": "stream",
          "name": "stdout",
          "text": [
            "\n",
            "      Epoch    GPU_mem   box_loss   cls_loss   dfl_loss  Instances       Size\n"
          ]
        },
        {
          "output_type": "stream",
          "name": "stderr",
          "text": [
            "      10/50      2.34G     0.8785     0.7016      1.064         46        640: 100%|██████████| 266/266 [01:29<00:00,  2.99it/s]\n",
            "                 Class     Images  Instances      Box(P          R      mAP50  mAP50-95): 100%|██████████| 14/14 [00:03<00:00,  3.62it/s]"
          ]
        },
        {
          "output_type": "stream",
          "name": "stdout",
          "text": [
            "                   all        436       1859      0.872        0.8      0.885      0.684\n"
          ]
        },
        {
          "output_type": "stream",
          "name": "stderr",
          "text": [
            "\n"
          ]
        },
        {
          "output_type": "stream",
          "name": "stdout",
          "text": [
            "\n",
            "      Epoch    GPU_mem   box_loss   cls_loss   dfl_loss  Instances       Size\n"
          ]
        },
        {
          "output_type": "stream",
          "name": "stderr",
          "text": [
            "      11/50      2.42G     0.8711     0.6962      1.059         52        640: 100%|██████████| 266/266 [01:26<00:00,  3.06it/s]\n",
            "                 Class     Images  Instances      Box(P          R      mAP50  mAP50-95): 100%|██████████| 14/14 [00:04<00:00,  2.93it/s]"
          ]
        },
        {
          "output_type": "stream",
          "name": "stdout",
          "text": [
            "                   all        436       1859      0.897      0.805      0.909      0.718\n"
          ]
        },
        {
          "output_type": "stream",
          "name": "stderr",
          "text": [
            "\n"
          ]
        },
        {
          "output_type": "stream",
          "name": "stdout",
          "text": [
            "\n",
            "      Epoch    GPU_mem   box_loss   cls_loss   dfl_loss  Instances       Size\n"
          ]
        },
        {
          "output_type": "stream",
          "name": "stderr",
          "text": [
            "      12/50      2.21G     0.8615      0.688      1.051         30        640: 100%|██████████| 266/266 [01:28<00:00,  2.99it/s]\n",
            "                 Class     Images  Instances      Box(P          R      mAP50  mAP50-95): 100%|██████████| 14/14 [00:03<00:00,  3.56it/s]\n"
          ]
        },
        {
          "output_type": "stream",
          "name": "stdout",
          "text": [
            "                   all        436       1859       0.86      0.828      0.892      0.708\n",
            "\n",
            "      Epoch    GPU_mem   box_loss   cls_loss   dfl_loss  Instances       Size\n"
          ]
        },
        {
          "output_type": "stream",
          "name": "stderr",
          "text": [
            "      13/50      2.28G     0.8459      0.666      1.045         58        640: 100%|██████████| 266/266 [01:27<00:00,  3.04it/s]\n",
            "                 Class     Images  Instances      Box(P          R      mAP50  mAP50-95): 100%|██████████| 14/14 [00:03<00:00,  3.61it/s]"
          ]
        },
        {
          "output_type": "stream",
          "name": "stdout",
          "text": [
            "                   all        436       1859      0.896      0.805      0.907      0.725\n"
          ]
        },
        {
          "output_type": "stream",
          "name": "stderr",
          "text": [
            "\n"
          ]
        },
        {
          "output_type": "stream",
          "name": "stdout",
          "text": [
            "\n",
            "      Epoch    GPU_mem   box_loss   cls_loss   dfl_loss  Instances       Size\n"
          ]
        },
        {
          "output_type": "stream",
          "name": "stderr",
          "text": [
            "      14/50      2.18G     0.8354      0.658       1.04         75        640: 100%|██████████| 266/266 [01:27<00:00,  3.04it/s]\n",
            "                 Class     Images  Instances      Box(P          R      mAP50  mAP50-95): 100%|██████████| 14/14 [00:05<00:00,  2.54it/s]"
          ]
        },
        {
          "output_type": "stream",
          "name": "stdout",
          "text": [
            "                   all        436       1859      0.901      0.802        0.9      0.718\n"
          ]
        },
        {
          "output_type": "stream",
          "name": "stderr",
          "text": [
            "\n"
          ]
        },
        {
          "output_type": "stream",
          "name": "stdout",
          "text": [
            "\n",
            "      Epoch    GPU_mem   box_loss   cls_loss   dfl_loss  Instances       Size\n"
          ]
        },
        {
          "output_type": "stream",
          "name": "stderr",
          "text": [
            "      15/50      2.33G     0.8367     0.6603      1.041         39        640: 100%|██████████| 266/266 [01:26<00:00,  3.07it/s]\n",
            "                 Class     Images  Instances      Box(P          R      mAP50  mAP50-95): 100%|██████████| 14/14 [00:03<00:00,  3.62it/s]\n"
          ]
        },
        {
          "output_type": "stream",
          "name": "stdout",
          "text": [
            "                   all        436       1859      0.852      0.836      0.898      0.713\n",
            "\n",
            "      Epoch    GPU_mem   box_loss   cls_loss   dfl_loss  Instances       Size\n"
          ]
        },
        {
          "output_type": "stream",
          "name": "stderr",
          "text": [
            "      16/50      2.27G     0.8215      0.639      1.039         42        640: 100%|██████████| 266/266 [01:27<00:00,  3.03it/s]\n",
            "                 Class     Images  Instances      Box(P          R      mAP50  mAP50-95): 100%|██████████| 14/14 [00:06<00:00,  2.32it/s]"
          ]
        },
        {
          "output_type": "stream",
          "name": "stdout",
          "text": [
            "                   all        436       1859      0.874      0.839      0.914      0.732\n"
          ]
        },
        {
          "output_type": "stream",
          "name": "stderr",
          "text": [
            "\n"
          ]
        },
        {
          "output_type": "stream",
          "name": "stdout",
          "text": [
            "\n",
            "      Epoch    GPU_mem   box_loss   cls_loss   dfl_loss  Instances       Size\n"
          ]
        },
        {
          "output_type": "stream",
          "name": "stderr",
          "text": [
            "      17/50      2.28G     0.8138     0.6348       1.03         62        640: 100%|██████████| 266/266 [01:27<00:00,  3.04it/s]\n",
            "                 Class     Images  Instances      Box(P          R      mAP50  mAP50-95): 100%|██████████| 14/14 [00:04<00:00,  3.45it/s]"
          ]
        },
        {
          "output_type": "stream",
          "name": "stdout",
          "text": [
            "                   all        436       1859      0.884      0.846      0.922      0.746\n"
          ]
        },
        {
          "output_type": "stream",
          "name": "stderr",
          "text": [
            "\n"
          ]
        },
        {
          "output_type": "stream",
          "name": "stdout",
          "text": [
            "\n",
            "      Epoch    GPU_mem   box_loss   cls_loss   dfl_loss  Instances       Size\n"
          ]
        },
        {
          "output_type": "stream",
          "name": "stderr",
          "text": [
            "      18/50      2.27G     0.8112     0.6216      1.024         75        640: 100%|██████████| 266/266 [01:25<00:00,  3.09it/s]\n",
            "                 Class     Images  Instances      Box(P          R      mAP50  mAP50-95): 100%|██████████| 14/14 [00:04<00:00,  3.07it/s]"
          ]
        },
        {
          "output_type": "stream",
          "name": "stdout",
          "text": [
            "                   all        436       1859      0.887      0.829      0.911      0.732\n"
          ]
        },
        {
          "output_type": "stream",
          "name": "stderr",
          "text": [
            "\n"
          ]
        },
        {
          "output_type": "stream",
          "name": "stdout",
          "text": [
            "\n",
            "      Epoch    GPU_mem   box_loss   cls_loss   dfl_loss  Instances       Size\n"
          ]
        },
        {
          "output_type": "stream",
          "name": "stderr",
          "text": [
            "      19/50      2.34G     0.8048     0.6243      1.026         39        640: 100%|██████████| 266/266 [01:26<00:00,  3.06it/s]\n",
            "                 Class     Images  Instances      Box(P          R      mAP50  mAP50-95): 100%|██████████| 14/14 [00:04<00:00,  2.83it/s]\n"
          ]
        },
        {
          "output_type": "stream",
          "name": "stdout",
          "text": [
            "                   all        436       1859       0.89      0.858      0.928      0.746\n",
            "\n",
            "      Epoch    GPU_mem   box_loss   cls_loss   dfl_loss  Instances       Size\n"
          ]
        },
        {
          "output_type": "stream",
          "name": "stderr",
          "text": [
            "      20/50       2.3G     0.7954     0.6112      1.025         39        640: 100%|██████████| 266/266 [01:27<00:00,  3.05it/s]\n",
            "                 Class     Images  Instances      Box(P          R      mAP50  mAP50-95): 100%|██████████| 14/14 [00:03<00:00,  3.60it/s]"
          ]
        },
        {
          "output_type": "stream",
          "name": "stdout",
          "text": [
            "                   all        436       1859      0.888      0.848      0.919      0.745\n"
          ]
        },
        {
          "output_type": "stream",
          "name": "stderr",
          "text": [
            "\n"
          ]
        },
        {
          "output_type": "stream",
          "name": "stdout",
          "text": [
            "\n",
            "      Epoch    GPU_mem   box_loss   cls_loss   dfl_loss  Instances       Size\n"
          ]
        },
        {
          "output_type": "stream",
          "name": "stderr",
          "text": [
            "      21/50       2.3G     0.7857     0.5994      1.013         43        640: 100%|██████████| 266/266 [01:27<00:00,  3.06it/s]\n",
            "                 Class     Images  Instances      Box(P          R      mAP50  mAP50-95): 100%|██████████| 14/14 [00:06<00:00,  2.25it/s]\n"
          ]
        },
        {
          "output_type": "stream",
          "name": "stdout",
          "text": [
            "                   all        436       1859       0.88      0.859      0.926      0.747\n",
            "\n",
            "      Epoch    GPU_mem   box_loss   cls_loss   dfl_loss  Instances       Size\n"
          ]
        },
        {
          "output_type": "stream",
          "name": "stderr",
          "text": [
            "      22/50       2.3G     0.7819     0.5923      1.011         37        640: 100%|██████████| 266/266 [01:28<00:00,  3.02it/s]\n",
            "                 Class     Images  Instances      Box(P          R      mAP50  mAP50-95): 100%|██████████| 14/14 [00:03<00:00,  3.66it/s]\n"
          ]
        },
        {
          "output_type": "stream",
          "name": "stdout",
          "text": [
            "                   all        436       1859       0.88      0.878      0.939      0.765\n",
            "\n",
            "      Epoch    GPU_mem   box_loss   cls_loss   dfl_loss  Instances       Size\n"
          ]
        },
        {
          "output_type": "stream",
          "name": "stderr",
          "text": [
            "      23/50      2.33G     0.7744     0.5819       1.01         64        640: 100%|██████████| 266/266 [01:27<00:00,  3.03it/s]\n",
            "                 Class     Images  Instances      Box(P          R      mAP50  mAP50-95): 100%|██████████| 14/14 [00:05<00:00,  2.44it/s]"
          ]
        },
        {
          "output_type": "stream",
          "name": "stdout",
          "text": [
            "                   all        436       1859      0.889      0.866      0.936       0.76\n"
          ]
        },
        {
          "output_type": "stream",
          "name": "stderr",
          "text": [
            "\n"
          ]
        },
        {
          "output_type": "stream",
          "name": "stdout",
          "text": [
            "\n",
            "      Epoch    GPU_mem   box_loss   cls_loss   dfl_loss  Instances       Size\n"
          ]
        },
        {
          "output_type": "stream",
          "name": "stderr",
          "text": [
            "      24/50      2.27G     0.7727      0.574      1.009         52        640: 100%|██████████| 266/266 [01:27<00:00,  3.03it/s]\n",
            "                 Class     Images  Instances      Box(P          R      mAP50  mAP50-95): 100%|██████████| 14/14 [00:03<00:00,  3.62it/s]"
          ]
        },
        {
          "output_type": "stream",
          "name": "stdout",
          "text": [
            "                   all        436       1859      0.898      0.861      0.938      0.767\n"
          ]
        },
        {
          "output_type": "stream",
          "name": "stderr",
          "text": [
            "\n"
          ]
        },
        {
          "output_type": "stream",
          "name": "stdout",
          "text": [
            "\n",
            "      Epoch    GPU_mem   box_loss   cls_loss   dfl_loss  Instances       Size\n"
          ]
        },
        {
          "output_type": "stream",
          "name": "stderr",
          "text": [
            "      25/50      2.41G     0.7607     0.5625      1.001         46        640: 100%|██████████| 266/266 [01:27<00:00,  3.03it/s]\n",
            "                 Class     Images  Instances      Box(P          R      mAP50  mAP50-95): 100%|██████████| 14/14 [00:03<00:00,  3.57it/s]"
          ]
        },
        {
          "output_type": "stream",
          "name": "stdout",
          "text": [
            "                   all        436       1859      0.882      0.867      0.938      0.764\n"
          ]
        },
        {
          "output_type": "stream",
          "name": "stderr",
          "text": [
            "\n"
          ]
        },
        {
          "output_type": "stream",
          "name": "stdout",
          "text": [
            "\n",
            "      Epoch    GPU_mem   box_loss   cls_loss   dfl_loss  Instances       Size\n"
          ]
        },
        {
          "output_type": "stream",
          "name": "stderr",
          "text": [
            "      26/50      2.27G     0.7569     0.5632     0.9999         51        640: 100%|██████████| 266/266 [01:27<00:00,  3.03it/s]\n",
            "                 Class     Images  Instances      Box(P          R      mAP50  mAP50-95): 100%|██████████| 14/14 [00:05<00:00,  2.40it/s]"
          ]
        },
        {
          "output_type": "stream",
          "name": "stdout",
          "text": [
            "                   all        436       1859      0.897      0.876      0.937      0.769\n"
          ]
        },
        {
          "output_type": "stream",
          "name": "stderr",
          "text": [
            "\n"
          ]
        },
        {
          "output_type": "stream",
          "name": "stdout",
          "text": [
            "\n",
            "      Epoch    GPU_mem   box_loss   cls_loss   dfl_loss  Instances       Size\n"
          ]
        },
        {
          "output_type": "stream",
          "name": "stderr",
          "text": [
            "      27/50      2.41G     0.7615     0.5629      1.004         42        640: 100%|██████████| 266/266 [01:27<00:00,  3.04it/s]\n",
            "                 Class     Images  Instances      Box(P          R      mAP50  mAP50-95): 100%|██████████| 14/14 [00:03<00:00,  3.56it/s]"
          ]
        },
        {
          "output_type": "stream",
          "name": "stdout",
          "text": [
            "                   all        436       1859      0.892      0.892      0.945      0.778\n"
          ]
        },
        {
          "output_type": "stream",
          "name": "stderr",
          "text": [
            "\n"
          ]
        },
        {
          "output_type": "stream",
          "name": "stdout",
          "text": [
            "\n",
            "      Epoch    GPU_mem   box_loss   cls_loss   dfl_loss  Instances       Size\n"
          ]
        },
        {
          "output_type": "stream",
          "name": "stderr",
          "text": [
            "      28/50      2.39G     0.7512     0.5566      0.997         42        640: 100%|██████████| 266/266 [01:27<00:00,  3.05it/s]\n",
            "                 Class     Images  Instances      Box(P          R      mAP50  mAP50-95): 100%|██████████| 14/14 [00:05<00:00,  2.51it/s]"
          ]
        },
        {
          "output_type": "stream",
          "name": "stdout",
          "text": [
            "                   all        436       1859      0.912      0.859      0.937      0.765\n"
          ]
        },
        {
          "output_type": "stream",
          "name": "stderr",
          "text": [
            "\n"
          ]
        },
        {
          "output_type": "stream",
          "name": "stdout",
          "text": [
            "\n",
            "      Epoch    GPU_mem   box_loss   cls_loss   dfl_loss  Instances       Size\n"
          ]
        },
        {
          "output_type": "stream",
          "name": "stderr",
          "text": [
            "      29/50      2.29G     0.7503     0.5468     0.9989         60        640: 100%|██████████| 266/266 [01:27<00:00,  3.02it/s]\n",
            "                 Class     Images  Instances      Box(P          R      mAP50  mAP50-95): 100%|██████████| 14/14 [00:04<00:00,  3.14it/s]"
          ]
        },
        {
          "output_type": "stream",
          "name": "stdout",
          "text": [
            "                   all        436       1859      0.896      0.873      0.941      0.776\n"
          ]
        },
        {
          "output_type": "stream",
          "name": "stderr",
          "text": [
            "\n"
          ]
        },
        {
          "output_type": "stream",
          "name": "stdout",
          "text": [
            "\n",
            "      Epoch    GPU_mem   box_loss   cls_loss   dfl_loss  Instances       Size\n"
          ]
        },
        {
          "output_type": "stream",
          "name": "stderr",
          "text": [
            "      30/50      2.29G     0.7424      0.553     0.9953         72        640: 100%|██████████| 266/266 [01:28<00:00,  3.02it/s]\n",
            "                 Class     Images  Instances      Box(P          R      mAP50  mAP50-95): 100%|██████████| 14/14 [00:03<00:00,  3.61it/s]"
          ]
        },
        {
          "output_type": "stream",
          "name": "stdout",
          "text": [
            "                   all        436       1859      0.898      0.859      0.935      0.766\n"
          ]
        },
        {
          "output_type": "stream",
          "name": "stderr",
          "text": [
            "\n"
          ]
        },
        {
          "output_type": "stream",
          "name": "stdout",
          "text": [
            "\n",
            "      Epoch    GPU_mem   box_loss   cls_loss   dfl_loss  Instances       Size\n"
          ]
        },
        {
          "output_type": "stream",
          "name": "stderr",
          "text": [
            "      31/50      2.29G     0.7367     0.5501     0.9959         47        640: 100%|██████████| 266/266 [01:27<00:00,  3.04it/s]\n",
            "                 Class     Images  Instances      Box(P          R      mAP50  mAP50-95): 100%|██████████| 14/14 [00:05<00:00,  2.56it/s]\n"
          ]
        },
        {
          "output_type": "stream",
          "name": "stdout",
          "text": [
            "                   all        436       1859      0.884      0.899      0.947      0.778\n",
            "\n",
            "      Epoch    GPU_mem   box_loss   cls_loss   dfl_loss  Instances       Size\n"
          ]
        },
        {
          "output_type": "stream",
          "name": "stderr",
          "text": [
            "      32/50       2.3G     0.7303     0.5329     0.9901         50        640: 100%|██████████| 266/266 [01:27<00:00,  3.04it/s]\n",
            "                 Class     Images  Instances      Box(P          R      mAP50  mAP50-95): 100%|██████████| 14/14 [00:03<00:00,  3.57it/s]\n"
          ]
        },
        {
          "output_type": "stream",
          "name": "stdout",
          "text": [
            "                   all        436       1859      0.934      0.855      0.943      0.777\n",
            "\n",
            "      Epoch    GPU_mem   box_loss   cls_loss   dfl_loss  Instances       Size\n"
          ]
        },
        {
          "output_type": "stream",
          "name": "stderr",
          "text": [
            "      33/50      2.31G     0.7239     0.5275     0.9875         88        640: 100%|██████████| 266/266 [01:28<00:00,  3.00it/s]\n",
            "                 Class     Images  Instances      Box(P          R      mAP50  mAP50-95): 100%|██████████| 14/14 [00:06<00:00,  2.12it/s]\n"
          ]
        },
        {
          "output_type": "stream",
          "name": "stdout",
          "text": [
            "                   all        436       1859      0.867      0.903      0.943      0.782\n",
            "\n",
            "      Epoch    GPU_mem   box_loss   cls_loss   dfl_loss  Instances       Size\n"
          ]
        },
        {
          "output_type": "stream",
          "name": "stderr",
          "text": [
            "      34/50      2.29G     0.7158     0.5232      0.978         96        640: 100%|██████████| 266/266 [01:27<00:00,  3.04it/s]\n",
            "                 Class     Images  Instances      Box(P          R      mAP50  mAP50-95): 100%|██████████| 14/14 [00:03<00:00,  3.62it/s]"
          ]
        },
        {
          "output_type": "stream",
          "name": "stdout",
          "text": [
            "                   all        436       1859      0.913      0.873      0.944      0.785\n"
          ]
        },
        {
          "output_type": "stream",
          "name": "stderr",
          "text": [
            "\n"
          ]
        },
        {
          "output_type": "stream",
          "name": "stdout",
          "text": [
            "\n",
            "      Epoch    GPU_mem   box_loss   cls_loss   dfl_loss  Instances       Size\n"
          ]
        },
        {
          "output_type": "stream",
          "name": "stderr",
          "text": [
            "      35/50       2.3G     0.7216     0.5211     0.9871         38        640: 100%|██████████| 266/266 [01:27<00:00,  3.05it/s]\n",
            "                 Class     Images  Instances      Box(P          R      mAP50  mAP50-95): 100%|██████████| 14/14 [00:05<00:00,  2.63it/s]"
          ]
        },
        {
          "output_type": "stream",
          "name": "stdout",
          "text": [
            "                   all        436       1859      0.906      0.885      0.948      0.789\n"
          ]
        },
        {
          "output_type": "stream",
          "name": "stderr",
          "text": [
            "\n"
          ]
        },
        {
          "output_type": "stream",
          "name": "stdout",
          "text": [
            "\n",
            "      Epoch    GPU_mem   box_loss   cls_loss   dfl_loss  Instances       Size\n"
          ]
        },
        {
          "output_type": "stream",
          "name": "stderr",
          "text": [
            "      36/50      2.45G     0.7091     0.5125     0.9786         57        640: 100%|██████████| 266/266 [01:27<00:00,  3.02it/s]\n",
            "                 Class     Images  Instances      Box(P          R      mAP50  mAP50-95): 100%|██████████| 14/14 [00:03<00:00,  3.57it/s]"
          ]
        },
        {
          "output_type": "stream",
          "name": "stdout",
          "text": [
            "                   all        436       1859      0.903      0.881      0.942      0.782\n"
          ]
        },
        {
          "output_type": "stream",
          "name": "stderr",
          "text": [
            "\n"
          ]
        },
        {
          "output_type": "stream",
          "name": "stdout",
          "text": [
            "\n",
            "      Epoch    GPU_mem   box_loss   cls_loss   dfl_loss  Instances       Size\n"
          ]
        },
        {
          "output_type": "stream",
          "name": "stderr",
          "text": [
            "      37/50      2.41G     0.7137     0.5116     0.9795         56        640: 100%|██████████| 266/266 [01:27<00:00,  3.03it/s]\n",
            "                 Class     Images  Instances      Box(P          R      mAP50  mAP50-95): 100%|██████████| 14/14 [00:03<00:00,  3.56it/s]"
          ]
        },
        {
          "output_type": "stream",
          "name": "stdout",
          "text": [
            "                   all        436       1859      0.916       0.88      0.943      0.786\n"
          ]
        },
        {
          "output_type": "stream",
          "name": "stderr",
          "text": [
            "\n"
          ]
        },
        {
          "output_type": "stream",
          "name": "stdout",
          "text": [
            "\n",
            "      Epoch    GPU_mem   box_loss   cls_loss   dfl_loss  Instances       Size\n"
          ]
        },
        {
          "output_type": "stream",
          "name": "stderr",
          "text": [
            "      38/50      2.29G     0.7051      0.501     0.9795         32        640: 100%|██████████| 266/266 [01:26<00:00,  3.08it/s]\n",
            "                 Class     Images  Instances      Box(P          R      mAP50  mAP50-95): 100%|██████████| 14/14 [00:06<00:00,  2.30it/s]"
          ]
        },
        {
          "output_type": "stream",
          "name": "stdout",
          "text": [
            "                   all        436       1859      0.885      0.902       0.94      0.783\n"
          ]
        },
        {
          "output_type": "stream",
          "name": "stderr",
          "text": [
            "\n"
          ]
        },
        {
          "output_type": "stream",
          "name": "stdout",
          "text": [
            "\n",
            "      Epoch    GPU_mem   box_loss   cls_loss   dfl_loss  Instances       Size\n"
          ]
        },
        {
          "output_type": "stream",
          "name": "stderr",
          "text": [
            "      39/50      2.44G     0.6958     0.4932      0.979         46        640: 100%|██████████| 266/266 [01:26<00:00,  3.06it/s]\n",
            "                 Class     Images  Instances      Box(P          R      mAP50  mAP50-95): 100%|██████████| 14/14 [00:03<00:00,  3.53it/s]"
          ]
        },
        {
          "output_type": "stream",
          "name": "stdout",
          "text": [
            "                   all        436       1859      0.899      0.903      0.945      0.786\n"
          ]
        },
        {
          "output_type": "stream",
          "name": "stderr",
          "text": [
            "\n"
          ]
        },
        {
          "output_type": "stream",
          "name": "stdout",
          "text": [
            "\n",
            "      Epoch    GPU_mem   box_loss   cls_loss   dfl_loss  Instances       Size\n"
          ]
        },
        {
          "output_type": "stream",
          "name": "stderr",
          "text": [
            "      40/50      2.27G      0.692     0.4926     0.9726        103        640: 100%|██████████| 266/266 [01:27<00:00,  3.05it/s]\n",
            "                 Class     Images  Instances      Box(P          R      mAP50  mAP50-95): 100%|██████████| 14/14 [00:04<00:00,  2.84it/s]"
          ]
        },
        {
          "output_type": "stream",
          "name": "stdout",
          "text": [
            "                   all        436       1859      0.914      0.873      0.941      0.784\n"
          ]
        },
        {
          "output_type": "stream",
          "name": "stderr",
          "text": [
            "\n"
          ]
        },
        {
          "output_type": "stream",
          "name": "stdout",
          "text": [
            "Closing dataloader mosaic\n",
            "\u001b[34m\u001b[1malbumentations: \u001b[0mBlur(p=0.01, blur_limit=(3, 7)), MedianBlur(p=0.01, blur_limit=(3, 7)), ToGray(p=0.01), CLAHE(p=0.01, clip_limit=(1, 4.0), tile_grid_size=(8, 8))\n"
          ]
        },
        {
          "output_type": "stream",
          "name": "stderr",
          "text": [
            "os.fork() was called. os.fork() is incompatible with multithreaded code, and JAX is multithreaded, so this will likely lead to a deadlock.\n"
          ]
        },
        {
          "output_type": "stream",
          "name": "stdout",
          "text": [
            "\n",
            "      Epoch    GPU_mem   box_loss   cls_loss   dfl_loss  Instances       Size\n"
          ]
        },
        {
          "output_type": "stream",
          "name": "stderr",
          "text": [
            "      41/50      2.44G     0.6602     0.4473     0.9558         37        640: 100%|██████████| 266/266 [01:26<00:00,  3.08it/s]\n",
            "                 Class     Images  Instances      Box(P          R      mAP50  mAP50-95): 100%|██████████| 14/14 [00:06<00:00,  2.20it/s]"
          ]
        },
        {
          "output_type": "stream",
          "name": "stdout",
          "text": [
            "                   all        436       1859       0.89      0.894      0.945      0.789\n"
          ]
        },
        {
          "output_type": "stream",
          "name": "stderr",
          "text": [
            "\n"
          ]
        },
        {
          "output_type": "stream",
          "name": "stdout",
          "text": [
            "\n",
            "      Epoch    GPU_mem   box_loss   cls_loss   dfl_loss  Instances       Size\n"
          ]
        },
        {
          "output_type": "stream",
          "name": "stderr",
          "text": [
            "      42/50      2.23G     0.6432     0.4312     0.9501         21        640: 100%|██████████| 266/266 [01:25<00:00,  3.10it/s]\n",
            "                 Class     Images  Instances      Box(P          R      mAP50  mAP50-95): 100%|██████████| 14/14 [00:04<00:00,  3.02it/s]\n"
          ]
        },
        {
          "output_type": "stream",
          "name": "stdout",
          "text": [
            "                   all        436       1859       0.92      0.874      0.944      0.792\n",
            "\n",
            "      Epoch    GPU_mem   box_loss   cls_loss   dfl_loss  Instances       Size\n"
          ]
        },
        {
          "output_type": "stream",
          "name": "stderr",
          "text": [
            "      43/50      2.19G     0.6398     0.4287     0.9501         34        640: 100%|██████████| 266/266 [01:23<00:00,  3.17it/s]\n",
            "                 Class     Images  Instances      Box(P          R      mAP50  mAP50-95): 100%|██████████| 14/14 [00:04<00:00,  3.47it/s]\n"
          ]
        },
        {
          "output_type": "stream",
          "name": "stdout",
          "text": [
            "                   all        436       1859      0.931      0.865      0.945      0.792\n",
            "\n",
            "      Epoch    GPU_mem   box_loss   cls_loss   dfl_loss  Instances       Size\n"
          ]
        },
        {
          "output_type": "stream",
          "name": "stderr",
          "text": [
            "      44/50      2.27G     0.6325     0.4197     0.9436         19        640: 100%|██████████| 266/266 [01:24<00:00,  3.14it/s]\n",
            "                 Class     Images  Instances      Box(P          R      mAP50  mAP50-95): 100%|██████████| 14/14 [00:03<00:00,  3.66it/s]"
          ]
        },
        {
          "output_type": "stream",
          "name": "stdout",
          "text": [
            "                   all        436       1859      0.923      0.872      0.941      0.793\n"
          ]
        },
        {
          "output_type": "stream",
          "name": "stderr",
          "text": [
            "\n"
          ]
        },
        {
          "output_type": "stream",
          "name": "stdout",
          "text": [
            "\n",
            "      Epoch    GPU_mem   box_loss   cls_loss   dfl_loss  Instances       Size\n"
          ]
        },
        {
          "output_type": "stream",
          "name": "stderr",
          "text": [
            "      45/50      2.24G     0.6261     0.4139     0.9415         34        640: 100%|██████████| 266/266 [01:25<00:00,  3.10it/s]\n",
            "                 Class     Images  Instances      Box(P          R      mAP50  mAP50-95): 100%|██████████| 14/14 [00:03<00:00,  3.62it/s]"
          ]
        },
        {
          "output_type": "stream",
          "name": "stdout",
          "text": [
            "                   all        436       1859       0.93      0.863      0.946      0.795\n"
          ]
        },
        {
          "output_type": "stream",
          "name": "stderr",
          "text": [
            "\n"
          ]
        },
        {
          "output_type": "stream",
          "name": "stdout",
          "text": [
            "\n",
            "      Epoch    GPU_mem   box_loss   cls_loss   dfl_loss  Instances       Size\n"
          ]
        },
        {
          "output_type": "stream",
          "name": "stderr",
          "text": [
            "      46/50       2.3G     0.6203     0.4098     0.9373         34        640: 100%|██████████| 266/266 [01:26<00:00,  3.08it/s]\n",
            "                 Class     Images  Instances      Box(P          R      mAP50  mAP50-95): 100%|██████████| 14/14 [00:04<00:00,  3.44it/s]"
          ]
        },
        {
          "output_type": "stream",
          "name": "stdout",
          "text": [
            "                   all        436       1859      0.915        0.9      0.943      0.796\n"
          ]
        },
        {
          "output_type": "stream",
          "name": "stderr",
          "text": [
            "\n"
          ]
        },
        {
          "output_type": "stream",
          "name": "stdout",
          "text": [
            "\n",
            "      Epoch    GPU_mem   box_loss   cls_loss   dfl_loss  Instances       Size\n"
          ]
        },
        {
          "output_type": "stream",
          "name": "stderr",
          "text": [
            "      47/50       2.3G     0.6162     0.4008     0.9406         31        640: 100%|██████████| 266/266 [01:24<00:00,  3.14it/s]\n",
            "                 Class     Images  Instances      Box(P          R      mAP50  mAP50-95): 100%|██████████| 14/14 [00:04<00:00,  2.85it/s]"
          ]
        },
        {
          "output_type": "stream",
          "name": "stdout",
          "text": [
            "                   all        436       1859       0.89      0.918       0.94      0.795\n"
          ]
        },
        {
          "output_type": "stream",
          "name": "stderr",
          "text": [
            "\n"
          ]
        },
        {
          "output_type": "stream",
          "name": "stdout",
          "text": [
            "\n",
            "      Epoch    GPU_mem   box_loss   cls_loss   dfl_loss  Instances       Size\n"
          ]
        },
        {
          "output_type": "stream",
          "name": "stderr",
          "text": [
            "      48/50      2.27G      0.607     0.3954      0.933         32        640: 100%|██████████| 266/266 [01:23<00:00,  3.19it/s]\n",
            "                 Class     Images  Instances      Box(P          R      mAP50  mAP50-95): 100%|██████████| 14/14 [00:06<00:00,  2.17it/s]"
          ]
        },
        {
          "output_type": "stream",
          "name": "stdout",
          "text": [
            "                   all        436       1859      0.896      0.914      0.945        0.8\n"
          ]
        },
        {
          "output_type": "stream",
          "name": "stderr",
          "text": [
            "\n"
          ]
        },
        {
          "output_type": "stream",
          "name": "stdout",
          "text": [
            "\n",
            "      Epoch    GPU_mem   box_loss   cls_loss   dfl_loss  Instances       Size\n"
          ]
        },
        {
          "output_type": "stream",
          "name": "stderr",
          "text": [
            "      49/50       2.3G     0.6014     0.3958     0.9344         15        640: 100%|██████████| 266/266 [01:23<00:00,  3.18it/s]\n",
            "                 Class     Images  Instances      Box(P          R      mAP50  mAP50-95): 100%|██████████| 14/14 [00:06<00:00,  2.06it/s]"
          ]
        },
        {
          "output_type": "stream",
          "name": "stdout",
          "text": [
            "                   all        436       1859        0.9      0.914      0.943      0.799\n"
          ]
        },
        {
          "output_type": "stream",
          "name": "stderr",
          "text": [
            "\n"
          ]
        },
        {
          "output_type": "stream",
          "name": "stdout",
          "text": [
            "\n",
            "      Epoch    GPU_mem   box_loss   cls_loss   dfl_loss  Instances       Size\n"
          ]
        },
        {
          "output_type": "stream",
          "name": "stderr",
          "text": [
            "      50/50      2.24G     0.5988     0.3909     0.9318         56        640: 100%|██████████| 266/266 [01:24<00:00,  3.16it/s]\n",
            "                 Class     Images  Instances      Box(P          R      mAP50  mAP50-95): 100%|██████████| 14/14 [00:05<00:00,  2.59it/s]"
          ]
        },
        {
          "output_type": "stream",
          "name": "stdout",
          "text": [
            "                   all        436       1859      0.889      0.921      0.944      0.802\n"
          ]
        },
        {
          "output_type": "stream",
          "name": "stderr",
          "text": [
            "\n"
          ]
        },
        {
          "output_type": "stream",
          "name": "stdout",
          "text": [
            "\n",
            "50 epochs completed in 1.293 hours.\n",
            "Optimizer stripped from runs/detect/train4/weights/last.pt, 6.2MB\n",
            "Optimizer stripped from runs/detect/train4/weights/best.pt, 6.2MB\n",
            "\n",
            "Validating runs/detect/train4/weights/best.pt...\n",
            "Ultralytics YOLOv8.2.75 🚀 Python-3.10.12 torch-2.3.1+cu121 CUDA:0 (Tesla T4, 15102MiB)\n",
            "Model summary (fused): 168 layers, 3,005,843 parameters, 0 gradients, 8.1 GFLOPs\n"
          ]
        },
        {
          "output_type": "stream",
          "name": "stderr",
          "text": [
            "                 Class     Images  Instances      Box(P          R      mAP50  mAP50-95): 100%|██████████| 14/14 [00:10<00:00,  1.31it/s]\n"
          ]
        },
        {
          "output_type": "stream",
          "name": "stdout",
          "text": [
            "                   all        436       1859      0.889      0.921      0.945      0.802\n",
            "Speed: 0.4ms preprocess, 2.5ms inference, 0.0ms loss, 3.0ms postprocess per image\n",
            "Results saved to \u001b[1mruns/detect/train4\u001b[0m\n"
          ]
        },
        {
          "output_type": "execute_result",
          "data": {
            "text/plain": [
              "ultralytics.utils.metrics.DetMetrics object with attributes:\n",
              "\n",
              "ap_class_index: array([0])\n",
              "box: ultralytics.utils.metrics.Metric object\n",
              "confusion_matrix: <ultralytics.utils.metrics.ConfusionMatrix object at 0x7a6b32494250>\n",
              "curves: ['Precision-Recall(B)', 'F1-Confidence(B)', 'Precision-Confidence(B)', 'Recall-Confidence(B)']\n",
              "curves_results: [[array([          0,    0.001001,    0.002002,    0.003003,    0.004004,    0.005005,    0.006006,    0.007007,    0.008008,    0.009009,     0.01001,    0.011011,    0.012012,    0.013013,    0.014014,    0.015015,    0.016016,    0.017017,    0.018018,    0.019019,     0.02002,    0.021021,    0.022022,    0.023023,\n",
              "          0.024024,    0.025025,    0.026026,    0.027027,    0.028028,    0.029029,     0.03003,    0.031031,    0.032032,    0.033033,    0.034034,    0.035035,    0.036036,    0.037037,    0.038038,    0.039039,     0.04004,    0.041041,    0.042042,    0.043043,    0.044044,    0.045045,    0.046046,    0.047047,\n",
              "          0.048048,    0.049049,     0.05005,    0.051051,    0.052052,    0.053053,    0.054054,    0.055055,    0.056056,    0.057057,    0.058058,    0.059059,     0.06006,    0.061061,    0.062062,    0.063063,    0.064064,    0.065065,    0.066066,    0.067067,    0.068068,    0.069069,     0.07007,    0.071071,\n",
              "          0.072072,    0.073073,    0.074074,    0.075075,    0.076076,    0.077077,    0.078078,    0.079079,     0.08008,    0.081081,    0.082082,    0.083083,    0.084084,    0.085085,    0.086086,    0.087087,    0.088088,    0.089089,     0.09009,    0.091091,    0.092092,    0.093093,    0.094094,    0.095095,\n",
              "          0.096096,    0.097097,    0.098098,    0.099099,      0.1001,      0.1011,      0.1021,      0.1031,      0.1041,     0.10511,     0.10611,     0.10711,     0.10811,     0.10911,     0.11011,     0.11111,     0.11211,     0.11311,     0.11411,     0.11512,     0.11612,     0.11712,     0.11812,     0.11912,\n",
              "           0.12012,     0.12112,     0.12212,     0.12312,     0.12412,     0.12513,     0.12613,     0.12713,     0.12813,     0.12913,     0.13013,     0.13113,     0.13213,     0.13313,     0.13413,     0.13514,     0.13614,     0.13714,     0.13814,     0.13914,     0.14014,     0.14114,     0.14214,     0.14314,\n",
              "           0.14414,     0.14515,     0.14615,     0.14715,     0.14815,     0.14915,     0.15015,     0.15115,     0.15215,     0.15315,     0.15415,     0.15516,     0.15616,     0.15716,     0.15816,     0.15916,     0.16016,     0.16116,     0.16216,     0.16316,     0.16416,     0.16517,     0.16617,     0.16717,\n",
              "           0.16817,     0.16917,     0.17017,     0.17117,     0.17217,     0.17317,     0.17417,     0.17518,     0.17618,     0.17718,     0.17818,     0.17918,     0.18018,     0.18118,     0.18218,     0.18318,     0.18418,     0.18519,     0.18619,     0.18719,     0.18819,     0.18919,     0.19019,     0.19119,\n",
              "           0.19219,     0.19319,     0.19419,      0.1952,      0.1962,      0.1972,      0.1982,      0.1992,      0.2002,      0.2012,      0.2022,      0.2032,      0.2042,     0.20521,     0.20621,     0.20721,     0.20821,     0.20921,     0.21021,     0.21121,     0.21221,     0.21321,     0.21421,     0.21522,\n",
              "           0.21622,     0.21722,     0.21822,     0.21922,     0.22022,     0.22122,     0.22222,     0.22322,     0.22422,     0.22523,     0.22623,     0.22723,     0.22823,     0.22923,     0.23023,     0.23123,     0.23223,     0.23323,     0.23423,     0.23524,     0.23624,     0.23724,     0.23824,     0.23924,\n",
              "           0.24024,     0.24124,     0.24224,     0.24324,     0.24424,     0.24525,     0.24625,     0.24725,     0.24825,     0.24925,     0.25025,     0.25125,     0.25225,     0.25325,     0.25425,     0.25526,     0.25626,     0.25726,     0.25826,     0.25926,     0.26026,     0.26126,     0.26226,     0.26326,\n",
              "           0.26426,     0.26527,     0.26627,     0.26727,     0.26827,     0.26927,     0.27027,     0.27127,     0.27227,     0.27327,     0.27427,     0.27528,     0.27628,     0.27728,     0.27828,     0.27928,     0.28028,     0.28128,     0.28228,     0.28328,     0.28428,     0.28529,     0.28629,     0.28729,\n",
              "           0.28829,     0.28929,     0.29029,     0.29129,     0.29229,     0.29329,     0.29429,      0.2953,      0.2963,      0.2973,      0.2983,      0.2993,      0.3003,      0.3013,      0.3023,      0.3033,      0.3043,     0.30531,     0.30631,     0.30731,     0.30831,     0.30931,     0.31031,     0.31131,\n",
              "           0.31231,     0.31331,     0.31431,     0.31532,     0.31632,     0.31732,     0.31832,     0.31932,     0.32032,     0.32132,     0.32232,     0.32332,     0.32432,     0.32533,     0.32633,     0.32733,     0.32833,     0.32933,     0.33033,     0.33133,     0.33233,     0.33333,     0.33433,     0.33534,\n",
              "           0.33634,     0.33734,     0.33834,     0.33934,     0.34034,     0.34134,     0.34234,     0.34334,     0.34434,     0.34535,     0.34635,     0.34735,     0.34835,     0.34935,     0.35035,     0.35135,     0.35235,     0.35335,     0.35435,     0.35536,     0.35636,     0.35736,     0.35836,     0.35936,\n",
              "           0.36036,     0.36136,     0.36236,     0.36336,     0.36436,     0.36537,     0.36637,     0.36737,     0.36837,     0.36937,     0.37037,     0.37137,     0.37237,     0.37337,     0.37437,     0.37538,     0.37638,     0.37738,     0.37838,     0.37938,     0.38038,     0.38138,     0.38238,     0.38338,\n",
              "           0.38438,     0.38539,     0.38639,     0.38739,     0.38839,     0.38939,     0.39039,     0.39139,     0.39239,     0.39339,     0.39439,      0.3954,      0.3964,      0.3974,      0.3984,      0.3994,      0.4004,      0.4014,      0.4024,      0.4034,      0.4044,     0.40541,     0.40641,     0.40741,\n",
              "           0.40841,     0.40941,     0.41041,     0.41141,     0.41241,     0.41341,     0.41441,     0.41542,     0.41642,     0.41742,     0.41842,     0.41942,     0.42042,     0.42142,     0.42242,     0.42342,     0.42442,     0.42543,     0.42643,     0.42743,     0.42843,     0.42943,     0.43043,     0.43143,\n",
              "           0.43243,     0.43343,     0.43443,     0.43544,     0.43644,     0.43744,     0.43844,     0.43944,     0.44044,     0.44144,     0.44244,     0.44344,     0.44444,     0.44545,     0.44645,     0.44745,     0.44845,     0.44945,     0.45045,     0.45145,     0.45245,     0.45345,     0.45445,     0.45546,\n",
              "           0.45646,     0.45746,     0.45846,     0.45946,     0.46046,     0.46146,     0.46246,     0.46346,     0.46446,     0.46547,     0.46647,     0.46747,     0.46847,     0.46947,     0.47047,     0.47147,     0.47247,     0.47347,     0.47447,     0.47548,     0.47648,     0.47748,     0.47848,     0.47948,\n",
              "           0.48048,     0.48148,     0.48248,     0.48348,     0.48448,     0.48549,     0.48649,     0.48749,     0.48849,     0.48949,     0.49049,     0.49149,     0.49249,     0.49349,     0.49449,      0.4955,      0.4965,      0.4975,      0.4985,      0.4995,      0.5005,      0.5015,      0.5025,      0.5035,\n",
              "            0.5045,     0.50551,     0.50651,     0.50751,     0.50851,     0.50951,     0.51051,     0.51151,     0.51251,     0.51351,     0.51451,     0.51552,     0.51652,     0.51752,     0.51852,     0.51952,     0.52052,     0.52152,     0.52252,     0.52352,     0.52452,     0.52553,     0.52653,     0.52753,\n",
              "           0.52853,     0.52953,     0.53053,     0.53153,     0.53253,     0.53353,     0.53453,     0.53554,     0.53654,     0.53754,     0.53854,     0.53954,     0.54054,     0.54154,     0.54254,     0.54354,     0.54454,     0.54555,     0.54655,     0.54755,     0.54855,     0.54955,     0.55055,     0.55155,\n",
              "           0.55255,     0.55355,     0.55455,     0.55556,     0.55656,     0.55756,     0.55856,     0.55956,     0.56056,     0.56156,     0.56256,     0.56356,     0.56456,     0.56557,     0.56657,     0.56757,     0.56857,     0.56957,     0.57057,     0.57157,     0.57257,     0.57357,     0.57457,     0.57558,\n",
              "           0.57658,     0.57758,     0.57858,     0.57958,     0.58058,     0.58158,     0.58258,     0.58358,     0.58458,     0.58559,     0.58659,     0.58759,     0.58859,     0.58959,     0.59059,     0.59159,     0.59259,     0.59359,     0.59459,      0.5956,      0.5966,      0.5976,      0.5986,      0.5996,\n",
              "            0.6006,      0.6016,      0.6026,      0.6036,      0.6046,     0.60561,     0.60661,     0.60761,     0.60861,     0.60961,     0.61061,     0.61161,     0.61261,     0.61361,     0.61461,     0.61562,     0.61662,     0.61762,     0.61862,     0.61962,     0.62062,     0.62162,     0.62262,     0.62362,\n",
              "           0.62462,     0.62563,     0.62663,     0.62763,     0.62863,     0.62963,     0.63063,     0.63163,     0.63263,     0.63363,     0.63463,     0.63564,     0.63664,     0.63764,     0.63864,     0.63964,     0.64064,     0.64164,     0.64264,     0.64364,     0.64464,     0.64565,     0.64665,     0.64765,\n",
              "           0.64865,     0.64965,     0.65065,     0.65165,     0.65265,     0.65365,     0.65465,     0.65566,     0.65666,     0.65766,     0.65866,     0.65966,     0.66066,     0.66166,     0.66266,     0.66366,     0.66466,     0.66567,     0.66667,     0.66767,     0.66867,     0.66967,     0.67067,     0.67167,\n",
              "           0.67267,     0.67367,     0.67467,     0.67568,     0.67668,     0.67768,     0.67868,     0.67968,     0.68068,     0.68168,     0.68268,     0.68368,     0.68468,     0.68569,     0.68669,     0.68769,     0.68869,     0.68969,     0.69069,     0.69169,     0.69269,     0.69369,     0.69469,      0.6957,\n",
              "            0.6967,      0.6977,      0.6987,      0.6997,      0.7007,      0.7017,      0.7027,      0.7037,      0.7047,     0.70571,     0.70671,     0.70771,     0.70871,     0.70971,     0.71071,     0.71171,     0.71271,     0.71371,     0.71471,     0.71572,     0.71672,     0.71772,     0.71872,     0.71972,\n",
              "           0.72072,     0.72172,     0.72272,     0.72372,     0.72472,     0.72573,     0.72673,     0.72773,     0.72873,     0.72973,     0.73073,     0.73173,     0.73273,     0.73373,     0.73473,     0.73574,     0.73674,     0.73774,     0.73874,     0.73974,     0.74074,     0.74174,     0.74274,     0.74374,\n",
              "           0.74474,     0.74575,     0.74675,     0.74775,     0.74875,     0.74975,     0.75075,     0.75175,     0.75275,     0.75375,     0.75475,     0.75576,     0.75676,     0.75776,     0.75876,     0.75976,     0.76076,     0.76176,     0.76276,     0.76376,     0.76476,     0.76577,     0.76677,     0.76777,\n",
              "           0.76877,     0.76977,     0.77077,     0.77177,     0.77277,     0.77377,     0.77477,     0.77578,     0.77678,     0.77778,     0.77878,     0.77978,     0.78078,     0.78178,     0.78278,     0.78378,     0.78478,     0.78579,     0.78679,     0.78779,     0.78879,     0.78979,     0.79079,     0.79179,\n",
              "           0.79279,     0.79379,     0.79479,      0.7958,      0.7968,      0.7978,      0.7988,      0.7998,      0.8008,      0.8018,      0.8028,      0.8038,      0.8048,     0.80581,     0.80681,     0.80781,     0.80881,     0.80981,     0.81081,     0.81181,     0.81281,     0.81381,     0.81481,     0.81582,\n",
              "           0.81682,     0.81782,     0.81882,     0.81982,     0.82082,     0.82182,     0.82282,     0.82382,     0.82482,     0.82583,     0.82683,     0.82783,     0.82883,     0.82983,     0.83083,     0.83183,     0.83283,     0.83383,     0.83483,     0.83584,     0.83684,     0.83784,     0.83884,     0.83984,\n",
              "           0.84084,     0.84184,     0.84284,     0.84384,     0.84484,     0.84585,     0.84685,     0.84785,     0.84885,     0.84985,     0.85085,     0.85185,     0.85285,     0.85385,     0.85485,     0.85586,     0.85686,     0.85786,     0.85886,     0.85986,     0.86086,     0.86186,     0.86286,     0.86386,\n",
              "           0.86486,     0.86587,     0.86687,     0.86787,     0.86887,     0.86987,     0.87087,     0.87187,     0.87287,     0.87387,     0.87487,     0.87588,     0.87688,     0.87788,     0.87888,     0.87988,     0.88088,     0.88188,     0.88288,     0.88388,     0.88488,     0.88589,     0.88689,     0.88789,\n",
              "           0.88889,     0.88989,     0.89089,     0.89189,     0.89289,     0.89389,     0.89489,      0.8959,      0.8969,      0.8979,      0.8989,      0.8999,      0.9009,      0.9019,      0.9029,      0.9039,      0.9049,     0.90591,     0.90691,     0.90791,     0.90891,     0.90991,     0.91091,     0.91191,\n",
              "           0.91291,     0.91391,     0.91491,     0.91592,     0.91692,     0.91792,     0.91892,     0.91992,     0.92092,     0.92192,     0.92292,     0.92392,     0.92492,     0.92593,     0.92693,     0.92793,     0.92893,     0.92993,     0.93093,     0.93193,     0.93293,     0.93393,     0.93493,     0.93594,\n",
              "           0.93694,     0.93794,     0.93894,     0.93994,     0.94094,     0.94194,     0.94294,     0.94394,     0.94494,     0.94595,     0.94695,     0.94795,     0.94895,     0.94995,     0.95095,     0.95195,     0.95295,     0.95395,     0.95495,     0.95596,     0.95696,     0.95796,     0.95896,     0.95996,\n",
              "           0.96096,     0.96196,     0.96296,     0.96396,     0.96496,     0.96597,     0.96697,     0.96797,     0.96897,     0.96997,     0.97097,     0.97197,     0.97297,     0.97397,     0.97497,     0.97598,     0.97698,     0.97798,     0.97898,     0.97998,     0.98098,     0.98198,     0.98298,     0.98398,\n",
              "           0.98498,     0.98599,     0.98699,     0.98799,     0.98899,     0.98999,     0.99099,     0.99199,     0.99299,     0.99399,     0.99499,       0.996,       0.997,       0.998,       0.999,           1]), array([[          1,           1,           1,      0.9963,      0.9963,      0.9963,      0.9963,      0.9963,      0.9963,      0.9963,      0.9963,      0.9963,      0.9963,      0.9963,      0.9963,      0.9963,      0.9963,      0.9963,      0.9963,      0.9963,      0.9963,      0.9963,      0.9963,\n",
              "             0.9963,      0.9963,      0.9963,      0.9963,      0.9963,      0.9963,      0.9963,      0.9963,      0.9963,      0.9963,      0.9963,      0.9963,      0.9963,      0.9963,      0.9963,      0.9963,      0.9963,      0.9963,      0.9963,      0.9963,      0.9963,      0.9963,      0.9963,\n",
              "             0.9963,      0.9963,      0.9963,      0.9963,      0.9963,      0.9963,      0.9963,      0.9963,      0.9963,      0.9963,      0.9963,      0.9963,      0.9963,      0.9963,      0.9963,      0.9963,      0.9963,      0.9963,      0.9963,      0.9963,      0.9963,      0.9963,      0.9963,\n",
              "             0.9963,      0.9963,      0.9963,      0.9963,      0.9963,      0.9963,      0.9963,      0.9963,      0.9963,      0.9963,      0.9963,      0.9963,      0.9963,      0.9963,      0.9963,      0.9963,      0.9963,      0.9963,      0.9963,      0.9963,      0.9963,      0.9963,      0.9963,\n",
              "             0.9963,      0.9963,      0.9963,      0.9963,      0.9963,      0.9963,      0.9963,      0.9963,      0.9963,      0.9963,      0.9963,      0.9963,      0.9963,      0.9963,      0.9963,      0.9963,      0.9963,      0.9963,      0.9963,      0.9963,      0.9963,      0.9963,      0.9963,\n",
              "             0.9963,      0.9963,      0.9963,      0.9963,      0.9963,      0.9963,      0.9963,      0.9963,      0.9963,      0.9963,      0.9963,      0.9963,      0.9963,      0.9963,      0.9963,      0.9963,      0.9963,      0.9963,      0.9963,      0.9963,      0.9963,      0.9963,      0.9963,\n",
              "             0.9963,      0.9963,      0.9963,      0.9963,      0.9963,      0.9963,      0.9963,      0.9963,      0.9963,      0.9963,      0.9963,      0.9963,      0.9963,      0.9963,      0.9963,      0.9963,      0.9963,      0.9963,      0.9963,      0.9963,      0.9963,      0.9963,      0.9963,\n",
              "             0.9963,      0.9963,      0.9963,      0.9963,      0.9963,      0.9963,      0.9963,      0.9963,      0.9963,      0.9963,      0.9963,      0.9963,      0.9963,      0.9963,      0.9963,      0.9963,      0.9963,      0.9963,      0.9963,      0.9963,      0.9963,      0.9963,      0.9963,\n",
              "             0.9963,      0.9963,      0.9963,      0.9963,      0.9963,      0.9963,      0.9963,      0.9963,      0.9963,      0.9963,      0.9963,      0.9963,      0.9963,      0.9963,      0.9963,      0.9963,      0.9963,      0.9963,      0.9963,      0.9963,      0.9963,      0.9963,      0.9963,\n",
              "             0.9963,      0.9963,      0.9963,      0.9963,      0.9963,      0.9963,      0.9963,      0.9963,      0.9963,      0.9963,      0.9963,      0.9963,      0.9963,      0.9963,      0.9963,      0.9963,      0.9963,      0.9963,      0.9963,      0.9963,      0.9963,      0.9963,      0.9963,\n",
              "             0.9963,      0.9963,      0.9963,      0.9963,      0.9963,      0.9963,      0.9963,      0.9963,      0.9963,      0.9963,      0.9963,      0.9963,      0.9963,      0.9963,      0.9963,      0.9963,      0.9963,      0.9963,      0.9963,      0.9963,      0.9963,      0.9963,      0.9963,\n",
              "             0.9963,      0.9963,      0.9963,      0.9963,      0.9963,      0.9963,      0.9963,      0.9963,      0.9963,      0.9963,      0.9963,      0.9963,      0.9963,      0.9963,      0.9963,      0.9963,      0.9963,      0.9963,      0.9963,      0.9963,      0.9963,      0.9963,      0.9963,\n",
              "             0.9963,      0.9963,      0.9963,      0.9963,      0.9963,      0.9963,      0.9963,      0.9963,      0.9963,      0.9963,      0.9963,      0.9963,      0.9963,      0.9963,     0.99625,     0.99625,     0.99625,     0.99625,     0.99625,     0.99625,     0.99625,     0.99625,     0.99625,\n",
              "            0.99625,     0.99625,     0.99625,     0.99625,     0.99625,     0.99625,     0.99625,     0.99625,     0.99625,     0.99625,     0.99625,     0.99625,     0.99625,     0.99625,     0.99625,     0.99625,     0.99625,     0.99625,     0.99625,     0.99625,     0.99625,     0.99625,     0.99625,\n",
              "            0.99625,     0.99625,     0.99625,     0.99625,     0.99625,     0.99625,     0.99625,     0.99625,     0.99625,     0.99625,     0.99625,     0.99625,     0.99625,     0.99625,     0.99625,     0.99625,     0.99625,     0.99625,     0.99625,     0.99625,     0.99625,     0.99625,     0.99625,\n",
              "            0.99625,     0.99625,     0.99625,     0.99625,     0.99625,     0.99625,     0.99625,     0.99625,     0.99625,     0.99625,     0.99625,     0.99625,     0.99625,     0.99625,     0.99625,     0.99625,     0.99625,     0.99625,     0.99625,     0.99625,     0.99625,     0.99625,     0.99625,\n",
              "            0.99625,     0.99625,     0.99625,     0.99625,     0.99625,     0.99625,     0.99625,     0.99625,     0.99625,     0.99625,     0.99625,     0.99625,     0.99625,     0.99625,     0.99625,     0.99625,     0.99625,     0.99625,     0.99625,     0.99625,     0.99625,     0.99625,     0.99625,\n",
              "            0.99625,     0.99625,     0.99625,     0.99625,     0.99625,     0.99625,     0.99625,     0.99625,     0.99625,     0.99625,     0.99625,     0.99625,     0.99625,     0.99625,     0.99625,     0.99625,     0.99625,     0.99625,     0.99625,     0.99625,     0.99625,     0.99625,     0.99625,\n",
              "            0.99625,     0.99625,     0.99625,     0.99625,     0.99625,     0.99625,     0.99625,     0.99625,     0.99625,     0.99625,     0.99625,     0.99625,     0.99625,     0.99625,     0.99625,     0.99579,     0.99579,     0.99579,     0.99579,     0.99579,     0.99579,     0.99579,     0.99579,\n",
              "            0.99579,     0.99579,     0.99579,     0.99579,     0.99579,     0.99579,     0.99579,     0.99579,     0.99579,     0.99579,     0.99579,     0.99579,     0.99579,     0.99579,     0.99579,     0.99579,     0.99579,     0.99579,     0.99579,     0.99579,     0.99579,     0.99579,     0.99579,\n",
              "            0.99579,     0.99579,     0.99579,     0.99579,     0.99579,     0.99579,     0.99579,     0.99579,     0.99579,     0.99579,     0.99579,     0.99579,     0.99579,     0.99579,     0.99579,     0.99579,     0.99579,     0.99579,     0.99579,     0.99579,     0.99579,     0.99579,     0.99579,\n",
              "            0.99579,     0.99579,     0.99579,     0.99579,     0.99579,     0.99579,     0.99579,     0.99579,     0.99579,     0.99579,     0.99579,     0.99579,     0.99579,     0.99579,     0.99579,     0.99579,     0.99579,     0.99579,     0.99579,     0.99579,     0.99579,     0.99579,     0.99579,\n",
              "            0.99579,     0.99579,     0.99481,     0.99481,     0.99481,     0.99481,     0.99481,     0.99481,     0.99481,     0.99411,     0.99411,     0.99411,     0.99411,     0.99411,     0.99411,     0.99411,     0.99411,     0.99411,     0.99411,     0.99411,     0.99411,     0.99411,     0.99411,\n",
              "            0.99411,     0.99411,     0.99411,     0.99411,     0.99411,     0.99411,     0.99411,     0.99411,     0.99411,     0.99411,     0.99411,     0.99411,     0.99411,     0.99411,     0.99411,     0.99324,     0.99324,     0.99324,     0.99324,     0.99324,     0.99324,     0.99324,     0.99324,\n",
              "            0.99324,     0.99257,     0.99257,     0.99257,     0.99257,     0.99257,     0.99257,     0.99257,     0.99257,     0.99257,     0.99257,     0.99257,     0.99257,     0.99257,     0.99257,     0.99257,     0.99257,     0.99257,     0.99257,     0.99257,     0.99257,     0.99257,     0.99169,\n",
              "            0.99169,     0.99169,     0.99169,     0.99102,     0.99102,     0.99102,     0.99102,     0.99102,     0.99102,     0.99102,     0.99102,     0.99102,     0.99102,     0.99102,     0.99102,     0.99102,     0.99102,     0.99102,     0.99028,     0.99028,     0.99028,     0.99028,     0.99028,\n",
              "            0.99028,     0.99028,     0.99028,     0.99028,     0.99028,     0.98943,     0.98861,     0.98861,     0.98861,     0.98785,     0.98785,     0.98785,     0.98785,     0.98785,     0.98724,     0.98724,     0.98724,     0.98724,     0.98724,     0.98724,     0.98724,     0.98724,     0.98724,\n",
              "            0.98724,     0.98724,     0.98724,     0.98645,     0.98645,     0.98645,     0.98582,     0.98582,     0.98582,     0.98582,     0.98582,     0.98582,     0.98582,     0.98582,     0.98582,     0.98426,     0.98426,     0.98426,     0.98384,     0.98384,     0.98384,     0.98384,     0.98384,\n",
              "            0.98384,     0.98384,     0.98384,     0.98384,     0.98384,     0.98384,     0.98384,     0.98384,     0.98384,     0.98384,     0.98384,     0.98327,     0.98327,     0.98327,     0.98327,     0.98327,     0.98327,     0.98327,     0.98327,     0.98327,     0.98262,     0.98262,     0.98262,\n",
              "            0.98262,     0.98262,     0.98189,     0.98189,     0.98116,     0.98095,     0.98095,     0.98095,     0.98095,     0.98095,     0.98095,     0.98095,     0.98095,     0.98095,     0.98095,     0.98095,     0.98095,     0.98095,     0.98095,     0.98095,     0.98095,     0.98095,     0.98095,\n",
              "            0.98095,     0.98095,     0.98026,     0.98026,     0.97953,     0.97932,     0.97932,     0.97932,     0.97932,     0.97932,     0.97932,     0.97932,     0.97932,     0.97932,     0.97932,     0.97932,     0.97932,     0.97932,     0.97932,     0.97932,     0.97932,     0.97932,     0.97932,\n",
              "            0.97926,     0.97926,     0.97926,     0.97926,     0.97926,     0.97926,     0.97926,     0.97926,     0.97926,     0.97926,     0.97926,     0.97926,     0.97926,     0.97926,     0.97926,     0.97926,     0.97926,     0.97926,     0.97926,     0.97926,     0.97926,     0.97926,     0.97926,\n",
              "            0.97719,     0.97686,     0.97686,     0.97686,     0.97686,     0.97686,     0.97686,     0.97686,     0.97686,     0.97686,     0.97686,     0.97686,     0.97686,     0.97559,     0.97559,     0.97559,     0.97497,     0.97497,     0.97436,     0.97436,     0.97372,     0.97239,     0.97178,\n",
              "            0.97075,     0.97075,     0.97075,     0.97075,     0.97075,     0.97075,     0.97075,     0.97075,     0.97011,     0.96968,     0.96968,     0.96968,     0.96968,     0.96968,     0.96968,     0.96846,     0.96846,     0.96794,     0.96794,     0.96794,      0.9674,      0.9674,      0.9674,\n",
              "            0.96713,     0.96713,     0.96713,     0.96713,     0.96713,     0.96713,     0.96713,     0.96713,     0.96713,     0.96651,     0.96529,     0.96415,     0.96415,     0.96354,     0.96241,     0.96241,     0.96241,     0.96186,     0.96127,     0.96097,     0.96097,     0.96097,     0.96097,\n",
              "            0.96097,     0.96097,     0.96097,     0.96041,     0.95926,     0.95878,     0.95878,     0.95878,     0.95831,     0.95831,     0.95831,     0.95778,     0.95747,     0.95747,     0.95747,     0.95747,     0.95747,     0.95747,     0.95696,     0.95696,     0.95647,     0.95647,      0.9559,\n",
              "            0.95488,     0.95488,     0.95488,     0.95446,     0.95446,     0.95446,     0.95413,     0.95413,     0.95413,     0.95413,     0.95413,      0.9536,     0.95311,     0.95311,       0.952,     0.95149,     0.95103,     0.95103,     0.95069,     0.95069,     0.95069,     0.95069,     0.95021,\n",
              "            0.95021,     0.94973,     0.94863,     0.94756,     0.94706,     0.94609,     0.94609,     0.94609,     0.94513,     0.94513,     0.94474,     0.94474,     0.94474,     0.94311,     0.94097,     0.94049,     0.93946,      0.9379,     0.93642,     0.93642,     0.93591,     0.93491,     0.93391,\n",
              "            0.93345,     0.93299,       0.932,     0.93098,     0.92894,     0.92744,     0.92708,     0.92708,     0.92611,     0.92463,     0.92166,     0.92166,     0.92025,     0.91982,     0.91935,     0.91741,     0.91295,     0.91104,     0.90864,     0.90741,     0.90741,     0.90741,     0.90652,\n",
              "            0.90579,     0.90579,     0.90579,     0.90458,     0.90458,     0.90317,     0.90241,     0.90241,     0.90123,     0.90123,     0.90123,     0.89894,     0.89862,     0.89635,     0.89593,     0.89479,     0.89479,     0.89479,     0.89396,     0.89361,     0.89185,     0.89103,      0.8908,\n",
              "             0.8908,     0.88762,     0.88596,     0.88557,     0.88477,     0.88338,     0.88338,     0.88338,     0.88338,     0.88079,     0.87874,     0.87842,     0.87671,     0.87374,      0.8626,     0.86181,     0.85904,       0.857,     0.85046,     0.83998,     0.83135,     0.82876,     0.82728,\n",
              "            0.81552,     0.79864,     0.78422,     0.78162,     0.78043,     0.77108,     0.75707,     0.75523,     0.75223,     0.74799,     0.71475,     0.67222,     0.66667,     0.66554,     0.64459,     0.61568,     0.55886,     0.49174,     0.44238,      0.4235,     0.38222,     0.38025,     0.34969,\n",
              "            0.32572,     0.30901,     0.25359,     0.24541,     0.23723,     0.22905,     0.22087,     0.21269,     0.20451,     0.19633,     0.18815,     0.17997,     0.17179,     0.16361,     0.15543,     0.14725,     0.13907,     0.13089,     0.12271,     0.11453,     0.10635,    0.098165,    0.089984,\n",
              "           0.081804,    0.073624,    0.065443,    0.057263,    0.049082,    0.040902,    0.032722,    0.024541,    0.016361,   0.0081804,           0]]), 'Recall', 'Precision'], [array([          0,    0.001001,    0.002002,    0.003003,    0.004004,    0.005005,    0.006006,    0.007007,    0.008008,    0.009009,     0.01001,    0.011011,    0.012012,    0.013013,    0.014014,    0.015015,    0.016016,    0.017017,    0.018018,    0.019019,     0.02002,    0.021021,    0.022022,    0.023023,\n",
              "          0.024024,    0.025025,    0.026026,    0.027027,    0.028028,    0.029029,     0.03003,    0.031031,    0.032032,    0.033033,    0.034034,    0.035035,    0.036036,    0.037037,    0.038038,    0.039039,     0.04004,    0.041041,    0.042042,    0.043043,    0.044044,    0.045045,    0.046046,    0.047047,\n",
              "          0.048048,    0.049049,     0.05005,    0.051051,    0.052052,    0.053053,    0.054054,    0.055055,    0.056056,    0.057057,    0.058058,    0.059059,     0.06006,    0.061061,    0.062062,    0.063063,    0.064064,    0.065065,    0.066066,    0.067067,    0.068068,    0.069069,     0.07007,    0.071071,\n",
              "          0.072072,    0.073073,    0.074074,    0.075075,    0.076076,    0.077077,    0.078078,    0.079079,     0.08008,    0.081081,    0.082082,    0.083083,    0.084084,    0.085085,    0.086086,    0.087087,    0.088088,    0.089089,     0.09009,    0.091091,    0.092092,    0.093093,    0.094094,    0.095095,\n",
              "          0.096096,    0.097097,    0.098098,    0.099099,      0.1001,      0.1011,      0.1021,      0.1031,      0.1041,     0.10511,     0.10611,     0.10711,     0.10811,     0.10911,     0.11011,     0.11111,     0.11211,     0.11311,     0.11411,     0.11512,     0.11612,     0.11712,     0.11812,     0.11912,\n",
              "           0.12012,     0.12112,     0.12212,     0.12312,     0.12412,     0.12513,     0.12613,     0.12713,     0.12813,     0.12913,     0.13013,     0.13113,     0.13213,     0.13313,     0.13413,     0.13514,     0.13614,     0.13714,     0.13814,     0.13914,     0.14014,     0.14114,     0.14214,     0.14314,\n",
              "           0.14414,     0.14515,     0.14615,     0.14715,     0.14815,     0.14915,     0.15015,     0.15115,     0.15215,     0.15315,     0.15415,     0.15516,     0.15616,     0.15716,     0.15816,     0.15916,     0.16016,     0.16116,     0.16216,     0.16316,     0.16416,     0.16517,     0.16617,     0.16717,\n",
              "           0.16817,     0.16917,     0.17017,     0.17117,     0.17217,     0.17317,     0.17417,     0.17518,     0.17618,     0.17718,     0.17818,     0.17918,     0.18018,     0.18118,     0.18218,     0.18318,     0.18418,     0.18519,     0.18619,     0.18719,     0.18819,     0.18919,     0.19019,     0.19119,\n",
              "           0.19219,     0.19319,     0.19419,      0.1952,      0.1962,      0.1972,      0.1982,      0.1992,      0.2002,      0.2012,      0.2022,      0.2032,      0.2042,     0.20521,     0.20621,     0.20721,     0.20821,     0.20921,     0.21021,     0.21121,     0.21221,     0.21321,     0.21421,     0.21522,\n",
              "           0.21622,     0.21722,     0.21822,     0.21922,     0.22022,     0.22122,     0.22222,     0.22322,     0.22422,     0.22523,     0.22623,     0.22723,     0.22823,     0.22923,     0.23023,     0.23123,     0.23223,     0.23323,     0.23423,     0.23524,     0.23624,     0.23724,     0.23824,     0.23924,\n",
              "           0.24024,     0.24124,     0.24224,     0.24324,     0.24424,     0.24525,     0.24625,     0.24725,     0.24825,     0.24925,     0.25025,     0.25125,     0.25225,     0.25325,     0.25425,     0.25526,     0.25626,     0.25726,     0.25826,     0.25926,     0.26026,     0.26126,     0.26226,     0.26326,\n",
              "           0.26426,     0.26527,     0.26627,     0.26727,     0.26827,     0.26927,     0.27027,     0.27127,     0.27227,     0.27327,     0.27427,     0.27528,     0.27628,     0.27728,     0.27828,     0.27928,     0.28028,     0.28128,     0.28228,     0.28328,     0.28428,     0.28529,     0.28629,     0.28729,\n",
              "           0.28829,     0.28929,     0.29029,     0.29129,     0.29229,     0.29329,     0.29429,      0.2953,      0.2963,      0.2973,      0.2983,      0.2993,      0.3003,      0.3013,      0.3023,      0.3033,      0.3043,     0.30531,     0.30631,     0.30731,     0.30831,     0.30931,     0.31031,     0.31131,\n",
              "           0.31231,     0.31331,     0.31431,     0.31532,     0.31632,     0.31732,     0.31832,     0.31932,     0.32032,     0.32132,     0.32232,     0.32332,     0.32432,     0.32533,     0.32633,     0.32733,     0.32833,     0.32933,     0.33033,     0.33133,     0.33233,     0.33333,     0.33433,     0.33534,\n",
              "           0.33634,     0.33734,     0.33834,     0.33934,     0.34034,     0.34134,     0.34234,     0.34334,     0.34434,     0.34535,     0.34635,     0.34735,     0.34835,     0.34935,     0.35035,     0.35135,     0.35235,     0.35335,     0.35435,     0.35536,     0.35636,     0.35736,     0.35836,     0.35936,\n",
              "           0.36036,     0.36136,     0.36236,     0.36336,     0.36436,     0.36537,     0.36637,     0.36737,     0.36837,     0.36937,     0.37037,     0.37137,     0.37237,     0.37337,     0.37437,     0.37538,     0.37638,     0.37738,     0.37838,     0.37938,     0.38038,     0.38138,     0.38238,     0.38338,\n",
              "           0.38438,     0.38539,     0.38639,     0.38739,     0.38839,     0.38939,     0.39039,     0.39139,     0.39239,     0.39339,     0.39439,      0.3954,      0.3964,      0.3974,      0.3984,      0.3994,      0.4004,      0.4014,      0.4024,      0.4034,      0.4044,     0.40541,     0.40641,     0.40741,\n",
              "           0.40841,     0.40941,     0.41041,     0.41141,     0.41241,     0.41341,     0.41441,     0.41542,     0.41642,     0.41742,     0.41842,     0.41942,     0.42042,     0.42142,     0.42242,     0.42342,     0.42442,     0.42543,     0.42643,     0.42743,     0.42843,     0.42943,     0.43043,     0.43143,\n",
              "           0.43243,     0.43343,     0.43443,     0.43544,     0.43644,     0.43744,     0.43844,     0.43944,     0.44044,     0.44144,     0.44244,     0.44344,     0.44444,     0.44545,     0.44645,     0.44745,     0.44845,     0.44945,     0.45045,     0.45145,     0.45245,     0.45345,     0.45445,     0.45546,\n",
              "           0.45646,     0.45746,     0.45846,     0.45946,     0.46046,     0.46146,     0.46246,     0.46346,     0.46446,     0.46547,     0.46647,     0.46747,     0.46847,     0.46947,     0.47047,     0.47147,     0.47247,     0.47347,     0.47447,     0.47548,     0.47648,     0.47748,     0.47848,     0.47948,\n",
              "           0.48048,     0.48148,     0.48248,     0.48348,     0.48448,     0.48549,     0.48649,     0.48749,     0.48849,     0.48949,     0.49049,     0.49149,     0.49249,     0.49349,     0.49449,      0.4955,      0.4965,      0.4975,      0.4985,      0.4995,      0.5005,      0.5015,      0.5025,      0.5035,\n",
              "            0.5045,     0.50551,     0.50651,     0.50751,     0.50851,     0.50951,     0.51051,     0.51151,     0.51251,     0.51351,     0.51451,     0.51552,     0.51652,     0.51752,     0.51852,     0.51952,     0.52052,     0.52152,     0.52252,     0.52352,     0.52452,     0.52553,     0.52653,     0.52753,\n",
              "           0.52853,     0.52953,     0.53053,     0.53153,     0.53253,     0.53353,     0.53453,     0.53554,     0.53654,     0.53754,     0.53854,     0.53954,     0.54054,     0.54154,     0.54254,     0.54354,     0.54454,     0.54555,     0.54655,     0.54755,     0.54855,     0.54955,     0.55055,     0.55155,\n",
              "           0.55255,     0.55355,     0.55455,     0.55556,     0.55656,     0.55756,     0.55856,     0.55956,     0.56056,     0.56156,     0.56256,     0.56356,     0.56456,     0.56557,     0.56657,     0.56757,     0.56857,     0.56957,     0.57057,     0.57157,     0.57257,     0.57357,     0.57457,     0.57558,\n",
              "           0.57658,     0.57758,     0.57858,     0.57958,     0.58058,     0.58158,     0.58258,     0.58358,     0.58458,     0.58559,     0.58659,     0.58759,     0.58859,     0.58959,     0.59059,     0.59159,     0.59259,     0.59359,     0.59459,      0.5956,      0.5966,      0.5976,      0.5986,      0.5996,\n",
              "            0.6006,      0.6016,      0.6026,      0.6036,      0.6046,     0.60561,     0.60661,     0.60761,     0.60861,     0.60961,     0.61061,     0.61161,     0.61261,     0.61361,     0.61461,     0.61562,     0.61662,     0.61762,     0.61862,     0.61962,     0.62062,     0.62162,     0.62262,     0.62362,\n",
              "           0.62462,     0.62563,     0.62663,     0.62763,     0.62863,     0.62963,     0.63063,     0.63163,     0.63263,     0.63363,     0.63463,     0.63564,     0.63664,     0.63764,     0.63864,     0.63964,     0.64064,     0.64164,     0.64264,     0.64364,     0.64464,     0.64565,     0.64665,     0.64765,\n",
              "           0.64865,     0.64965,     0.65065,     0.65165,     0.65265,     0.65365,     0.65465,     0.65566,     0.65666,     0.65766,     0.65866,     0.65966,     0.66066,     0.66166,     0.66266,     0.66366,     0.66466,     0.66567,     0.66667,     0.66767,     0.66867,     0.66967,     0.67067,     0.67167,\n",
              "           0.67267,     0.67367,     0.67467,     0.67568,     0.67668,     0.67768,     0.67868,     0.67968,     0.68068,     0.68168,     0.68268,     0.68368,     0.68468,     0.68569,     0.68669,     0.68769,     0.68869,     0.68969,     0.69069,     0.69169,     0.69269,     0.69369,     0.69469,      0.6957,\n",
              "            0.6967,      0.6977,      0.6987,      0.6997,      0.7007,      0.7017,      0.7027,      0.7037,      0.7047,     0.70571,     0.70671,     0.70771,     0.70871,     0.70971,     0.71071,     0.71171,     0.71271,     0.71371,     0.71471,     0.71572,     0.71672,     0.71772,     0.71872,     0.71972,\n",
              "           0.72072,     0.72172,     0.72272,     0.72372,     0.72472,     0.72573,     0.72673,     0.72773,     0.72873,     0.72973,     0.73073,     0.73173,     0.73273,     0.73373,     0.73473,     0.73574,     0.73674,     0.73774,     0.73874,     0.73974,     0.74074,     0.74174,     0.74274,     0.74374,\n",
              "           0.74474,     0.74575,     0.74675,     0.74775,     0.74875,     0.74975,     0.75075,     0.75175,     0.75275,     0.75375,     0.75475,     0.75576,     0.75676,     0.75776,     0.75876,     0.75976,     0.76076,     0.76176,     0.76276,     0.76376,     0.76476,     0.76577,     0.76677,     0.76777,\n",
              "           0.76877,     0.76977,     0.77077,     0.77177,     0.77277,     0.77377,     0.77477,     0.77578,     0.77678,     0.77778,     0.77878,     0.77978,     0.78078,     0.78178,     0.78278,     0.78378,     0.78478,     0.78579,     0.78679,     0.78779,     0.78879,     0.78979,     0.79079,     0.79179,\n",
              "           0.79279,     0.79379,     0.79479,      0.7958,      0.7968,      0.7978,      0.7988,      0.7998,      0.8008,      0.8018,      0.8028,      0.8038,      0.8048,     0.80581,     0.80681,     0.80781,     0.80881,     0.80981,     0.81081,     0.81181,     0.81281,     0.81381,     0.81481,     0.81582,\n",
              "           0.81682,     0.81782,     0.81882,     0.81982,     0.82082,     0.82182,     0.82282,     0.82382,     0.82482,     0.82583,     0.82683,     0.82783,     0.82883,     0.82983,     0.83083,     0.83183,     0.83283,     0.83383,     0.83483,     0.83584,     0.83684,     0.83784,     0.83884,     0.83984,\n",
              "           0.84084,     0.84184,     0.84284,     0.84384,     0.84484,     0.84585,     0.84685,     0.84785,     0.84885,     0.84985,     0.85085,     0.85185,     0.85285,     0.85385,     0.85485,     0.85586,     0.85686,     0.85786,     0.85886,     0.85986,     0.86086,     0.86186,     0.86286,     0.86386,\n",
              "           0.86486,     0.86587,     0.86687,     0.86787,     0.86887,     0.86987,     0.87087,     0.87187,     0.87287,     0.87387,     0.87487,     0.87588,     0.87688,     0.87788,     0.87888,     0.87988,     0.88088,     0.88188,     0.88288,     0.88388,     0.88488,     0.88589,     0.88689,     0.88789,\n",
              "           0.88889,     0.88989,     0.89089,     0.89189,     0.89289,     0.89389,     0.89489,      0.8959,      0.8969,      0.8979,      0.8989,      0.8999,      0.9009,      0.9019,      0.9029,      0.9039,      0.9049,     0.90591,     0.90691,     0.90791,     0.90891,     0.90991,     0.91091,     0.91191,\n",
              "           0.91291,     0.91391,     0.91491,     0.91592,     0.91692,     0.91792,     0.91892,     0.91992,     0.92092,     0.92192,     0.92292,     0.92392,     0.92492,     0.92593,     0.92693,     0.92793,     0.92893,     0.92993,     0.93093,     0.93193,     0.93293,     0.93393,     0.93493,     0.93594,\n",
              "           0.93694,     0.93794,     0.93894,     0.93994,     0.94094,     0.94194,     0.94294,     0.94394,     0.94494,     0.94595,     0.94695,     0.94795,     0.94895,     0.94995,     0.95095,     0.95195,     0.95295,     0.95395,     0.95495,     0.95596,     0.95696,     0.95796,     0.95896,     0.95996,\n",
              "           0.96096,     0.96196,     0.96296,     0.96396,     0.96496,     0.96597,     0.96697,     0.96797,     0.96897,     0.96997,     0.97097,     0.97197,     0.97297,     0.97397,     0.97497,     0.97598,     0.97698,     0.97798,     0.97898,     0.97998,     0.98098,     0.98198,     0.98298,     0.98398,\n",
              "           0.98498,     0.98599,     0.98699,     0.98799,     0.98899,     0.98999,     0.99099,     0.99199,     0.99299,     0.99399,     0.99499,       0.996,       0.997,       0.998,       0.999,           1]), array([[    0.40914,     0.40914,     0.49923,     0.54969,     0.58338,     0.60839,     0.62881,     0.64522,     0.66052,     0.67089,     0.68104,     0.68823,      0.6966,     0.70509,     0.71268,     0.71791,     0.72299,     0.72839,     0.73377,     0.73935,     0.74467,     0.74864,     0.75138,\n",
              "            0.75618,      0.7592,     0.76296,      0.7663,      0.7689,     0.77272,     0.77491,     0.77852,     0.78235,     0.78473,     0.78555,     0.78689,     0.78783,      0.7889,     0.78941,     0.79137,     0.79291,      0.7939,     0.79549,     0.79609,     0.79856,     0.79934,     0.80034,\n",
              "            0.80167,     0.80258,       0.804,     0.80516,       0.806,     0.80754,     0.80859,     0.80938,      0.8101,     0.81109,     0.81197,     0.81242,     0.81365,     0.81438,     0.81497,     0.81586,     0.81653,     0.81725,     0.81845,     0.81981,     0.82075,     0.82253,     0.82351,\n",
              "             0.8241,     0.82523,       0.826,     0.82676,     0.82778,     0.82856,     0.82903,     0.82945,      0.8298,     0.83045,     0.83098,     0.83133,      0.8319,     0.83192,     0.83381,     0.83442,     0.83532,     0.83588,     0.83619,     0.83751,     0.83797,     0.83896,     0.83928,\n",
              "            0.83997,     0.84041,     0.84025,     0.84086,     0.84148,     0.84173,     0.84184,     0.84242,     0.84237,     0.84291,     0.84459,     0.84519,     0.84571,     0.84637,     0.84689,     0.84757,     0.84888,     0.85024,     0.85081,     0.85098,     0.85098,     0.85153,     0.85225,\n",
              "            0.85256,     0.85354,     0.85441,     0.85492,     0.85546,     0.85599,     0.85601,     0.85642,     0.85642,     0.85625,     0.85663,      0.8568,     0.85693,     0.85716,     0.85787,     0.85884,     0.85929,     0.85989,     0.86027,     0.86126,     0.86189,     0.86221,     0.86325,\n",
              "            0.86339,     0.86359,     0.86366,     0.86397,     0.86517,     0.86542,     0.86572,      0.8656,     0.86618,     0.86667,     0.86682,     0.86698,     0.86742,     0.86802,     0.86848,     0.86883,     0.86905,     0.86991,     0.87033,     0.87078,     0.87087,     0.87097,     0.87116,\n",
              "            0.87157,     0.87211,     0.87253,     0.87274,     0.87318,     0.87347,     0.87368,     0.87394,     0.87429,     0.87459,     0.87506,     0.87483,     0.87519,     0.87543,      0.8753,      0.8752,     0.87572,     0.87608,      0.8767,     0.87687,     0.87734,     0.87795,     0.87862,\n",
              "            0.87935,        0.88,      0.8804,     0.88091,     0.88103,     0.88121,     0.88114,     0.88126,     0.88155,     0.88164,     0.88172,     0.88176,     0.88235,     0.88263,     0.88299,     0.88284,     0.88281,     0.88291,     0.88336,     0.88343,      0.8835,     0.88382,     0.88399,\n",
              "            0.88434,     0.88455,     0.88469,     0.88482,     0.88504,     0.88562,     0.88586,       0.886,     0.88633,     0.88652,     0.88689,     0.88696,     0.88707,     0.88723,      0.8872,     0.88706,     0.88722,     0.88779,      0.8879,     0.88841,     0.88857,     0.88954,     0.89002,\n",
              "            0.89019,     0.89005,     0.88992,     0.89062,     0.89075,     0.89108,     0.89153,     0.89161,     0.89169,     0.89182,     0.89246,     0.89239,     0.89306,      0.8933,     0.89341,      0.8935,     0.89354,     0.89358,     0.89362,     0.89366,      0.8937,     0.89397,     0.89435,\n",
              "             0.8946,      0.8947,     0.89477,     0.89483,     0.89477,     0.89461,      0.8947,      0.8948,     0.89528,     0.89542,     0.89569,      0.8961,     0.89656,     0.89605,      0.8961,     0.89614,     0.89618,     0.89623,     0.89627,     0.89643,     0.89663,     0.89671,     0.89679,\n",
              "            0.89688,     0.89706,     0.89721,     0.89732,     0.89724,      0.8975,      0.8974,     0.89754,     0.89768,     0.89784,     0.89847,      0.8987,     0.89879,     0.89889,     0.89912,     0.89967,     0.90024,     0.90044,     0.90083,     0.90126,     0.90176,     0.90208,     0.90233,\n",
              "            0.90249,     0.90281,     0.90291,     0.90302,     0.90288,     0.90284,     0.90358,     0.90359,     0.90342,     0.90367,     0.90381,     0.90412,     0.90397,     0.90384,     0.90398,     0.90457,     0.90425,     0.90437,      0.9039,       0.904,     0.90416,     0.90476,      0.9046,\n",
              "            0.90533,     0.90518,     0.90525,     0.90559,     0.90542,     0.90525,     0.90508,     0.90463,     0.90445,     0.90402,     0.90393,     0.90407,     0.90455,     0.90434,     0.90448,     0.90442,     0.90434,     0.90425,     0.90445,     0.90421,     0.90433,     0.90409,     0.90403,\n",
              "             0.9038,     0.90399,     0.90428,     0.90437,     0.90446,     0.90436,     0.90444,     0.90453,     0.90462,     0.90485,     0.90498,     0.90505,     0.90513,     0.90549,     0.90563,     0.90471,     0.90491,     0.90476,     0.90482,      0.9047,     0.90476,     0.90466,      0.9046,\n",
              "            0.90465,     0.90471,     0.90476,     0.90483,     0.90496,     0.90522,     0.90505,     0.90488,     0.90479,      0.9047,     0.90487,      0.9046,     0.90474,      0.9047,     0.90411,     0.90389,     0.90381,     0.90373,     0.90365,     0.90366,     0.90398,     0.90397,     0.90386,\n",
              "            0.90377,     0.90343,     0.90392,     0.90442,     0.90451,     0.90401,     0.90393,     0.90386,     0.90378,     0.90391,     0.90375,     0.90403,     0.90416,     0.90457,     0.90435,     0.90365,     0.90322,     0.90321,     0.90313,     0.90306,     0.90298,     0.90296,     0.90305,\n",
              "            0.90314,     0.90299,     0.90304,     0.90341,     0.90347,     0.90353,     0.90359,     0.90338,     0.90278,     0.90283,     0.90224,     0.90169,     0.90182,      0.9019,      0.9018,      0.9017,      0.9016,     0.90173,     0.90177,     0.90161,      0.9016,     0.90172,     0.90161,\n",
              "             0.9015,     0.90136,      0.9012,     0.90094,     0.90033,     0.90071,     0.90096,     0.90088,     0.90072,     0.90048,     0.90056,     0.90065,     0.90089,     0.90139,     0.90145,     0.90151,     0.90157,     0.90159,     0.90143,     0.90176,     0.90161,     0.90188,     0.90233,\n",
              "            0.90258,     0.90276,     0.90289,     0.90304,     0.90321,     0.90334,     0.90353,     0.90338,     0.90375,     0.90365,     0.90355,     0.90372,     0.90397,     0.90372,     0.90347,      0.9036,     0.90274,     0.90331,     0.90316,     0.90315,      0.9032,     0.90325,      0.9033,\n",
              "            0.90362,     0.90381,     0.90355,      0.9036,     0.90365,      0.9037,     0.90376,     0.90386,     0.90396,     0.90394,     0.90379,     0.90361,      0.9037,     0.90378,     0.90401,     0.90386,      0.9034,     0.90325,     0.90304,     0.90288,     0.90273,     0.90257,     0.90259,\n",
              "            0.90272,      0.9031,     0.90323,     0.90304,     0.90298,      0.9031,     0.90326,     0.90338,     0.90362,     0.90357,     0.90372,     0.90384,     0.90367,      0.9038,      0.9035,     0.90373,     0.90338,     0.90332,     0.90326,      0.9032,     0.90313,     0.90297,     0.90266,\n",
              "            0.90273,     0.90284,     0.90269,     0.90282,     0.90266,     0.90261,     0.90274,     0.90269,     0.90254,     0.90263,     0.90272,     0.90187,     0.90192,     0.90197,     0.90202,     0.90207,      0.9019,     0.90187,       0.902,     0.90213,     0.90226,     0.90206,     0.90205,\n",
              "            0.90214,     0.90222,     0.90222,      0.9024,     0.90215,     0.90207,     0.90202,     0.90196,      0.9019,     0.90184,     0.90196,     0.90223,     0.90207,     0.90182,     0.90182,     0.90177,     0.90219,     0.90232,     0.90224,     0.90208,     0.90215,     0.90228,     0.90252,\n",
              "            0.90278,     0.90191,     0.90159,     0.90143,     0.90127,     0.90059,     0.90027,     0.90006,     0.90012,     0.89998,     0.89976,      0.8996,     0.89897,     0.89904,      0.8991,     0.89917,     0.89938,     0.89902,     0.89894,     0.89878,     0.89885,     0.89895,     0.89894,\n",
              "            0.89878,     0.89882,     0.89887,     0.89871,     0.89904,     0.89834,     0.89837,     0.89839,     0.89826,     0.89813,     0.89797,     0.89777,      0.8976,     0.89769,     0.89742,     0.89726,     0.89704,     0.89614,     0.89592,     0.89552,      0.8946,     0.89443,     0.89428,\n",
              "            0.89421,     0.89404,     0.89414,     0.89401,     0.89388,     0.89389,     0.89398,     0.89407,     0.89386,     0.89396,     0.89387,     0.89378,     0.89323,     0.89284,     0.89258,     0.89242,     0.89205,      0.8917,     0.89122,     0.89105,     0.89073,      0.8906,     0.89047,\n",
              "            0.89026,     0.89015,     0.88965,     0.88954,     0.88943,     0.88924,     0.88906,     0.88899,     0.88892,     0.88884,     0.88877,     0.88848,      0.8884,     0.88794,     0.88781,     0.88694,     0.88683,     0.88693,     0.88727,     0.88698,     0.88711,     0.88718,     0.88679,\n",
              "            0.88647,      0.8863,     0.88606,     0.88615,     0.88599,     0.88545,     0.88494,     0.88444,     0.88434,     0.88425,     0.88405,     0.88379,     0.88363,     0.88348,     0.88335,     0.88322,     0.88314,     0.88307,       0.883,     0.88292,     0.88198,     0.88179,     0.88111,\n",
              "            0.88097,     0.88084,     0.88022,     0.87988,     0.88001,     0.88001,     0.87979,     0.87881,     0.87856,     0.87867,     0.87866,     0.87855,     0.87844,     0.87787,     0.87789,      0.8781,     0.87788,     0.87766,     0.87778,     0.87775,     0.87762,     0.87713,      0.8769,\n",
              "            0.87659,     0.87592,     0.87512,     0.87501,      0.8749,     0.87391,     0.87374,     0.87358,     0.87357,      0.8737,     0.87356,     0.87335,     0.87324,     0.87313,     0.87281,     0.87289,     0.87296,     0.87296,     0.87273,     0.87255,     0.87238,     0.87173,     0.87151,\n",
              "            0.87165,     0.87174,     0.87182,     0.87171,      0.8716,     0.87174,     0.87161,     0.87093,      0.8706,     0.87039,     0.87033,     0.87026,     0.87003,      0.8698,     0.86924,     0.86868,     0.86845,     0.86728,     0.86664,     0.86641,     0.86608,     0.86584,     0.86522,\n",
              "            0.86496,     0.86473,      0.8641,     0.86382,     0.86332,     0.86339,     0.86214,     0.86191,     0.86168,     0.86161,     0.86065,     0.86053,      0.8597,     0.85909,     0.85862,     0.85774,     0.85751,     0.85738,     0.85724,     0.85706,     0.85691,      0.8568,     0.85668,\n",
              "            0.85589,     0.85539,     0.85344,     0.85227,     0.85221,     0.85232,      0.8525,     0.85162,     0.85185,     0.85142,     0.85118,     0.85095,      0.8504,     0.84981,     0.84939,     0.84813,     0.84782,     0.84801,     0.84739,     0.84703,     0.84664,     0.84451,     0.84401,\n",
              "            0.84271,     0.84063,     0.84043,     0.84008,     0.84007,      0.8401,     0.83876,     0.83685,     0.83516,     0.83443,     0.83392,     0.83174,     0.83109,     0.83062,     0.82951,     0.82829,     0.82766,     0.82621,     0.82544,      0.8248,     0.82162,      0.8205,     0.81834,\n",
              "            0.81751,     0.81414,     0.81297,     0.81238,     0.81154,     0.80959,     0.80807,     0.80616,     0.80311,     0.80098,      0.8004,     0.79847,     0.79717,     0.79593,     0.79249,     0.79053,     0.78778,     0.78651,      0.7829,     0.78011,      0.7789,      0.7749,     0.77299,\n",
              "               0.77,     0.76675,     0.76617,     0.76396,     0.76108,     0.75859,     0.75553,     0.75343,     0.75017,     0.74789,     0.74408,     0.74135,     0.73878,     0.73449,     0.72826,     0.72588,     0.72194,     0.71884,      0.7153,     0.71429,     0.71062,     0.70478,     0.70184,\n",
              "            0.69865,     0.69681,     0.68854,     0.68342,     0.68014,     0.67378,     0.66641,     0.65918,     0.65819,     0.65186,     0.64596,     0.64396,     0.63599,     0.63146,     0.62283,     0.61924,     0.61562,     0.60887,     0.60416,     0.59805,      0.5922,     0.58683,     0.57925,\n",
              "            0.57105,      0.5633,     0.55603,     0.54187,     0.53065,     0.51979,     0.51028,     0.49581,     0.48291,     0.47335,     0.46091,     0.45192,     0.43515,     0.41849,     0.40559,     0.39386,     0.38336,     0.36486,     0.36259,     0.35175,     0.33401,     0.32422,     0.31279,\n",
              "            0.29419,     0.28787,     0.27354,     0.25488,     0.24248,     0.23744,     0.22394,     0.21709,     0.20241,     0.19101,     0.18302,     0.17227,      0.1623,     0.15405,     0.14757,     0.13733,     0.12979,      0.1222,      0.1193,      0.1097,     0.10194,    0.095142,    0.093094,\n",
              "           0.084211,    0.079218,    0.077184,     0.07415,    0.067099,    0.061232,    0.058933,    0.053808,    0.047937,    0.046556,    0.042417,    0.040303,    0.036733,    0.036202,    0.032893,    0.030731,     0.02548,    0.022278,    0.019118,    0.016979,    0.015895,    0.014678,    0.010537,\n",
              "          0.0092598,   0.0053632,   0.0042141,    0.003848,   0.0034817,   0.0030083,   0.0022751,   0.0018454,   0.0014784,   0.0011113,           0,           0,           0,           0,           0,           0,           0,           0,           0,           0,           0,           0,           0,\n",
              "                  0,           0,           0,           0,           0,           0,           0,           0,           0,           0,           0]]), 'Confidence', 'F1'], [array([          0,    0.001001,    0.002002,    0.003003,    0.004004,    0.005005,    0.006006,    0.007007,    0.008008,    0.009009,     0.01001,    0.011011,    0.012012,    0.013013,    0.014014,    0.015015,    0.016016,    0.017017,    0.018018,    0.019019,     0.02002,    0.021021,    0.022022,    0.023023,\n",
              "          0.024024,    0.025025,    0.026026,    0.027027,    0.028028,    0.029029,     0.03003,    0.031031,    0.032032,    0.033033,    0.034034,    0.035035,    0.036036,    0.037037,    0.038038,    0.039039,     0.04004,    0.041041,    0.042042,    0.043043,    0.044044,    0.045045,    0.046046,    0.047047,\n",
              "          0.048048,    0.049049,     0.05005,    0.051051,    0.052052,    0.053053,    0.054054,    0.055055,    0.056056,    0.057057,    0.058058,    0.059059,     0.06006,    0.061061,    0.062062,    0.063063,    0.064064,    0.065065,    0.066066,    0.067067,    0.068068,    0.069069,     0.07007,    0.071071,\n",
              "          0.072072,    0.073073,    0.074074,    0.075075,    0.076076,    0.077077,    0.078078,    0.079079,     0.08008,    0.081081,    0.082082,    0.083083,    0.084084,    0.085085,    0.086086,    0.087087,    0.088088,    0.089089,     0.09009,    0.091091,    0.092092,    0.093093,    0.094094,    0.095095,\n",
              "          0.096096,    0.097097,    0.098098,    0.099099,      0.1001,      0.1011,      0.1021,      0.1031,      0.1041,     0.10511,     0.10611,     0.10711,     0.10811,     0.10911,     0.11011,     0.11111,     0.11211,     0.11311,     0.11411,     0.11512,     0.11612,     0.11712,     0.11812,     0.11912,\n",
              "           0.12012,     0.12112,     0.12212,     0.12312,     0.12412,     0.12513,     0.12613,     0.12713,     0.12813,     0.12913,     0.13013,     0.13113,     0.13213,     0.13313,     0.13413,     0.13514,     0.13614,     0.13714,     0.13814,     0.13914,     0.14014,     0.14114,     0.14214,     0.14314,\n",
              "           0.14414,     0.14515,     0.14615,     0.14715,     0.14815,     0.14915,     0.15015,     0.15115,     0.15215,     0.15315,     0.15415,     0.15516,     0.15616,     0.15716,     0.15816,     0.15916,     0.16016,     0.16116,     0.16216,     0.16316,     0.16416,     0.16517,     0.16617,     0.16717,\n",
              "           0.16817,     0.16917,     0.17017,     0.17117,     0.17217,     0.17317,     0.17417,     0.17518,     0.17618,     0.17718,     0.17818,     0.17918,     0.18018,     0.18118,     0.18218,     0.18318,     0.18418,     0.18519,     0.18619,     0.18719,     0.18819,     0.18919,     0.19019,     0.19119,\n",
              "           0.19219,     0.19319,     0.19419,      0.1952,      0.1962,      0.1972,      0.1982,      0.1992,      0.2002,      0.2012,      0.2022,      0.2032,      0.2042,     0.20521,     0.20621,     0.20721,     0.20821,     0.20921,     0.21021,     0.21121,     0.21221,     0.21321,     0.21421,     0.21522,\n",
              "           0.21622,     0.21722,     0.21822,     0.21922,     0.22022,     0.22122,     0.22222,     0.22322,     0.22422,     0.22523,     0.22623,     0.22723,     0.22823,     0.22923,     0.23023,     0.23123,     0.23223,     0.23323,     0.23423,     0.23524,     0.23624,     0.23724,     0.23824,     0.23924,\n",
              "           0.24024,     0.24124,     0.24224,     0.24324,     0.24424,     0.24525,     0.24625,     0.24725,     0.24825,     0.24925,     0.25025,     0.25125,     0.25225,     0.25325,     0.25425,     0.25526,     0.25626,     0.25726,     0.25826,     0.25926,     0.26026,     0.26126,     0.26226,     0.26326,\n",
              "           0.26426,     0.26527,     0.26627,     0.26727,     0.26827,     0.26927,     0.27027,     0.27127,     0.27227,     0.27327,     0.27427,     0.27528,     0.27628,     0.27728,     0.27828,     0.27928,     0.28028,     0.28128,     0.28228,     0.28328,     0.28428,     0.28529,     0.28629,     0.28729,\n",
              "           0.28829,     0.28929,     0.29029,     0.29129,     0.29229,     0.29329,     0.29429,      0.2953,      0.2963,      0.2973,      0.2983,      0.2993,      0.3003,      0.3013,      0.3023,      0.3033,      0.3043,     0.30531,     0.30631,     0.30731,     0.30831,     0.30931,     0.31031,     0.31131,\n",
              "           0.31231,     0.31331,     0.31431,     0.31532,     0.31632,     0.31732,     0.31832,     0.31932,     0.32032,     0.32132,     0.32232,     0.32332,     0.32432,     0.32533,     0.32633,     0.32733,     0.32833,     0.32933,     0.33033,     0.33133,     0.33233,     0.33333,     0.33433,     0.33534,\n",
              "           0.33634,     0.33734,     0.33834,     0.33934,     0.34034,     0.34134,     0.34234,     0.34334,     0.34434,     0.34535,     0.34635,     0.34735,     0.34835,     0.34935,     0.35035,     0.35135,     0.35235,     0.35335,     0.35435,     0.35536,     0.35636,     0.35736,     0.35836,     0.35936,\n",
              "           0.36036,     0.36136,     0.36236,     0.36336,     0.36436,     0.36537,     0.36637,     0.36737,     0.36837,     0.36937,     0.37037,     0.37137,     0.37237,     0.37337,     0.37437,     0.37538,     0.37638,     0.37738,     0.37838,     0.37938,     0.38038,     0.38138,     0.38238,     0.38338,\n",
              "           0.38438,     0.38539,     0.38639,     0.38739,     0.38839,     0.38939,     0.39039,     0.39139,     0.39239,     0.39339,     0.39439,      0.3954,      0.3964,      0.3974,      0.3984,      0.3994,      0.4004,      0.4014,      0.4024,      0.4034,      0.4044,     0.40541,     0.40641,     0.40741,\n",
              "           0.40841,     0.40941,     0.41041,     0.41141,     0.41241,     0.41341,     0.41441,     0.41542,     0.41642,     0.41742,     0.41842,     0.41942,     0.42042,     0.42142,     0.42242,     0.42342,     0.42442,     0.42543,     0.42643,     0.42743,     0.42843,     0.42943,     0.43043,     0.43143,\n",
              "           0.43243,     0.43343,     0.43443,     0.43544,     0.43644,     0.43744,     0.43844,     0.43944,     0.44044,     0.44144,     0.44244,     0.44344,     0.44444,     0.44545,     0.44645,     0.44745,     0.44845,     0.44945,     0.45045,     0.45145,     0.45245,     0.45345,     0.45445,     0.45546,\n",
              "           0.45646,     0.45746,     0.45846,     0.45946,     0.46046,     0.46146,     0.46246,     0.46346,     0.46446,     0.46547,     0.46647,     0.46747,     0.46847,     0.46947,     0.47047,     0.47147,     0.47247,     0.47347,     0.47447,     0.47548,     0.47648,     0.47748,     0.47848,     0.47948,\n",
              "           0.48048,     0.48148,     0.48248,     0.48348,     0.48448,     0.48549,     0.48649,     0.48749,     0.48849,     0.48949,     0.49049,     0.49149,     0.49249,     0.49349,     0.49449,      0.4955,      0.4965,      0.4975,      0.4985,      0.4995,      0.5005,      0.5015,      0.5025,      0.5035,\n",
              "            0.5045,     0.50551,     0.50651,     0.50751,     0.50851,     0.50951,     0.51051,     0.51151,     0.51251,     0.51351,     0.51451,     0.51552,     0.51652,     0.51752,     0.51852,     0.51952,     0.52052,     0.52152,     0.52252,     0.52352,     0.52452,     0.52553,     0.52653,     0.52753,\n",
              "           0.52853,     0.52953,     0.53053,     0.53153,     0.53253,     0.53353,     0.53453,     0.53554,     0.53654,     0.53754,     0.53854,     0.53954,     0.54054,     0.54154,     0.54254,     0.54354,     0.54454,     0.54555,     0.54655,     0.54755,     0.54855,     0.54955,     0.55055,     0.55155,\n",
              "           0.55255,     0.55355,     0.55455,     0.55556,     0.55656,     0.55756,     0.55856,     0.55956,     0.56056,     0.56156,     0.56256,     0.56356,     0.56456,     0.56557,     0.56657,     0.56757,     0.56857,     0.56957,     0.57057,     0.57157,     0.57257,     0.57357,     0.57457,     0.57558,\n",
              "           0.57658,     0.57758,     0.57858,     0.57958,     0.58058,     0.58158,     0.58258,     0.58358,     0.58458,     0.58559,     0.58659,     0.58759,     0.58859,     0.58959,     0.59059,     0.59159,     0.59259,     0.59359,     0.59459,      0.5956,      0.5966,      0.5976,      0.5986,      0.5996,\n",
              "            0.6006,      0.6016,      0.6026,      0.6036,      0.6046,     0.60561,     0.60661,     0.60761,     0.60861,     0.60961,     0.61061,     0.61161,     0.61261,     0.61361,     0.61461,     0.61562,     0.61662,     0.61762,     0.61862,     0.61962,     0.62062,     0.62162,     0.62262,     0.62362,\n",
              "           0.62462,     0.62563,     0.62663,     0.62763,     0.62863,     0.62963,     0.63063,     0.63163,     0.63263,     0.63363,     0.63463,     0.63564,     0.63664,     0.63764,     0.63864,     0.63964,     0.64064,     0.64164,     0.64264,     0.64364,     0.64464,     0.64565,     0.64665,     0.64765,\n",
              "           0.64865,     0.64965,     0.65065,     0.65165,     0.65265,     0.65365,     0.65465,     0.65566,     0.65666,     0.65766,     0.65866,     0.65966,     0.66066,     0.66166,     0.66266,     0.66366,     0.66466,     0.66567,     0.66667,     0.66767,     0.66867,     0.66967,     0.67067,     0.67167,\n",
              "           0.67267,     0.67367,     0.67467,     0.67568,     0.67668,     0.67768,     0.67868,     0.67968,     0.68068,     0.68168,     0.68268,     0.68368,     0.68468,     0.68569,     0.68669,     0.68769,     0.68869,     0.68969,     0.69069,     0.69169,     0.69269,     0.69369,     0.69469,      0.6957,\n",
              "            0.6967,      0.6977,      0.6987,      0.6997,      0.7007,      0.7017,      0.7027,      0.7037,      0.7047,     0.70571,     0.70671,     0.70771,     0.70871,     0.70971,     0.71071,     0.71171,     0.71271,     0.71371,     0.71471,     0.71572,     0.71672,     0.71772,     0.71872,     0.71972,\n",
              "           0.72072,     0.72172,     0.72272,     0.72372,     0.72472,     0.72573,     0.72673,     0.72773,     0.72873,     0.72973,     0.73073,     0.73173,     0.73273,     0.73373,     0.73473,     0.73574,     0.73674,     0.73774,     0.73874,     0.73974,     0.74074,     0.74174,     0.74274,     0.74374,\n",
              "           0.74474,     0.74575,     0.74675,     0.74775,     0.74875,     0.74975,     0.75075,     0.75175,     0.75275,     0.75375,     0.75475,     0.75576,     0.75676,     0.75776,     0.75876,     0.75976,     0.76076,     0.76176,     0.76276,     0.76376,     0.76476,     0.76577,     0.76677,     0.76777,\n",
              "           0.76877,     0.76977,     0.77077,     0.77177,     0.77277,     0.77377,     0.77477,     0.77578,     0.77678,     0.77778,     0.77878,     0.77978,     0.78078,     0.78178,     0.78278,     0.78378,     0.78478,     0.78579,     0.78679,     0.78779,     0.78879,     0.78979,     0.79079,     0.79179,\n",
              "           0.79279,     0.79379,     0.79479,      0.7958,      0.7968,      0.7978,      0.7988,      0.7998,      0.8008,      0.8018,      0.8028,      0.8038,      0.8048,     0.80581,     0.80681,     0.80781,     0.80881,     0.80981,     0.81081,     0.81181,     0.81281,     0.81381,     0.81481,     0.81582,\n",
              "           0.81682,     0.81782,     0.81882,     0.81982,     0.82082,     0.82182,     0.82282,     0.82382,     0.82482,     0.82583,     0.82683,     0.82783,     0.82883,     0.82983,     0.83083,     0.83183,     0.83283,     0.83383,     0.83483,     0.83584,     0.83684,     0.83784,     0.83884,     0.83984,\n",
              "           0.84084,     0.84184,     0.84284,     0.84384,     0.84484,     0.84585,     0.84685,     0.84785,     0.84885,     0.84985,     0.85085,     0.85185,     0.85285,     0.85385,     0.85485,     0.85586,     0.85686,     0.85786,     0.85886,     0.85986,     0.86086,     0.86186,     0.86286,     0.86386,\n",
              "           0.86486,     0.86587,     0.86687,     0.86787,     0.86887,     0.86987,     0.87087,     0.87187,     0.87287,     0.87387,     0.87487,     0.87588,     0.87688,     0.87788,     0.87888,     0.87988,     0.88088,     0.88188,     0.88288,     0.88388,     0.88488,     0.88589,     0.88689,     0.88789,\n",
              "           0.88889,     0.88989,     0.89089,     0.89189,     0.89289,     0.89389,     0.89489,      0.8959,      0.8969,      0.8979,      0.8989,      0.8999,      0.9009,      0.9019,      0.9029,      0.9039,      0.9049,     0.90591,     0.90691,     0.90791,     0.90891,     0.90991,     0.91091,     0.91191,\n",
              "           0.91291,     0.91391,     0.91491,     0.91592,     0.91692,     0.91792,     0.91892,     0.91992,     0.92092,     0.92192,     0.92292,     0.92392,     0.92492,     0.92593,     0.92693,     0.92793,     0.92893,     0.92993,     0.93093,     0.93193,     0.93293,     0.93393,     0.93493,     0.93594,\n",
              "           0.93694,     0.93794,     0.93894,     0.93994,     0.94094,     0.94194,     0.94294,     0.94394,     0.94494,     0.94595,     0.94695,     0.94795,     0.94895,     0.94995,     0.95095,     0.95195,     0.95295,     0.95395,     0.95495,     0.95596,     0.95696,     0.95796,     0.95896,     0.95996,\n",
              "           0.96096,     0.96196,     0.96296,     0.96396,     0.96496,     0.96597,     0.96697,     0.96797,     0.96897,     0.96997,     0.97097,     0.97197,     0.97297,     0.97397,     0.97497,     0.97598,     0.97698,     0.97798,     0.97898,     0.97998,     0.98098,     0.98198,     0.98298,     0.98398,\n",
              "           0.98498,     0.98599,     0.98699,     0.98799,     0.98899,     0.98999,     0.99099,     0.99199,     0.99299,     0.99399,     0.99499,       0.996,       0.997,       0.998,       0.999,           1]), array([[    0.25937,     0.25937,     0.33651,     0.38446,     0.41835,     0.44491,     0.46709,     0.48558,     0.50326,     0.51555,     0.52764,     0.53632,     0.54655,     0.55708,     0.56681,     0.57345,     0.57997,     0.58695,     0.59397,     0.60131,     0.60859,     0.61392,     0.61784,\n",
              "            0.62458,     0.62872,     0.63388,      0.6385,     0.64213,     0.64797,     0.65105,     0.65616,     0.66162,     0.66503,     0.66674,     0.66894,     0.67029,     0.67211,     0.67285,      0.6757,     0.67796,     0.67941,     0.68174,     0.68262,     0.68625,     0.68741,     0.68889,\n",
              "            0.69086,     0.69222,     0.69433,     0.69607,      0.6976,     0.69991,     0.70149,     0.70268,     0.70378,     0.70526,      0.7066,     0.70729,     0.70915,     0.71026,     0.71115,      0.7125,     0.71354,     0.71494,     0.71677,     0.71887,     0.72031,     0.72306,     0.72458,\n",
              "            0.72548,     0.72724,     0.72844,     0.72962,     0.73121,     0.73242,     0.73316,     0.73381,     0.73437,     0.73539,     0.73622,     0.73676,     0.73767,     0.73802,     0.74099,     0.74196,     0.74338,     0.74427,     0.74476,     0.74686,      0.7479,     0.74983,     0.75035,\n",
              "            0.75146,     0.75216,     0.75215,     0.75322,      0.7542,     0.75496,     0.75546,      0.7564,     0.75689,     0.75788,      0.7606,     0.76157,     0.76241,     0.76348,     0.76434,     0.76544,     0.76758,     0.76981,     0.77074,     0.77103,     0.77138,     0.77229,     0.77346,\n",
              "            0.77398,     0.77559,     0.77704,     0.77789,     0.77877,     0.78002,     0.78035,     0.78146,     0.78186,     0.78181,     0.78254,     0.78283,     0.78305,     0.78342,     0.78498,     0.78662,     0.78737,     0.78838,     0.78902,     0.79068,     0.79174,     0.79229,     0.79405,\n",
              "            0.79428,     0.79463,     0.79511,     0.79565,     0.79768,     0.79812,     0.79862,     0.79918,     0.80017,     0.80102,     0.80127,     0.80155,     0.80229,     0.80332,     0.80412,     0.80471,     0.80508,     0.80657,     0.80729,     0.80806,     0.80822,     0.80838,     0.80872,\n",
              "            0.80943,     0.81035,     0.81107,     0.81145,      0.8122,      0.8127,     0.81306,     0.81353,     0.81413,     0.81464,     0.81551,     0.81547,     0.81609,     0.81656,     0.81652,     0.81651,     0.81742,     0.81805,     0.81913,     0.81942,     0.82025,     0.82131,     0.82249,\n",
              "            0.82376,      0.8249,     0.82561,     0.82651,     0.82672,     0.82703,     0.82722,     0.82754,     0.82806,      0.8282,     0.82835,     0.82871,     0.82988,     0.83037,     0.83104,     0.83099,     0.83112,      0.8317,     0.83251,     0.83264,     0.83276,     0.83333,     0.83362,\n",
              "            0.83424,     0.83462,     0.83487,      0.8351,      0.8355,     0.83654,     0.83695,     0.83721,     0.83779,     0.83814,     0.83918,     0.83936,     0.83955,     0.83984,     0.83995,     0.83996,     0.84026,     0.84128,     0.84148,     0.84238,     0.84268,     0.84441,     0.84529,\n",
              "             0.8456,     0.84556,     0.84552,      0.8468,     0.84704,     0.84764,     0.84845,      0.8486,     0.84875,     0.84898,     0.85014,     0.85045,     0.85167,     0.85211,      0.8523,     0.85248,     0.85255,     0.85262,     0.85269,     0.85276,     0.85283,     0.85333,     0.85403,\n",
              "            0.85448,     0.85466,     0.85478,      0.8549,     0.85495,     0.85494,     0.85511,     0.85528,     0.85617,     0.85641,     0.85699,     0.85812,     0.85903,     0.85894,     0.85902,     0.85909,     0.85917,     0.85925,     0.85934,     0.85963,        0.86,     0.86059,     0.86075,\n",
              "            0.86091,     0.86125,     0.86152,     0.86171,     0.86203,     0.86251,     0.86256,     0.86304,     0.86329,      0.8636,     0.86477,     0.86518,     0.86536,     0.86553,     0.86597,       0.867,     0.86852,     0.86888,     0.86962,     0.87041,     0.87135,     0.87195,     0.87241,\n",
              "            0.87271,      0.8733,      0.8735,      0.8737,     0.87371,     0.87384,     0.87523,     0.87542,     0.87538,     0.87587,     0.87613,     0.87671,     0.87667,     0.87666,     0.87692,     0.87838,     0.87838,     0.87861,     0.87863,     0.87886,     0.87966,     0.88079,     0.88097,\n",
              "            0.88236,     0.88248,     0.88269,     0.88337,     0.88334,      0.8833,     0.88327,     0.88317,     0.88313,     0.88305,      0.8831,     0.88336,     0.88429,     0.88433,     0.88513,     0.88515,     0.88514,     0.88512,     0.88557,     0.88552,     0.88595,      0.8859,      0.8863,\n",
              "             0.8863,     0.88667,     0.88724,     0.88741,     0.88758,      0.8876,     0.88803,      0.8882,     0.88837,     0.88882,     0.88907,     0.88922,     0.88936,     0.89006,     0.89033,     0.89057,     0.89102,       0.891,     0.89129,      0.8914,     0.89168,     0.89181,     0.89186,\n",
              "            0.89197,     0.89208,     0.89218,     0.89233,     0.89257,     0.89318,     0.89315,     0.89354,     0.89352,      0.8935,     0.89393,     0.89391,     0.89418,     0.89478,     0.89466,     0.89462,     0.89461,     0.89459,     0.89458,       0.895,      0.8958,     0.89592,      0.8959,\n",
              "            0.89589,     0.89627,     0.89723,     0.89821,      0.8986,     0.89851,     0.89849,     0.89848,     0.89847,     0.89878,     0.89889,     0.89956,      0.8998,     0.90116,     0.90118,     0.90146,      0.9023,     0.90274,     0.90272,     0.90271,      0.9027,     0.90274,     0.90292,\n",
              "             0.9031,     0.90314,     0.90344,     0.90418,      0.9043,     0.90443,     0.90455,     0.90454,     0.90444,     0.90579,     0.90569,     0.90562,     0.90587,     0.90608,     0.90606,     0.90604,     0.90654,     0.90679,     0.90696,     0.90693,     0.90709,      0.9074,     0.90738,\n",
              "            0.90736,     0.90734,     0.90731,     0.90727,     0.90717,     0.90805,     0.90856,     0.90862,      0.9086,     0.90869,     0.90886,     0.90903,     0.90953,     0.91054,     0.91067,      0.9108,     0.91092,     0.91103,     0.91118,     0.91198,     0.91196,     0.91268,     0.91415,\n",
              "            0.91467,     0.91505,     0.91531,     0.91618,     0.91655,     0.91681,     0.91739,     0.91737,     0.91837,     0.91835,     0.91834,     0.91873,     0.91926,     0.91978,     0.91995,     0.92022,     0.92012,     0.92164,     0.92161,     0.92219,     0.92229,      0.9224,     0.92251,\n",
              "            0.92317,     0.92363,     0.92361,     0.92372,     0.92382,     0.92393,     0.92404,     0.92425,     0.92462,     0.92511,     0.92508,     0.92609,     0.92627,     0.92645,     0.92707,     0.92705,     0.92698,     0.92696,     0.92743,     0.92741,     0.92738,     0.92736,     0.92752,\n",
              "            0.92779,     0.92859,     0.92886,     0.92891,     0.92939,      0.9298,     0.93013,      0.9304,      0.9309,     0.93141,     0.93171,     0.93198,     0.93222,     0.93249,     0.93246,     0.93299,     0.93345,     0.93344,     0.93343,     0.93342,     0.93342,      0.9339,     0.93386,\n",
              "             0.9345,      0.9349,     0.93503,      0.9354,     0.93538,     0.93547,     0.93575,      0.9359,     0.93595,     0.93614,     0.93632,     0.93636,     0.93647,     0.93658,      0.9367,     0.93681,     0.93682,     0.93699,     0.93727,     0.93755,     0.93783,     0.93787,     0.93801,\n",
              "            0.93819,     0.93838,     0.93892,      0.9394,     0.93943,     0.93942,     0.93942,     0.93941,      0.9394,      0.9394,      0.9397,     0.94048,     0.94046,     0.94043,      0.9413,     0.94183,     0.94275,     0.94304,      0.9431,     0.94308,      0.9433,     0.94358,     0.94411,\n",
              "            0.94468,     0.94464,     0.94461,     0.94459,     0.94458,     0.94503,       0.945,     0.94498,      0.9453,     0.94604,     0.94602,       0.946,     0.94603,     0.94617,     0.94632,     0.94646,     0.94694,     0.94745,     0.94754,     0.94753,     0.94773,     0.94796,     0.94808,\n",
              "            0.94807,     0.94834,     0.94862,      0.9486,     0.94948,     0.94965,     0.94999,      0.9502,     0.95019,     0.95018,     0.95016,     0.95014,     0.95027,     0.95068,     0.95066,     0.95064,     0.95062,     0.95054,     0.95051,     0.95099,     0.95094,     0.95092,     0.95092,\n",
              "            0.95146,     0.95144,       0.952,     0.95199,     0.95198,      0.9521,      0.9523,      0.9525,     0.95253,      0.9531,     0.95309,     0.95308,     0.95359,     0.95412,     0.95409,     0.95408,     0.95405,     0.95402,     0.95397,     0.95396,     0.95393,     0.95392,     0.95391,\n",
              "            0.95424,     0.95444,      0.9544,     0.95439,     0.95438,     0.95436,     0.95435,     0.95434,     0.95433,     0.95433,     0.95432,      0.9543,     0.95486,     0.95482,      0.9548,     0.95473,     0.95484,     0.95508,      0.9559,      0.9559,     0.95621,     0.95646,     0.95643,\n",
              "             0.9564,     0.95639,     0.95665,     0.95695,     0.95694,     0.95689,     0.95743,     0.95739,     0.95738,     0.95737,     0.95735,     0.95733,     0.95732,     0.95731,      0.9573,     0.95729,     0.95728,     0.95727,     0.95727,     0.95726,     0.95729,     0.95775,     0.95828,\n",
              "            0.95827,     0.95826,     0.95821,     0.95828,     0.95859,     0.95878,     0.95876,     0.95868,     0.95889,     0.95914,     0.95926,     0.95925,     0.95924,     0.95919,     0.95956,     0.96006,     0.96038,     0.96036,      0.9608,     0.96097,     0.96095,     0.96092,      0.9609,\n",
              "            0.96088,     0.96083,     0.96076,     0.96076,     0.96075,     0.96067,     0.96126,     0.96125,     0.96141,     0.96173,     0.96185,     0.96183,     0.96182,     0.96182,     0.96191,     0.96209,     0.96228,     0.96241,     0.96239,     0.96238,     0.96236,     0.96232,     0.96266,\n",
              "              0.963,     0.96322,     0.96343,     0.96353,     0.96368,       0.964,     0.96413,     0.96409,     0.96529,     0.96651,     0.96692,     0.96712,      0.9671,     0.96709,     0.96705,     0.96701,       0.967,     0.96692,     0.96688,     0.96687,     0.96685,     0.96683,     0.96679,\n",
              "            0.96739,     0.96738,     0.96734,     0.96733,     0.96741,     0.96793,     0.96785,     0.96783,     0.96782,     0.96809,     0.96839,     0.96872,      0.9696,     0.96957,     0.96954,     0.96949,     0.96947,     0.97006,     0.97074,     0.97073,     0.97073,     0.97072,     0.97071,\n",
              "            0.97067,     0.97064,     0.97052,     0.97045,     0.97063,      0.9709,     0.97177,     0.97238,     0.97371,     0.97435,     0.97434,     0.97433,     0.97479,     0.97493,     0.97558,     0.97552,     0.97613,     0.97663,     0.97683,     0.97681,     0.97679,     0.97669,     0.97667,\n",
              "            0.97661,     0.97651,     0.97677,     0.97717,     0.97768,     0.97923,     0.97918,      0.9791,     0.97903,       0.979,     0.97897,     0.97888,     0.97885,     0.97883,     0.97879,     0.97873,     0.97871,     0.97864,     0.97861,      0.9793,     0.97916,     0.97911,     0.97902,\n",
              "            0.97899,     0.97884,     0.97919,     0.98023,      0.9802,     0.98086,      0.9808,     0.98073,     0.98061,     0.98052,      0.9805,     0.98042,     0.98113,     0.98192,     0.98327,      0.9832,      0.9831,     0.98384,     0.98372,     0.98363,     0.98359,     0.98345,     0.98501,\n",
              "            0.98573,     0.98563,     0.98644,     0.98722,     0.98714,     0.98707,     0.98784,     0.98778,     0.98942,     0.99025,     0.99017,       0.991,     0.99095,     0.99087,     0.99166,     0.99253,     0.99247,     0.99242,     0.99236,     0.99235,     0.99324,     0.99315,     0.99408,\n",
              "            0.99404,     0.99402,     0.99391,     0.99384,      0.9938,     0.99475,     0.99572,     0.99565,     0.99564,     0.99558,     0.99552,      0.9955,     0.99542,     0.99537,     0.99527,     0.99524,     0.99519,     0.99512,     0.99506,     0.99624,     0.99618,     0.99614,     0.99606,\n",
              "            0.99598,     0.99591,     0.99583,     0.99568,     0.99556,     0.99543,     0.99532,     0.99514,     0.99496,     0.99483,     0.99465,     0.99451,     0.99615,     0.99596,     0.99579,     0.99564,     0.99549,     0.99521,     0.99517,     0.99499,     0.99467,     0.99448,     0.99424,\n",
              "            0.99381,     0.99365,     0.99326,      0.9927,     0.99227,     0.99209,     0.99155,     0.99125,     0.99055,     0.98992,     0.98944,     0.98873,     0.98798,     0.98729,     0.98669,     0.98563,     0.98475,     0.98375,     0.98334,     0.98182,     0.98038,     0.97894,     0.97846,\n",
              "            0.97613,      0.9746,     0.97392,     0.97284,     0.96997,     0.96709,     0.96581,     0.96258,     0.95807,     0.95685,     0.97579,     0.97452,     0.97206,     0.97166,     0.96885,     0.96669,        0.96,     0.95444,     0.94723,      0.9409,     0.93709,     0.93215,     0.90774,\n",
              "            0.89613,     0.89973,           1,           1,           1,           1,           1,           1,           1,           1,           1,           1,           1,           1,           1,           1,           1,           1,           1,           1,           1,           1,           1,\n",
              "                  1,           1,           1,           1,           1,           1,           1,           1,           1,           1,           1]]), 'Confidence', 'Precision'], [array([          0,    0.001001,    0.002002,    0.003003,    0.004004,    0.005005,    0.006006,    0.007007,    0.008008,    0.009009,     0.01001,    0.011011,    0.012012,    0.013013,    0.014014,    0.015015,    0.016016,    0.017017,    0.018018,    0.019019,     0.02002,    0.021021,    0.022022,    0.023023,\n",
              "          0.024024,    0.025025,    0.026026,    0.027027,    0.028028,    0.029029,     0.03003,    0.031031,    0.032032,    0.033033,    0.034034,    0.035035,    0.036036,    0.037037,    0.038038,    0.039039,     0.04004,    0.041041,    0.042042,    0.043043,    0.044044,    0.045045,    0.046046,    0.047047,\n",
              "          0.048048,    0.049049,     0.05005,    0.051051,    0.052052,    0.053053,    0.054054,    0.055055,    0.056056,    0.057057,    0.058058,    0.059059,     0.06006,    0.061061,    0.062062,    0.063063,    0.064064,    0.065065,    0.066066,    0.067067,    0.068068,    0.069069,     0.07007,    0.071071,\n",
              "          0.072072,    0.073073,    0.074074,    0.075075,    0.076076,    0.077077,    0.078078,    0.079079,     0.08008,    0.081081,    0.082082,    0.083083,    0.084084,    0.085085,    0.086086,    0.087087,    0.088088,    0.089089,     0.09009,    0.091091,    0.092092,    0.093093,    0.094094,    0.095095,\n",
              "          0.096096,    0.097097,    0.098098,    0.099099,      0.1001,      0.1011,      0.1021,      0.1031,      0.1041,     0.10511,     0.10611,     0.10711,     0.10811,     0.10911,     0.11011,     0.11111,     0.11211,     0.11311,     0.11411,     0.11512,     0.11612,     0.11712,     0.11812,     0.11912,\n",
              "           0.12012,     0.12112,     0.12212,     0.12312,     0.12412,     0.12513,     0.12613,     0.12713,     0.12813,     0.12913,     0.13013,     0.13113,     0.13213,     0.13313,     0.13413,     0.13514,     0.13614,     0.13714,     0.13814,     0.13914,     0.14014,     0.14114,     0.14214,     0.14314,\n",
              "           0.14414,     0.14515,     0.14615,     0.14715,     0.14815,     0.14915,     0.15015,     0.15115,     0.15215,     0.15315,     0.15415,     0.15516,     0.15616,     0.15716,     0.15816,     0.15916,     0.16016,     0.16116,     0.16216,     0.16316,     0.16416,     0.16517,     0.16617,     0.16717,\n",
              "           0.16817,     0.16917,     0.17017,     0.17117,     0.17217,     0.17317,     0.17417,     0.17518,     0.17618,     0.17718,     0.17818,     0.17918,     0.18018,     0.18118,     0.18218,     0.18318,     0.18418,     0.18519,     0.18619,     0.18719,     0.18819,     0.18919,     0.19019,     0.19119,\n",
              "           0.19219,     0.19319,     0.19419,      0.1952,      0.1962,      0.1972,      0.1982,      0.1992,      0.2002,      0.2012,      0.2022,      0.2032,      0.2042,     0.20521,     0.20621,     0.20721,     0.20821,     0.20921,     0.21021,     0.21121,     0.21221,     0.21321,     0.21421,     0.21522,\n",
              "           0.21622,     0.21722,     0.21822,     0.21922,     0.22022,     0.22122,     0.22222,     0.22322,     0.22422,     0.22523,     0.22623,     0.22723,     0.22823,     0.22923,     0.23023,     0.23123,     0.23223,     0.23323,     0.23423,     0.23524,     0.23624,     0.23724,     0.23824,     0.23924,\n",
              "           0.24024,     0.24124,     0.24224,     0.24324,     0.24424,     0.24525,     0.24625,     0.24725,     0.24825,     0.24925,     0.25025,     0.25125,     0.25225,     0.25325,     0.25425,     0.25526,     0.25626,     0.25726,     0.25826,     0.25926,     0.26026,     0.26126,     0.26226,     0.26326,\n",
              "           0.26426,     0.26527,     0.26627,     0.26727,     0.26827,     0.26927,     0.27027,     0.27127,     0.27227,     0.27327,     0.27427,     0.27528,     0.27628,     0.27728,     0.27828,     0.27928,     0.28028,     0.28128,     0.28228,     0.28328,     0.28428,     0.28529,     0.28629,     0.28729,\n",
              "           0.28829,     0.28929,     0.29029,     0.29129,     0.29229,     0.29329,     0.29429,      0.2953,      0.2963,      0.2973,      0.2983,      0.2993,      0.3003,      0.3013,      0.3023,      0.3033,      0.3043,     0.30531,     0.30631,     0.30731,     0.30831,     0.30931,     0.31031,     0.31131,\n",
              "           0.31231,     0.31331,     0.31431,     0.31532,     0.31632,     0.31732,     0.31832,     0.31932,     0.32032,     0.32132,     0.32232,     0.32332,     0.32432,     0.32533,     0.32633,     0.32733,     0.32833,     0.32933,     0.33033,     0.33133,     0.33233,     0.33333,     0.33433,     0.33534,\n",
              "           0.33634,     0.33734,     0.33834,     0.33934,     0.34034,     0.34134,     0.34234,     0.34334,     0.34434,     0.34535,     0.34635,     0.34735,     0.34835,     0.34935,     0.35035,     0.35135,     0.35235,     0.35335,     0.35435,     0.35536,     0.35636,     0.35736,     0.35836,     0.35936,\n",
              "           0.36036,     0.36136,     0.36236,     0.36336,     0.36436,     0.36537,     0.36637,     0.36737,     0.36837,     0.36937,     0.37037,     0.37137,     0.37237,     0.37337,     0.37437,     0.37538,     0.37638,     0.37738,     0.37838,     0.37938,     0.38038,     0.38138,     0.38238,     0.38338,\n",
              "           0.38438,     0.38539,     0.38639,     0.38739,     0.38839,     0.38939,     0.39039,     0.39139,     0.39239,     0.39339,     0.39439,      0.3954,      0.3964,      0.3974,      0.3984,      0.3994,      0.4004,      0.4014,      0.4024,      0.4034,      0.4044,     0.40541,     0.40641,     0.40741,\n",
              "           0.40841,     0.40941,     0.41041,     0.41141,     0.41241,     0.41341,     0.41441,     0.41542,     0.41642,     0.41742,     0.41842,     0.41942,     0.42042,     0.42142,     0.42242,     0.42342,     0.42442,     0.42543,     0.42643,     0.42743,     0.42843,     0.42943,     0.43043,     0.43143,\n",
              "           0.43243,     0.43343,     0.43443,     0.43544,     0.43644,     0.43744,     0.43844,     0.43944,     0.44044,     0.44144,     0.44244,     0.44344,     0.44444,     0.44545,     0.44645,     0.44745,     0.44845,     0.44945,     0.45045,     0.45145,     0.45245,     0.45345,     0.45445,     0.45546,\n",
              "           0.45646,     0.45746,     0.45846,     0.45946,     0.46046,     0.46146,     0.46246,     0.46346,     0.46446,     0.46547,     0.46647,     0.46747,     0.46847,     0.46947,     0.47047,     0.47147,     0.47247,     0.47347,     0.47447,     0.47548,     0.47648,     0.47748,     0.47848,     0.47948,\n",
              "           0.48048,     0.48148,     0.48248,     0.48348,     0.48448,     0.48549,     0.48649,     0.48749,     0.48849,     0.48949,     0.49049,     0.49149,     0.49249,     0.49349,     0.49449,      0.4955,      0.4965,      0.4975,      0.4985,      0.4995,      0.5005,      0.5015,      0.5025,      0.5035,\n",
              "            0.5045,     0.50551,     0.50651,     0.50751,     0.50851,     0.50951,     0.51051,     0.51151,     0.51251,     0.51351,     0.51451,     0.51552,     0.51652,     0.51752,     0.51852,     0.51952,     0.52052,     0.52152,     0.52252,     0.52352,     0.52452,     0.52553,     0.52653,     0.52753,\n",
              "           0.52853,     0.52953,     0.53053,     0.53153,     0.53253,     0.53353,     0.53453,     0.53554,     0.53654,     0.53754,     0.53854,     0.53954,     0.54054,     0.54154,     0.54254,     0.54354,     0.54454,     0.54555,     0.54655,     0.54755,     0.54855,     0.54955,     0.55055,     0.55155,\n",
              "           0.55255,     0.55355,     0.55455,     0.55556,     0.55656,     0.55756,     0.55856,     0.55956,     0.56056,     0.56156,     0.56256,     0.56356,     0.56456,     0.56557,     0.56657,     0.56757,     0.56857,     0.56957,     0.57057,     0.57157,     0.57257,     0.57357,     0.57457,     0.57558,\n",
              "           0.57658,     0.57758,     0.57858,     0.57958,     0.58058,     0.58158,     0.58258,     0.58358,     0.58458,     0.58559,     0.58659,     0.58759,     0.58859,     0.58959,     0.59059,     0.59159,     0.59259,     0.59359,     0.59459,      0.5956,      0.5966,      0.5976,      0.5986,      0.5996,\n",
              "            0.6006,      0.6016,      0.6026,      0.6036,      0.6046,     0.60561,     0.60661,     0.60761,     0.60861,     0.60961,     0.61061,     0.61161,     0.61261,     0.61361,     0.61461,     0.61562,     0.61662,     0.61762,     0.61862,     0.61962,     0.62062,     0.62162,     0.62262,     0.62362,\n",
              "           0.62462,     0.62563,     0.62663,     0.62763,     0.62863,     0.62963,     0.63063,     0.63163,     0.63263,     0.63363,     0.63463,     0.63564,     0.63664,     0.63764,     0.63864,     0.63964,     0.64064,     0.64164,     0.64264,     0.64364,     0.64464,     0.64565,     0.64665,     0.64765,\n",
              "           0.64865,     0.64965,     0.65065,     0.65165,     0.65265,     0.65365,     0.65465,     0.65566,     0.65666,     0.65766,     0.65866,     0.65966,     0.66066,     0.66166,     0.66266,     0.66366,     0.66466,     0.66567,     0.66667,     0.66767,     0.66867,     0.66967,     0.67067,     0.67167,\n",
              "           0.67267,     0.67367,     0.67467,     0.67568,     0.67668,     0.67768,     0.67868,     0.67968,     0.68068,     0.68168,     0.68268,     0.68368,     0.68468,     0.68569,     0.68669,     0.68769,     0.68869,     0.68969,     0.69069,     0.69169,     0.69269,     0.69369,     0.69469,      0.6957,\n",
              "            0.6967,      0.6977,      0.6987,      0.6997,      0.7007,      0.7017,      0.7027,      0.7037,      0.7047,     0.70571,     0.70671,     0.70771,     0.70871,     0.70971,     0.71071,     0.71171,     0.71271,     0.71371,     0.71471,     0.71572,     0.71672,     0.71772,     0.71872,     0.71972,\n",
              "           0.72072,     0.72172,     0.72272,     0.72372,     0.72472,     0.72573,     0.72673,     0.72773,     0.72873,     0.72973,     0.73073,     0.73173,     0.73273,     0.73373,     0.73473,     0.73574,     0.73674,     0.73774,     0.73874,     0.73974,     0.74074,     0.74174,     0.74274,     0.74374,\n",
              "           0.74474,     0.74575,     0.74675,     0.74775,     0.74875,     0.74975,     0.75075,     0.75175,     0.75275,     0.75375,     0.75475,     0.75576,     0.75676,     0.75776,     0.75876,     0.75976,     0.76076,     0.76176,     0.76276,     0.76376,     0.76476,     0.76577,     0.76677,     0.76777,\n",
              "           0.76877,     0.76977,     0.77077,     0.77177,     0.77277,     0.77377,     0.77477,     0.77578,     0.77678,     0.77778,     0.77878,     0.77978,     0.78078,     0.78178,     0.78278,     0.78378,     0.78478,     0.78579,     0.78679,     0.78779,     0.78879,     0.78979,     0.79079,     0.79179,\n",
              "           0.79279,     0.79379,     0.79479,      0.7958,      0.7968,      0.7978,      0.7988,      0.7998,      0.8008,      0.8018,      0.8028,      0.8038,      0.8048,     0.80581,     0.80681,     0.80781,     0.80881,     0.80981,     0.81081,     0.81181,     0.81281,     0.81381,     0.81481,     0.81582,\n",
              "           0.81682,     0.81782,     0.81882,     0.81982,     0.82082,     0.82182,     0.82282,     0.82382,     0.82482,     0.82583,     0.82683,     0.82783,     0.82883,     0.82983,     0.83083,     0.83183,     0.83283,     0.83383,     0.83483,     0.83584,     0.83684,     0.83784,     0.83884,     0.83984,\n",
              "           0.84084,     0.84184,     0.84284,     0.84384,     0.84484,     0.84585,     0.84685,     0.84785,     0.84885,     0.84985,     0.85085,     0.85185,     0.85285,     0.85385,     0.85485,     0.85586,     0.85686,     0.85786,     0.85886,     0.85986,     0.86086,     0.86186,     0.86286,     0.86386,\n",
              "           0.86486,     0.86587,     0.86687,     0.86787,     0.86887,     0.86987,     0.87087,     0.87187,     0.87287,     0.87387,     0.87487,     0.87588,     0.87688,     0.87788,     0.87888,     0.87988,     0.88088,     0.88188,     0.88288,     0.88388,     0.88488,     0.88589,     0.88689,     0.88789,\n",
              "           0.88889,     0.88989,     0.89089,     0.89189,     0.89289,     0.89389,     0.89489,      0.8959,      0.8969,      0.8979,      0.8989,      0.8999,      0.9009,      0.9019,      0.9029,      0.9039,      0.9049,     0.90591,     0.90691,     0.90791,     0.90891,     0.90991,     0.91091,     0.91191,\n",
              "           0.91291,     0.91391,     0.91491,     0.91592,     0.91692,     0.91792,     0.91892,     0.91992,     0.92092,     0.92192,     0.92292,     0.92392,     0.92492,     0.92593,     0.92693,     0.92793,     0.92893,     0.92993,     0.93093,     0.93193,     0.93293,     0.93393,     0.93493,     0.93594,\n",
              "           0.93694,     0.93794,     0.93894,     0.93994,     0.94094,     0.94194,     0.94294,     0.94394,     0.94494,     0.94595,     0.94695,     0.94795,     0.94895,     0.94995,     0.95095,     0.95195,     0.95295,     0.95395,     0.95495,     0.95596,     0.95696,     0.95796,     0.95896,     0.95996,\n",
              "           0.96096,     0.96196,     0.96296,     0.96396,     0.96496,     0.96597,     0.96697,     0.96797,     0.96897,     0.96997,     0.97097,     0.97197,     0.97297,     0.97397,     0.97497,     0.97598,     0.97698,     0.97798,     0.97898,     0.97998,     0.98098,     0.98198,     0.98298,     0.98398,\n",
              "           0.98498,     0.98599,     0.98699,     0.98799,     0.98899,     0.98999,     0.99099,     0.99199,     0.99299,     0.99399,     0.99499,       0.996,       0.997,       0.998,       0.999,           1]), array([[    0.96826,     0.96826,     0.96665,     0.96396,     0.96342,     0.96181,     0.96181,     0.96127,     0.96073,     0.96019,     0.96019,     0.96019,     0.96019,     0.96019,     0.95966,     0.95966,     0.95966,     0.95966,     0.95966,     0.95966,     0.95912,     0.95912,     0.95858,\n",
              "            0.95804,     0.95804,     0.95804,     0.95804,     0.95804,     0.95697,     0.95697,     0.95697,     0.95697,     0.95697,     0.95589,     0.95535,     0.95535,     0.95481,     0.95481,     0.95481,     0.95481,     0.95481,     0.95481,     0.95481,     0.95481,     0.95481,     0.95481,\n",
              "            0.95481,     0.95481,     0.95481,     0.95479,     0.95428,     0.95428,     0.95428,     0.95428,     0.95428,     0.95428,     0.95428,     0.95428,     0.95428,     0.95428,     0.95428,     0.95428,     0.95428,     0.95374,     0.95374,     0.95374,     0.95374,     0.95374,     0.95374,\n",
              "            0.95374,     0.95374,     0.95374,     0.95374,     0.95374,     0.95374,     0.95374,     0.95374,     0.95374,     0.95374,     0.95374,     0.95374,     0.95374,      0.9532,      0.9532,      0.9532,      0.9532,      0.9532,      0.9532,      0.9532,      0.9527,     0.95212,     0.95212,\n",
              "            0.95212,     0.95212,     0.95172,     0.95159,     0.95159,     0.95105,     0.95051,     0.95051,     0.94961,     0.94944,     0.94944,     0.94944,     0.94944,     0.94944,     0.94944,     0.94944,     0.94944,     0.94944,     0.94944,     0.94944,      0.9489,      0.9489,      0.9489,\n",
              "             0.9489,      0.9489,      0.9489,      0.9489,      0.9489,     0.94836,     0.94792,     0.94728,     0.94668,     0.94637,     0.94621,     0.94621,     0.94621,     0.94621,     0.94567,     0.94567,     0.94567,     0.94567,     0.94567,     0.94567,     0.94567,     0.94567,     0.94567,\n",
              "            0.94567,     0.94567,     0.94513,     0.94513,     0.94513,     0.94513,     0.94513,     0.94406,     0.94406,     0.94406,     0.94406,     0.94406,     0.94406,     0.94406,     0.94406,     0.94406,     0.94406,     0.94406,     0.94406,     0.94406,     0.94406,     0.94406,     0.94406,\n",
              "            0.94406,     0.94406,     0.94406,     0.94406,     0.94406,     0.94406,     0.94406,     0.94406,     0.94406,     0.94406,     0.94398,     0.94352,     0.94352,     0.94344,     0.94321,     0.94298,     0.94298,     0.94298,     0.94298,     0.94298,     0.94298,     0.94298,     0.94298,\n",
              "            0.94298,     0.94298,     0.94298,     0.94298,     0.94298,     0.94298,     0.94259,     0.94244,     0.94244,     0.94244,     0.94244,     0.94208,      0.9419,      0.9419,     0.94188,     0.94159,     0.94137,     0.94083,     0.94083,     0.94083,     0.94083,     0.94083,     0.94083,\n",
              "            0.94083,     0.94083,     0.94083,     0.94083,     0.94083,     0.94083,     0.94083,     0.94083,     0.94083,     0.94083,     0.94035,     0.94029,     0.94029,     0.94029,     0.94008,     0.93975,     0.93975,     0.93975,     0.93975,     0.93975,     0.93975,     0.93975,     0.93975,\n",
              "            0.93975,     0.93949,     0.93923,     0.93921,     0.93921,     0.93921,     0.93921,     0.93921,     0.93921,     0.93921,     0.93921,     0.93868,     0.93868,     0.93868,     0.93868,     0.93868,     0.93868,     0.93868,     0.93868,     0.93868,     0.93868,     0.93868,     0.93868,\n",
              "            0.93868,     0.93868,     0.93868,     0.93868,     0.93849,     0.93814,     0.93814,     0.93814,     0.93814,     0.93814,     0.93805,      0.9376,     0.93751,     0.93653,     0.93653,     0.93653,     0.93653,     0.93653,     0.93653,     0.93653,     0.93653,     0.93599,     0.93599,\n",
              "            0.93599,     0.93599,     0.93599,     0.93599,     0.93545,     0.93545,     0.93516,     0.93491,     0.93491,     0.93491,     0.93491,     0.93491,     0.93491,     0.93491,     0.93491,     0.93491,     0.93437,     0.93437,     0.93437,     0.93437,     0.93437,     0.93437,     0.93437,\n",
              "            0.93437,     0.93437,     0.93437,     0.93437,     0.93407,     0.93384,     0.93384,     0.93363,     0.93332,      0.9333,      0.9333,      0.9333,     0.93302,     0.93276,     0.93276,     0.93237,     0.93168,     0.93168,     0.93068,     0.93061,     0.93007,     0.93006,     0.92953,\n",
              "            0.92953,     0.92908,     0.92899,     0.92895,     0.92864,     0.92832,     0.92801,     0.92715,     0.92682,     0.92602,     0.92577,     0.92577,     0.92577,     0.92529,     0.92469,     0.92455,     0.92439,     0.92423,     0.92415,     0.92371,     0.92348,     0.92303,     0.92248,\n",
              "              0.922,       0.922,       0.922,       0.922,       0.922,     0.92177,     0.92146,     0.92146,     0.92146,     0.92146,     0.92146,     0.92146,     0.92146,     0.92146,     0.92146,     0.91931,     0.91924,     0.91896,     0.91877,      0.9184,     0.91824,     0.91788,      0.9177,\n",
              "             0.9177,      0.9177,      0.9177,      0.9177,      0.9177,     0.91759,     0.91728,     0.91652,     0.91635,     0.91618,     0.91608,     0.91555,     0.91555,     0.91486,     0.91377,     0.91335,      0.9132,     0.91305,     0.91291,     0.91249,     0.91232,     0.91217,     0.91197,\n",
              "            0.91178,      0.9107,      0.9107,      0.9107,      0.9105,     0.90957,     0.90944,      0.9093,     0.90916,     0.90909,     0.90867,     0.90855,     0.90855,     0.90802,     0.90754,     0.90586,     0.90415,     0.90368,     0.90355,     0.90341,     0.90327,     0.90317,     0.90317,\n",
              "            0.90317,     0.90283,     0.90264,     0.90264,     0.90264,     0.90264,     0.90264,     0.90221,     0.90112,      0.8999,     0.89881,     0.89779,     0.89779,     0.89776,     0.89758,     0.89739,     0.89672,     0.89672,     0.89664,     0.89636,     0.89618,     0.89611,      0.8959,\n",
              "             0.8957,     0.89545,     0.89518,      0.8947,     0.89361,     0.89349,     0.89349,     0.89326,     0.89298,     0.89242,     0.89242,     0.89242,     0.89242,     0.89242,     0.89242,     0.89242,     0.89242,     0.89234,     0.89188,     0.89177,     0.89149,     0.89134,      0.8908,\n",
              "             0.8908,      0.8908,      0.8908,     0.89026,     0.89026,     0.89026,     0.89009,     0.88981,      0.8896,     0.88941,     0.88923,     0.88919,     0.88919,      0.8882,     0.88757,     0.88757,     0.88601,     0.88571,     0.88543,     0.88488,     0.88488,     0.88488,     0.88488,\n",
              "            0.88488,     0.88482,     0.88435,     0.88435,     0.88435,     0.88435,     0.88435,     0.88435,     0.88419,     0.88372,     0.88345,     0.88219,     0.88219,     0.88219,     0.88208,      0.8818,     0.88099,     0.88071,      0.8799,     0.87962,     0.87935,     0.87907,     0.87897,\n",
              "            0.87897,     0.87897,     0.87897,     0.87857,     0.87802,     0.87789,     0.87789,     0.87789,     0.87789,     0.87735,     0.87735,     0.87735,     0.87682,     0.87682,     0.87628,     0.87626,     0.87519,     0.87508,     0.87497,     0.87486,     0.87475,     0.87402,     0.87347,\n",
              "            0.87305,     0.87291,     0.87251,     0.87243,     0.87215,     0.87197,     0.87197,     0.87175,     0.87144,     0.87144,     0.87144,     0.86982,     0.86982,     0.86982,     0.86982,     0.86982,     0.86948,     0.86928,     0.86928,     0.86928,     0.86928,     0.86887,     0.86875,\n",
              "            0.86875,     0.86875,     0.86828,     0.86821,     0.86772,     0.86758,     0.86748,     0.86738,     0.86728,     0.86718,     0.86713,     0.86697,      0.8667,     0.86625,     0.86552,     0.86498,     0.86498,     0.86498,     0.86478,      0.8645,     0.86444,     0.86444,     0.86444,\n",
              "            0.86444,     0.86288,     0.86232,     0.86203,     0.86176,     0.86013,     0.85959,     0.85922,     0.85906,      0.8582,     0.85782,     0.85754,     0.85637,     0.85637,     0.85637,     0.85637,     0.85637,      0.8553,     0.85507,      0.8548,     0.85476,     0.85476,     0.85464,\n",
              "            0.85437,     0.85422,     0.85408,     0.85381,     0.85368,     0.85229,     0.85207,     0.85193,     0.85171,     0.85148,     0.85121,     0.85087,     0.85046,      0.8503,     0.84983,     0.84956,     0.84918,     0.84763,     0.84726,     0.84615,     0.84456,     0.84427,       0.844,\n",
              "            0.84345,     0.84318,     0.84291,     0.84269,     0.84247,     0.84239,     0.84239,     0.84239,     0.84199,     0.84173,     0.84158,     0.84142,     0.84005,     0.83896,     0.83852,     0.83824,     0.83761,     0.83703,      0.8362,     0.83592,     0.83539,     0.83517,     0.83495,\n",
              "            0.83432,     0.83397,     0.83312,     0.83294,     0.83276,     0.83244,     0.83214,     0.83201,     0.83189,     0.83177,     0.83165,     0.83115,      0.8306,     0.82981,     0.82959,     0.82814,     0.82786,     0.82786,     0.82783,     0.82733,     0.82733,     0.82725,     0.82661,\n",
              "            0.82606,     0.82579,     0.82517,      0.8251,     0.82483,     0.82393,     0.82266,     0.82181,     0.82166,      0.8215,     0.82117,     0.82075,     0.82047,     0.82022,        0.82,     0.81979,     0.81967,     0.81954,     0.81942,      0.8193,     0.81764,     0.81699,     0.81544,\n",
              "            0.81522,       0.815,     0.81398,     0.81334,     0.81334,      0.8132,     0.81283,     0.81122,     0.81065,     0.81065,     0.81056,     0.81037,     0.81019,     0.80926,     0.80904,     0.80904,     0.80844,     0.80807,     0.80796,      0.8078,     0.80758,     0.80678,     0.80641,\n",
              "            0.80589,      0.8048,      0.8035,     0.80331,     0.80313,     0.80152,     0.80084,     0.80056,     0.80043,     0.80043,     0.80011,     0.79978,      0.7996,     0.79941,     0.79882,     0.79882,     0.79882,     0.79872,     0.79835,     0.79806,     0.79778,     0.79674,     0.79613,\n",
              "            0.79613,     0.79613,     0.79613,     0.79586,     0.79559,     0.79559,     0.79528,     0.79419,     0.79284,     0.79167,     0.79129,     0.79104,     0.79067,      0.7903,      0.7894,     0.78849,     0.78812,     0.78626,     0.78524,     0.78487,     0.78434,     0.78395,     0.78296,\n",
              "            0.78214,     0.78178,     0.78077,     0.78032,     0.77945,     0.77923,     0.77725,     0.77688,     0.77651,     0.77622,     0.77448,     0.77407,     0.77217,     0.77121,     0.77047,      0.7691,     0.76873,     0.76815,      0.7675,     0.76722,     0.76699,     0.76681,     0.76662,\n",
              "            0.76539,     0.76461,     0.76157,     0.75974,     0.75955,     0.75955,     0.75931,     0.75753,     0.75711,     0.75604,     0.75567,      0.7553,     0.75417,     0.75315,      0.7521,     0.75016,     0.74933,     0.74933,     0.74824,     0.74769,      0.7471,     0.74385,     0.74308,\n",
              "             0.7411,     0.73794,     0.73749,     0.73672,     0.73642,     0.73559,     0.73357,     0.73069,     0.72816,     0.72707,     0.72631,     0.72305,     0.72209,     0.72139,     0.71975,     0.71794,       0.717,     0.71486,     0.71372,     0.71241,     0.70775,     0.70611,     0.70296,\n",
              "            0.70175,     0.69688,       0.695,      0.6936,      0.6924,     0.68925,     0.68707,     0.68435,     0.68002,     0.67701,      0.6762,     0.67348,     0.67131,     0.66918,     0.66372,       0.661,     0.65721,     0.65511,     0.65017,     0.64637,     0.64473,     0.63933,     0.63607,\n",
              "            0.63174,     0.62741,     0.62631,     0.62305,     0.61926,     0.61601,     0.61168,     0.60896,     0.60409,     0.60084,     0.59597,     0.59218,     0.58892,     0.58352,     0.57542,     0.57217,      0.5673,     0.56351,     0.55918,     0.55795,      0.5532,     0.54618,     0.54239,\n",
              "             0.5386,     0.53642,     0.52671,     0.52077,     0.51697,     0.50942,     0.50078,     0.49269,     0.49158,     0.48456,     0.47808,      0.4759,     0.46727,      0.4624,     0.45323,     0.44944,     0.44565,     0.43863,     0.43376,     0.42728,     0.42133,     0.41593,     0.40837,\n",
              "            0.40027,     0.39271,     0.38569,     0.37222,     0.36173,     0.35172,     0.34309,     0.33015,     0.31883,     0.31056,     0.29995,     0.29239,     0.27838,      0.2649,     0.25466,     0.24548,     0.23739,     0.22338,     0.22168,     0.21364,      0.2007,     0.19368,     0.18559,\n",
              "            0.17265,     0.16832,     0.15861,     0.14621,     0.13811,     0.13486,     0.12623,      0.1219,     0.11272,      0.1057,     0.10084,    0.094354,     0.08841,    0.083541,    0.079749,    0.073805,    0.069475,    0.065144,    0.063504,    0.058097,    0.053767,    0.050001,    0.048872,\n",
              "           0.044004,    0.041287,    0.040184,    0.038544,    0.034751,    0.031617,    0.030394,    0.027677,    0.024584,    0.023858,     0.02168,    0.020577,     0.01872,    0.018444,    0.016731,    0.015614,    0.012911,    0.011271,   0.0096562,   0.0085669,   0.0080155,   0.0073974,    0.005299,\n",
              "          0.0046539,   0.0026896,   0.0021115,   0.0019277,   0.0017439,   0.0015064,   0.0011388,  0.00092355,  0.00073976,  0.00055596,           0,           0,           0,           0,           0,           0,           0,           0,           0,           0,           0,           0,           0,\n",
              "                  0,           0,           0,           0,           0,           0,           0,           0,           0,           0,           0]]), 'Confidence', 'Recall']]\n",
              "fitness: 0.8165462518968962\n",
              "keys: ['metrics/precision(B)', 'metrics/recall(B)', 'metrics/mAP50(B)', 'metrics/mAP50-95(B)']\n",
              "maps: array([    0.80225])\n",
              "names: {0: 'solar-panel'}\n",
              "plot: True\n",
              "results_dict: {'metrics/precision(B)': 0.8892176438537626, 'metrics/recall(B)': 0.921463152232383, 'metrics/mAP50(B)': 0.945234877726569, 'metrics/mAP50-95(B)': 0.8022475156935993, 'fitness': 0.8165462518968962}\n",
              "save_dir: PosixPath('runs/detect/train4')\n",
              "speed: {'preprocess': 0.3971020016101522, 'inference': 2.5398643738632902, 'loss': 0.0005605023935300494, 'postprocess': 2.9755765144978095}\n",
              "task: 'detect'"
            ]
          },
          "metadata": {},
          "execution_count": 9
        }
      ]
    },
    {
      "cell_type": "code",
      "source": [
        "model.val()"
      ],
      "metadata": {
        "colab": {
          "base_uri": "https://localhost:8080/"
        },
        "id": "xlpeL2mGqGzG",
        "outputId": "9eb9a6fe-3b34-4a61-b212-f5c1e1da57ed"
      },
      "execution_count": 10,
      "outputs": [
        {
          "output_type": "stream",
          "name": "stdout",
          "text": [
            "Ultralytics YOLOv8.2.75 🚀 Python-3.10.12 torch-2.3.1+cu121 CUDA:0 (Tesla T4, 15102MiB)\n",
            "Model summary (fused): 168 layers, 3,005,843 parameters, 0 gradients, 8.1 GFLOPs\n"
          ]
        },
        {
          "output_type": "stream",
          "name": "stderr",
          "text": [
            "\u001b[34m\u001b[1mval: \u001b[0mScanning /content/GEO-Solar-1/valid/labels.cache... 436 images, 2 backgrounds, 0 corrupt: 100%|██████████| 436/436 [00:00<?, ?it/s]"
          ]
        },
        {
          "output_type": "stream",
          "name": "stdout",
          "text": [
            "WARNING ⚠️ Box and segment counts should be equal, but got len(segments) = 325, len(boxes) = 1859. To resolve this only boxes will be used and all segments will be removed. To avoid this please supply either a detect or segment dataset, not a detect-segment mixed dataset.\n"
          ]
        },
        {
          "output_type": "stream",
          "name": "stderr",
          "text": [
            "\n",
            "os.fork() was called. os.fork() is incompatible with multithreaded code, and JAX is multithreaded, so this will likely lead to a deadlock.\n",
            "                 Class     Images  Instances      Box(P          R      mAP50  mAP50-95): 100%|██████████| 28/28 [00:10<00:00,  2.61it/s]\n"
          ]
        },
        {
          "output_type": "stream",
          "name": "stdout",
          "text": [
            "                   all        436       1859      0.889      0.921      0.944      0.802\n",
            "Speed: 0.6ms preprocess, 6.3ms inference, 0.0ms loss, 2.9ms postprocess per image\n",
            "Results saved to \u001b[1mruns/detect/train42\u001b[0m\n"
          ]
        },
        {
          "output_type": "execute_result",
          "data": {
            "text/plain": [
              "ultralytics.utils.metrics.DetMetrics object with attributes:\n",
              "\n",
              "ap_class_index: array([0])\n",
              "box: ultralytics.utils.metrics.Metric object\n",
              "confusion_matrix: <ultralytics.utils.metrics.ConfusionMatrix object at 0x7a6b3684f820>\n",
              "curves: ['Precision-Recall(B)', 'F1-Confidence(B)', 'Precision-Confidence(B)', 'Recall-Confidence(B)']\n",
              "curves_results: [[array([          0,    0.001001,    0.002002,    0.003003,    0.004004,    0.005005,    0.006006,    0.007007,    0.008008,    0.009009,     0.01001,    0.011011,    0.012012,    0.013013,    0.014014,    0.015015,    0.016016,    0.017017,    0.018018,    0.019019,     0.02002,    0.021021,    0.022022,    0.023023,\n",
              "          0.024024,    0.025025,    0.026026,    0.027027,    0.028028,    0.029029,     0.03003,    0.031031,    0.032032,    0.033033,    0.034034,    0.035035,    0.036036,    0.037037,    0.038038,    0.039039,     0.04004,    0.041041,    0.042042,    0.043043,    0.044044,    0.045045,    0.046046,    0.047047,\n",
              "          0.048048,    0.049049,     0.05005,    0.051051,    0.052052,    0.053053,    0.054054,    0.055055,    0.056056,    0.057057,    0.058058,    0.059059,     0.06006,    0.061061,    0.062062,    0.063063,    0.064064,    0.065065,    0.066066,    0.067067,    0.068068,    0.069069,     0.07007,    0.071071,\n",
              "          0.072072,    0.073073,    0.074074,    0.075075,    0.076076,    0.077077,    0.078078,    0.079079,     0.08008,    0.081081,    0.082082,    0.083083,    0.084084,    0.085085,    0.086086,    0.087087,    0.088088,    0.089089,     0.09009,    0.091091,    0.092092,    0.093093,    0.094094,    0.095095,\n",
              "          0.096096,    0.097097,    0.098098,    0.099099,      0.1001,      0.1011,      0.1021,      0.1031,      0.1041,     0.10511,     0.10611,     0.10711,     0.10811,     0.10911,     0.11011,     0.11111,     0.11211,     0.11311,     0.11411,     0.11512,     0.11612,     0.11712,     0.11812,     0.11912,\n",
              "           0.12012,     0.12112,     0.12212,     0.12312,     0.12412,     0.12513,     0.12613,     0.12713,     0.12813,     0.12913,     0.13013,     0.13113,     0.13213,     0.13313,     0.13413,     0.13514,     0.13614,     0.13714,     0.13814,     0.13914,     0.14014,     0.14114,     0.14214,     0.14314,\n",
              "           0.14414,     0.14515,     0.14615,     0.14715,     0.14815,     0.14915,     0.15015,     0.15115,     0.15215,     0.15315,     0.15415,     0.15516,     0.15616,     0.15716,     0.15816,     0.15916,     0.16016,     0.16116,     0.16216,     0.16316,     0.16416,     0.16517,     0.16617,     0.16717,\n",
              "           0.16817,     0.16917,     0.17017,     0.17117,     0.17217,     0.17317,     0.17417,     0.17518,     0.17618,     0.17718,     0.17818,     0.17918,     0.18018,     0.18118,     0.18218,     0.18318,     0.18418,     0.18519,     0.18619,     0.18719,     0.18819,     0.18919,     0.19019,     0.19119,\n",
              "           0.19219,     0.19319,     0.19419,      0.1952,      0.1962,      0.1972,      0.1982,      0.1992,      0.2002,      0.2012,      0.2022,      0.2032,      0.2042,     0.20521,     0.20621,     0.20721,     0.20821,     0.20921,     0.21021,     0.21121,     0.21221,     0.21321,     0.21421,     0.21522,\n",
              "           0.21622,     0.21722,     0.21822,     0.21922,     0.22022,     0.22122,     0.22222,     0.22322,     0.22422,     0.22523,     0.22623,     0.22723,     0.22823,     0.22923,     0.23023,     0.23123,     0.23223,     0.23323,     0.23423,     0.23524,     0.23624,     0.23724,     0.23824,     0.23924,\n",
              "           0.24024,     0.24124,     0.24224,     0.24324,     0.24424,     0.24525,     0.24625,     0.24725,     0.24825,     0.24925,     0.25025,     0.25125,     0.25225,     0.25325,     0.25425,     0.25526,     0.25626,     0.25726,     0.25826,     0.25926,     0.26026,     0.26126,     0.26226,     0.26326,\n",
              "           0.26426,     0.26527,     0.26627,     0.26727,     0.26827,     0.26927,     0.27027,     0.27127,     0.27227,     0.27327,     0.27427,     0.27528,     0.27628,     0.27728,     0.27828,     0.27928,     0.28028,     0.28128,     0.28228,     0.28328,     0.28428,     0.28529,     0.28629,     0.28729,\n",
              "           0.28829,     0.28929,     0.29029,     0.29129,     0.29229,     0.29329,     0.29429,      0.2953,      0.2963,      0.2973,      0.2983,      0.2993,      0.3003,      0.3013,      0.3023,      0.3033,      0.3043,     0.30531,     0.30631,     0.30731,     0.30831,     0.30931,     0.31031,     0.31131,\n",
              "           0.31231,     0.31331,     0.31431,     0.31532,     0.31632,     0.31732,     0.31832,     0.31932,     0.32032,     0.32132,     0.32232,     0.32332,     0.32432,     0.32533,     0.32633,     0.32733,     0.32833,     0.32933,     0.33033,     0.33133,     0.33233,     0.33333,     0.33433,     0.33534,\n",
              "           0.33634,     0.33734,     0.33834,     0.33934,     0.34034,     0.34134,     0.34234,     0.34334,     0.34434,     0.34535,     0.34635,     0.34735,     0.34835,     0.34935,     0.35035,     0.35135,     0.35235,     0.35335,     0.35435,     0.35536,     0.35636,     0.35736,     0.35836,     0.35936,\n",
              "           0.36036,     0.36136,     0.36236,     0.36336,     0.36436,     0.36537,     0.36637,     0.36737,     0.36837,     0.36937,     0.37037,     0.37137,     0.37237,     0.37337,     0.37437,     0.37538,     0.37638,     0.37738,     0.37838,     0.37938,     0.38038,     0.38138,     0.38238,     0.38338,\n",
              "           0.38438,     0.38539,     0.38639,     0.38739,     0.38839,     0.38939,     0.39039,     0.39139,     0.39239,     0.39339,     0.39439,      0.3954,      0.3964,      0.3974,      0.3984,      0.3994,      0.4004,      0.4014,      0.4024,      0.4034,      0.4044,     0.40541,     0.40641,     0.40741,\n",
              "           0.40841,     0.40941,     0.41041,     0.41141,     0.41241,     0.41341,     0.41441,     0.41542,     0.41642,     0.41742,     0.41842,     0.41942,     0.42042,     0.42142,     0.42242,     0.42342,     0.42442,     0.42543,     0.42643,     0.42743,     0.42843,     0.42943,     0.43043,     0.43143,\n",
              "           0.43243,     0.43343,     0.43443,     0.43544,     0.43644,     0.43744,     0.43844,     0.43944,     0.44044,     0.44144,     0.44244,     0.44344,     0.44444,     0.44545,     0.44645,     0.44745,     0.44845,     0.44945,     0.45045,     0.45145,     0.45245,     0.45345,     0.45445,     0.45546,\n",
              "           0.45646,     0.45746,     0.45846,     0.45946,     0.46046,     0.46146,     0.46246,     0.46346,     0.46446,     0.46547,     0.46647,     0.46747,     0.46847,     0.46947,     0.47047,     0.47147,     0.47247,     0.47347,     0.47447,     0.47548,     0.47648,     0.47748,     0.47848,     0.47948,\n",
              "           0.48048,     0.48148,     0.48248,     0.48348,     0.48448,     0.48549,     0.48649,     0.48749,     0.48849,     0.48949,     0.49049,     0.49149,     0.49249,     0.49349,     0.49449,      0.4955,      0.4965,      0.4975,      0.4985,      0.4995,      0.5005,      0.5015,      0.5025,      0.5035,\n",
              "            0.5045,     0.50551,     0.50651,     0.50751,     0.50851,     0.50951,     0.51051,     0.51151,     0.51251,     0.51351,     0.51451,     0.51552,     0.51652,     0.51752,     0.51852,     0.51952,     0.52052,     0.52152,     0.52252,     0.52352,     0.52452,     0.52553,     0.52653,     0.52753,\n",
              "           0.52853,     0.52953,     0.53053,     0.53153,     0.53253,     0.53353,     0.53453,     0.53554,     0.53654,     0.53754,     0.53854,     0.53954,     0.54054,     0.54154,     0.54254,     0.54354,     0.54454,     0.54555,     0.54655,     0.54755,     0.54855,     0.54955,     0.55055,     0.55155,\n",
              "           0.55255,     0.55355,     0.55455,     0.55556,     0.55656,     0.55756,     0.55856,     0.55956,     0.56056,     0.56156,     0.56256,     0.56356,     0.56456,     0.56557,     0.56657,     0.56757,     0.56857,     0.56957,     0.57057,     0.57157,     0.57257,     0.57357,     0.57457,     0.57558,\n",
              "           0.57658,     0.57758,     0.57858,     0.57958,     0.58058,     0.58158,     0.58258,     0.58358,     0.58458,     0.58559,     0.58659,     0.58759,     0.58859,     0.58959,     0.59059,     0.59159,     0.59259,     0.59359,     0.59459,      0.5956,      0.5966,      0.5976,      0.5986,      0.5996,\n",
              "            0.6006,      0.6016,      0.6026,      0.6036,      0.6046,     0.60561,     0.60661,     0.60761,     0.60861,     0.60961,     0.61061,     0.61161,     0.61261,     0.61361,     0.61461,     0.61562,     0.61662,     0.61762,     0.61862,     0.61962,     0.62062,     0.62162,     0.62262,     0.62362,\n",
              "           0.62462,     0.62563,     0.62663,     0.62763,     0.62863,     0.62963,     0.63063,     0.63163,     0.63263,     0.63363,     0.63463,     0.63564,     0.63664,     0.63764,     0.63864,     0.63964,     0.64064,     0.64164,     0.64264,     0.64364,     0.64464,     0.64565,     0.64665,     0.64765,\n",
              "           0.64865,     0.64965,     0.65065,     0.65165,     0.65265,     0.65365,     0.65465,     0.65566,     0.65666,     0.65766,     0.65866,     0.65966,     0.66066,     0.66166,     0.66266,     0.66366,     0.66466,     0.66567,     0.66667,     0.66767,     0.66867,     0.66967,     0.67067,     0.67167,\n",
              "           0.67267,     0.67367,     0.67467,     0.67568,     0.67668,     0.67768,     0.67868,     0.67968,     0.68068,     0.68168,     0.68268,     0.68368,     0.68468,     0.68569,     0.68669,     0.68769,     0.68869,     0.68969,     0.69069,     0.69169,     0.69269,     0.69369,     0.69469,      0.6957,\n",
              "            0.6967,      0.6977,      0.6987,      0.6997,      0.7007,      0.7017,      0.7027,      0.7037,      0.7047,     0.70571,     0.70671,     0.70771,     0.70871,     0.70971,     0.71071,     0.71171,     0.71271,     0.71371,     0.71471,     0.71572,     0.71672,     0.71772,     0.71872,     0.71972,\n",
              "           0.72072,     0.72172,     0.72272,     0.72372,     0.72472,     0.72573,     0.72673,     0.72773,     0.72873,     0.72973,     0.73073,     0.73173,     0.73273,     0.73373,     0.73473,     0.73574,     0.73674,     0.73774,     0.73874,     0.73974,     0.74074,     0.74174,     0.74274,     0.74374,\n",
              "           0.74474,     0.74575,     0.74675,     0.74775,     0.74875,     0.74975,     0.75075,     0.75175,     0.75275,     0.75375,     0.75475,     0.75576,     0.75676,     0.75776,     0.75876,     0.75976,     0.76076,     0.76176,     0.76276,     0.76376,     0.76476,     0.76577,     0.76677,     0.76777,\n",
              "           0.76877,     0.76977,     0.77077,     0.77177,     0.77277,     0.77377,     0.77477,     0.77578,     0.77678,     0.77778,     0.77878,     0.77978,     0.78078,     0.78178,     0.78278,     0.78378,     0.78478,     0.78579,     0.78679,     0.78779,     0.78879,     0.78979,     0.79079,     0.79179,\n",
              "           0.79279,     0.79379,     0.79479,      0.7958,      0.7968,      0.7978,      0.7988,      0.7998,      0.8008,      0.8018,      0.8028,      0.8038,      0.8048,     0.80581,     0.80681,     0.80781,     0.80881,     0.80981,     0.81081,     0.81181,     0.81281,     0.81381,     0.81481,     0.81582,\n",
              "           0.81682,     0.81782,     0.81882,     0.81982,     0.82082,     0.82182,     0.82282,     0.82382,     0.82482,     0.82583,     0.82683,     0.82783,     0.82883,     0.82983,     0.83083,     0.83183,     0.83283,     0.83383,     0.83483,     0.83584,     0.83684,     0.83784,     0.83884,     0.83984,\n",
              "           0.84084,     0.84184,     0.84284,     0.84384,     0.84484,     0.84585,     0.84685,     0.84785,     0.84885,     0.84985,     0.85085,     0.85185,     0.85285,     0.85385,     0.85485,     0.85586,     0.85686,     0.85786,     0.85886,     0.85986,     0.86086,     0.86186,     0.86286,     0.86386,\n",
              "           0.86486,     0.86587,     0.86687,     0.86787,     0.86887,     0.86987,     0.87087,     0.87187,     0.87287,     0.87387,     0.87487,     0.87588,     0.87688,     0.87788,     0.87888,     0.87988,     0.88088,     0.88188,     0.88288,     0.88388,     0.88488,     0.88589,     0.88689,     0.88789,\n",
              "           0.88889,     0.88989,     0.89089,     0.89189,     0.89289,     0.89389,     0.89489,      0.8959,      0.8969,      0.8979,      0.8989,      0.8999,      0.9009,      0.9019,      0.9029,      0.9039,      0.9049,     0.90591,     0.90691,     0.90791,     0.90891,     0.90991,     0.91091,     0.91191,\n",
              "           0.91291,     0.91391,     0.91491,     0.91592,     0.91692,     0.91792,     0.91892,     0.91992,     0.92092,     0.92192,     0.92292,     0.92392,     0.92492,     0.92593,     0.92693,     0.92793,     0.92893,     0.92993,     0.93093,     0.93193,     0.93293,     0.93393,     0.93493,     0.93594,\n",
              "           0.93694,     0.93794,     0.93894,     0.93994,     0.94094,     0.94194,     0.94294,     0.94394,     0.94494,     0.94595,     0.94695,     0.94795,     0.94895,     0.94995,     0.95095,     0.95195,     0.95295,     0.95395,     0.95495,     0.95596,     0.95696,     0.95796,     0.95896,     0.95996,\n",
              "           0.96096,     0.96196,     0.96296,     0.96396,     0.96496,     0.96597,     0.96697,     0.96797,     0.96897,     0.96997,     0.97097,     0.97197,     0.97297,     0.97397,     0.97497,     0.97598,     0.97698,     0.97798,     0.97898,     0.97998,     0.98098,     0.98198,     0.98298,     0.98398,\n",
              "           0.98498,     0.98599,     0.98699,     0.98799,     0.98899,     0.98999,     0.99099,     0.99199,     0.99299,     0.99399,     0.99499,       0.996,       0.997,       0.998,       0.999,           1]), array([[          1,           1,           1,           1,     0.99627,     0.99627,     0.99627,     0.99627,     0.99627,     0.99627,     0.99627,     0.99627,     0.99627,     0.99627,     0.99627,     0.99627,     0.99627,     0.99627,     0.99627,     0.99627,     0.99627,     0.99627,     0.99627,\n",
              "            0.99627,     0.99627,     0.99627,     0.99627,     0.99627,     0.99627,     0.99627,     0.99627,     0.99627,     0.99627,     0.99627,     0.99627,     0.99627,     0.99627,     0.99627,     0.99627,     0.99627,     0.99627,     0.99627,     0.99627,     0.99627,     0.99627,     0.99627,\n",
              "            0.99627,     0.99627,     0.99627,     0.99627,     0.99627,     0.99627,     0.99627,     0.99627,     0.99627,     0.99627,     0.99627,     0.99627,     0.99627,     0.99627,     0.99627,     0.99627,     0.99627,     0.99627,     0.99627,     0.99627,     0.99627,     0.99627,     0.99627,\n",
              "            0.99627,     0.99627,     0.99627,     0.99627,     0.99627,     0.99627,     0.99627,     0.99627,     0.99627,     0.99627,     0.99627,     0.99627,     0.99627,     0.99627,     0.99627,     0.99627,     0.99627,     0.99627,     0.99627,     0.99627,     0.99627,     0.99627,     0.99627,\n",
              "            0.99627,     0.99627,     0.99627,     0.99627,     0.99627,     0.99627,     0.99627,     0.99627,     0.99627,     0.99627,     0.99627,     0.99627,     0.99627,     0.99627,     0.99627,     0.99627,     0.99627,     0.99627,     0.99627,     0.99627,     0.99627,     0.99627,     0.99627,\n",
              "            0.99627,     0.99627,     0.99627,     0.99627,     0.99627,     0.99627,     0.99627,     0.99627,     0.99627,     0.99627,     0.99627,     0.99627,     0.99627,     0.99627,     0.99627,     0.99627,     0.99627,     0.99627,     0.99627,     0.99627,     0.99627,     0.99627,     0.99627,\n",
              "            0.99627,     0.99627,     0.99627,     0.99627,     0.99627,     0.99627,     0.99627,     0.99627,     0.99627,     0.99627,     0.99627,     0.99627,     0.99627,     0.99627,     0.99627,     0.99627,     0.99627,     0.99627,     0.99627,     0.99627,     0.99627,     0.99627,     0.99627,\n",
              "            0.99627,     0.99627,     0.99627,     0.99627,     0.99627,     0.99627,     0.99627,     0.99627,     0.99627,     0.99627,     0.99627,     0.99627,     0.99627,     0.99627,     0.99627,     0.99627,     0.99627,     0.99627,     0.99627,     0.99627,     0.99627,     0.99627,     0.99627,\n",
              "            0.99627,     0.99627,     0.99627,     0.99627,     0.99627,     0.99627,     0.99627,     0.99627,     0.99627,     0.99627,     0.99627,     0.99627,     0.99627,     0.99627,     0.99627,     0.99627,     0.99627,     0.99627,     0.99627,     0.99627,     0.99627,     0.99627,     0.99627,\n",
              "            0.99627,     0.99627,     0.99627,     0.99627,     0.99627,     0.99627,     0.99627,     0.99627,     0.99627,     0.99627,     0.99627,     0.99627,     0.99627,     0.99627,     0.99627,     0.99627,     0.99627,     0.99627,     0.99627,     0.99627,     0.99627,     0.99627,     0.99627,\n",
              "            0.99627,     0.99627,     0.99627,     0.99627,     0.99627,     0.99627,     0.99627,     0.99627,     0.99627,     0.99627,     0.99627,     0.99627,     0.99627,     0.99627,     0.99627,     0.99627,     0.99627,     0.99627,     0.99627,     0.99627,     0.99627,     0.99627,     0.99627,\n",
              "            0.99627,     0.99627,     0.99627,     0.99627,     0.99627,     0.99627,     0.99627,     0.99627,     0.99627,     0.99627,     0.99627,     0.99627,     0.99627,     0.99627,     0.99627,     0.99627,     0.99627,     0.99627,     0.99627,     0.99627,     0.99627,     0.99627,     0.99627,\n",
              "            0.99627,     0.99627,     0.99627,     0.99627,     0.99627,     0.99627,     0.99627,     0.99627,     0.99627,     0.99627,     0.99627,     0.99624,     0.99624,     0.99624,     0.99624,     0.99624,     0.99624,     0.99624,     0.99624,     0.99624,     0.99624,     0.99624,     0.99624,\n",
              "            0.99624,     0.99624,     0.99624,     0.99624,     0.99624,     0.99624,     0.99624,     0.99624,     0.99624,     0.99624,     0.99624,     0.99624,     0.99624,     0.99624,     0.99624,     0.99624,     0.99624,     0.99624,     0.99624,     0.99624,     0.99624,     0.99624,     0.99624,\n",
              "            0.99624,     0.99624,     0.99624,     0.99624,     0.99624,     0.99624,     0.99624,     0.99624,     0.99624,     0.99624,     0.99624,     0.99624,     0.99624,     0.99624,     0.99624,     0.99624,     0.99624,     0.99624,     0.99624,     0.99624,     0.99624,     0.99624,     0.99624,\n",
              "            0.99624,     0.99624,     0.99624,     0.99624,     0.99624,     0.99624,     0.99624,     0.99624,     0.99624,     0.99624,     0.99624,     0.99624,     0.99624,     0.99624,     0.99624,     0.99624,     0.99624,     0.99624,     0.99624,     0.99624,     0.99624,     0.99624,     0.99624,\n",
              "            0.99624,     0.99624,     0.99624,     0.99624,     0.99624,     0.99624,     0.99624,     0.99624,     0.99624,     0.99624,     0.99624,     0.99624,     0.99624,     0.99624,     0.99624,     0.99624,     0.99624,     0.99624,     0.99624,     0.99624,     0.99624,     0.99624,     0.99624,\n",
              "            0.99624,     0.99624,     0.99624,     0.99624,     0.99624,     0.99624,     0.99624,     0.99624,     0.99624,     0.99624,     0.99624,     0.99624,     0.99624,     0.99624,     0.99624,     0.99624,     0.99624,     0.99624,     0.99624,     0.99624,     0.99624,     0.99624,     0.99624,\n",
              "            0.99624,     0.99624,     0.99624,     0.99624,     0.99624,     0.99624,     0.99624,     0.99624,     0.99624,     0.99624,     0.99624,     0.99624,     0.99624,     0.99581,     0.99581,     0.99581,     0.99581,     0.99581,     0.99581,     0.99581,     0.99581,     0.99581,     0.99581,\n",
              "            0.99581,     0.99581,     0.99581,     0.99581,     0.99581,     0.99581,     0.99581,     0.99581,     0.99581,     0.99581,     0.99581,     0.99581,     0.99581,     0.99581,     0.99581,     0.99581,     0.99581,     0.99581,     0.99581,     0.99581,     0.99581,     0.99581,     0.99581,\n",
              "            0.99581,     0.99581,     0.99581,     0.99581,     0.99581,     0.99581,     0.99581,     0.99581,     0.99581,     0.99581,     0.99581,     0.99581,     0.99581,     0.99581,     0.99581,     0.99581,     0.99581,     0.99581,     0.99581,     0.99581,     0.99581,     0.99581,     0.99581,\n",
              "            0.99581,     0.99581,     0.99581,     0.99581,     0.99581,     0.99581,     0.99581,     0.99581,     0.99581,     0.99581,     0.99581,     0.99581,     0.99581,     0.99581,     0.99581,     0.99581,     0.99581,     0.99581,     0.99581,     0.99581,     0.99581,     0.99581,     0.99581,\n",
              "            0.99581,     0.99581,     0.99581,     0.99581,     0.99581,      0.9948,      0.9948,      0.9948,     0.99409,     0.99409,     0.99409,     0.99409,     0.99409,     0.99409,     0.99409,     0.99409,     0.99409,     0.99409,     0.99409,     0.99409,     0.99409,     0.99409,     0.99409,\n",
              "            0.99409,     0.99409,     0.99409,     0.99409,     0.99409,     0.99409,     0.99409,     0.99409,     0.99409,     0.99409,     0.99409,     0.99409,     0.99409,     0.99409,     0.99326,     0.99326,     0.99326,     0.99326,     0.99326,     0.99326,     0.99326,     0.99326,     0.99326,\n",
              "            0.99326,     0.99326,     0.99326,     0.99257,     0.99257,     0.99257,     0.99257,     0.99257,     0.99257,     0.99257,     0.99257,     0.99257,     0.99257,     0.99257,     0.99257,     0.99257,     0.99257,     0.99257,     0.99257,     0.99257,     0.99257,     0.99257,     0.99169,\n",
              "            0.99169,     0.99169,     0.99169,     0.99098,     0.99098,     0.99098,     0.99098,     0.99098,     0.99098,     0.99098,     0.99098,     0.99098,     0.99098,     0.99098,     0.99098,     0.99098,     0.99027,     0.99027,     0.99027,     0.99027,     0.99027,     0.99027,     0.99027,\n",
              "            0.99027,     0.99027,     0.99027,     0.99027,     0.98946,     0.98946,     0.98946,     0.98946,     0.98786,     0.98786,     0.98786,     0.98786,     0.98786,     0.98786,     0.98786,     0.98721,     0.98721,     0.98721,     0.98721,     0.98721,     0.98721,     0.98721,     0.98721,\n",
              "            0.98721,     0.98721,     0.98645,     0.98645,     0.98645,     0.98645,     0.98582,     0.98582,     0.98582,     0.98582,     0.98582,     0.98582,     0.98582,     0.98582,     0.98582,     0.98425,     0.98425,     0.98386,     0.98386,     0.98386,     0.98386,     0.98386,     0.98386,\n",
              "            0.98386,     0.98386,     0.98386,     0.98386,     0.98386,     0.98386,     0.98386,     0.98386,     0.98386,     0.98386,     0.98386,     0.98386,     0.98329,     0.98329,     0.98329,     0.98329,     0.98329,     0.98329,     0.98329,     0.98329,     0.98329,     0.98266,     0.98266,\n",
              "            0.98266,     0.98266,     0.98266,     0.98266,     0.98118,     0.98118,     0.98092,     0.98092,     0.98092,     0.98092,     0.98092,     0.98092,     0.98092,     0.98092,     0.98092,     0.98092,     0.98092,     0.98092,     0.98092,     0.98092,     0.98092,     0.98092,     0.98092,\n",
              "            0.98092,     0.98026,     0.98026,     0.98026,     0.97953,     0.97899,     0.97899,     0.97899,     0.97899,     0.97899,     0.97899,     0.97899,     0.97852,     0.97852,     0.97852,     0.97852,     0.97852,     0.97852,     0.97852,     0.97852,     0.97851,     0.97851,     0.97851,\n",
              "            0.97851,     0.97851,     0.97851,     0.97851,     0.97851,     0.97851,     0.97851,     0.97851,     0.97851,     0.97851,     0.97851,     0.97851,     0.97851,     0.97851,     0.97851,     0.97851,     0.97851,     0.97851,     0.97851,     0.97851,     0.97851,     0.97851,     0.97714,\n",
              "            0.97648,     0.97616,     0.97616,     0.97616,     0.97616,     0.97616,     0.97616,     0.97616,     0.97616,     0.97616,     0.97616,     0.97616,     0.97616,     0.97551,     0.97491,     0.97491,     0.97365,     0.97365,     0.97365,     0.97301,     0.97236,     0.97174,     0.97111,\n",
              "            0.97071,     0.97071,     0.97071,     0.97071,     0.97071,     0.97071,     0.97071,     0.96943,     0.96894,     0.96894,     0.96894,     0.96894,     0.96894,     0.96833,     0.96779,     0.96779,     0.96727,     0.96727,     0.96727,     0.96727,     0.96671,     0.96671,     0.96647,\n",
              "            0.96647,     0.96647,     0.96647,     0.96647,     0.96647,     0.96647,     0.96647,     0.96647,     0.96461,     0.96461,     0.96349,     0.96349,     0.96349,     0.96176,     0.96176,     0.96176,     0.96122,     0.96122,     0.96033,     0.96033,     0.96033,     0.96033,     0.96033,\n",
              "            0.96033,     0.96033,     0.95977,     0.95865,     0.95865,     0.95815,     0.95815,     0.95768,     0.95768,     0.95768,     0.95715,     0.95715,     0.95685,     0.95685,     0.95685,     0.95685,     0.95685,     0.95685,     0.95633,     0.95587,     0.95587,     0.95587,     0.95424,\n",
              "            0.95424,     0.95424,     0.95382,     0.95382,     0.95382,     0.95355,     0.95355,     0.95355,     0.95355,     0.95355,     0.95355,     0.95305,      0.9525,     0.95195,     0.95143,     0.95039,     0.95039,     0.95009,     0.95009,     0.95009,     0.95009,     0.95009,     0.94961,\n",
              "             0.9491,     0.94856,     0.94749,     0.94699,     0.94593,      0.9454,     0.94494,     0.94451,     0.94451,     0.94415,     0.94415,     0.94415,     0.94415,     0.94145,     0.93991,     0.93834,     0.93783,     0.93681,     0.93638,     0.93638,     0.93483,     0.93284,     0.93284,\n",
              "            0.93238,     0.93139,     0.93041,     0.92886,     0.92687,     0.92651,     0.92651,     0.92603,     0.92403,      0.9236,     0.92161,     0.92063,     0.91969,     0.91935,     0.91935,     0.91639,     0.91244,     0.91054,     0.90859,     0.90691,     0.90691,     0.90691,     0.90603,\n",
              "             0.9052,     0.90481,     0.90481,     0.90409,     0.90409,     0.90317,     0.90188,     0.90145,     0.90107,      0.9008,      0.9008,     0.89814,     0.89814,     0.89635,     0.89546,     0.89432,     0.89432,     0.89432,     0.89396,     0.89273,     0.89138,     0.89068,     0.89068,\n",
              "            0.89028,     0.88716,     0.88545,     0.88511,     0.88477,     0.88286,     0.88286,     0.88286,     0.88247,     0.88035,     0.87785,     0.87709,     0.87626,      0.8685,     0.86132,     0.86096,     0.85644,      0.8549,     0.84389,     0.83797,     0.82978,     0.82525,     0.81421,\n",
              "            0.79592,     0.78158,     0.77797,     0.77611,     0.76519,     0.75492,      0.7547,     0.75011,     0.74621,     0.71165,     0.67324,     0.66742,     0.64631,      0.6455,     0.61435,     0.55981,     0.49735,     0.44843,     0.43539,     0.39536,     0.38133,     0.38041,     0.35106,\n",
              "            0.32182,     0.25925,     0.25115,     0.24304,     0.23494,     0.22684,     0.21874,     0.21064,     0.20254,     0.19444,     0.18633,     0.17823,     0.17013,     0.16203,     0.15393,     0.14583,     0.13772,     0.12962,     0.12152,     0.11342,     0.10532,    0.097218,    0.089116,\n",
              "           0.081015,    0.072913,    0.064812,     0.05671,    0.048609,    0.040507,    0.032406,    0.024304,    0.016203,   0.0081015,           0]]), 'Recall', 'Precision'], [array([          0,    0.001001,    0.002002,    0.003003,    0.004004,    0.005005,    0.006006,    0.007007,    0.008008,    0.009009,     0.01001,    0.011011,    0.012012,    0.013013,    0.014014,    0.015015,    0.016016,    0.017017,    0.018018,    0.019019,     0.02002,    0.021021,    0.022022,    0.023023,\n",
              "          0.024024,    0.025025,    0.026026,    0.027027,    0.028028,    0.029029,     0.03003,    0.031031,    0.032032,    0.033033,    0.034034,    0.035035,    0.036036,    0.037037,    0.038038,    0.039039,     0.04004,    0.041041,    0.042042,    0.043043,    0.044044,    0.045045,    0.046046,    0.047047,\n",
              "          0.048048,    0.049049,     0.05005,    0.051051,    0.052052,    0.053053,    0.054054,    0.055055,    0.056056,    0.057057,    0.058058,    0.059059,     0.06006,    0.061061,    0.062062,    0.063063,    0.064064,    0.065065,    0.066066,    0.067067,    0.068068,    0.069069,     0.07007,    0.071071,\n",
              "          0.072072,    0.073073,    0.074074,    0.075075,    0.076076,    0.077077,    0.078078,    0.079079,     0.08008,    0.081081,    0.082082,    0.083083,    0.084084,    0.085085,    0.086086,    0.087087,    0.088088,    0.089089,     0.09009,    0.091091,    0.092092,    0.093093,    0.094094,    0.095095,\n",
              "          0.096096,    0.097097,    0.098098,    0.099099,      0.1001,      0.1011,      0.1021,      0.1031,      0.1041,     0.10511,     0.10611,     0.10711,     0.10811,     0.10911,     0.11011,     0.11111,     0.11211,     0.11311,     0.11411,     0.11512,     0.11612,     0.11712,     0.11812,     0.11912,\n",
              "           0.12012,     0.12112,     0.12212,     0.12312,     0.12412,     0.12513,     0.12613,     0.12713,     0.12813,     0.12913,     0.13013,     0.13113,     0.13213,     0.13313,     0.13413,     0.13514,     0.13614,     0.13714,     0.13814,     0.13914,     0.14014,     0.14114,     0.14214,     0.14314,\n",
              "           0.14414,     0.14515,     0.14615,     0.14715,     0.14815,     0.14915,     0.15015,     0.15115,     0.15215,     0.15315,     0.15415,     0.15516,     0.15616,     0.15716,     0.15816,     0.15916,     0.16016,     0.16116,     0.16216,     0.16316,     0.16416,     0.16517,     0.16617,     0.16717,\n",
              "           0.16817,     0.16917,     0.17017,     0.17117,     0.17217,     0.17317,     0.17417,     0.17518,     0.17618,     0.17718,     0.17818,     0.17918,     0.18018,     0.18118,     0.18218,     0.18318,     0.18418,     0.18519,     0.18619,     0.18719,     0.18819,     0.18919,     0.19019,     0.19119,\n",
              "           0.19219,     0.19319,     0.19419,      0.1952,      0.1962,      0.1972,      0.1982,      0.1992,      0.2002,      0.2012,      0.2022,      0.2032,      0.2042,     0.20521,     0.20621,     0.20721,     0.20821,     0.20921,     0.21021,     0.21121,     0.21221,     0.21321,     0.21421,     0.21522,\n",
              "           0.21622,     0.21722,     0.21822,     0.21922,     0.22022,     0.22122,     0.22222,     0.22322,     0.22422,     0.22523,     0.22623,     0.22723,     0.22823,     0.22923,     0.23023,     0.23123,     0.23223,     0.23323,     0.23423,     0.23524,     0.23624,     0.23724,     0.23824,     0.23924,\n",
              "           0.24024,     0.24124,     0.24224,     0.24324,     0.24424,     0.24525,     0.24625,     0.24725,     0.24825,     0.24925,     0.25025,     0.25125,     0.25225,     0.25325,     0.25425,     0.25526,     0.25626,     0.25726,     0.25826,     0.25926,     0.26026,     0.26126,     0.26226,     0.26326,\n",
              "           0.26426,     0.26527,     0.26627,     0.26727,     0.26827,     0.26927,     0.27027,     0.27127,     0.27227,     0.27327,     0.27427,     0.27528,     0.27628,     0.27728,     0.27828,     0.27928,     0.28028,     0.28128,     0.28228,     0.28328,     0.28428,     0.28529,     0.28629,     0.28729,\n",
              "           0.28829,     0.28929,     0.29029,     0.29129,     0.29229,     0.29329,     0.29429,      0.2953,      0.2963,      0.2973,      0.2983,      0.2993,      0.3003,      0.3013,      0.3023,      0.3033,      0.3043,     0.30531,     0.30631,     0.30731,     0.30831,     0.30931,     0.31031,     0.31131,\n",
              "           0.31231,     0.31331,     0.31431,     0.31532,     0.31632,     0.31732,     0.31832,     0.31932,     0.32032,     0.32132,     0.32232,     0.32332,     0.32432,     0.32533,     0.32633,     0.32733,     0.32833,     0.32933,     0.33033,     0.33133,     0.33233,     0.33333,     0.33433,     0.33534,\n",
              "           0.33634,     0.33734,     0.33834,     0.33934,     0.34034,     0.34134,     0.34234,     0.34334,     0.34434,     0.34535,     0.34635,     0.34735,     0.34835,     0.34935,     0.35035,     0.35135,     0.35235,     0.35335,     0.35435,     0.35536,     0.35636,     0.35736,     0.35836,     0.35936,\n",
              "           0.36036,     0.36136,     0.36236,     0.36336,     0.36436,     0.36537,     0.36637,     0.36737,     0.36837,     0.36937,     0.37037,     0.37137,     0.37237,     0.37337,     0.37437,     0.37538,     0.37638,     0.37738,     0.37838,     0.37938,     0.38038,     0.38138,     0.38238,     0.38338,\n",
              "           0.38438,     0.38539,     0.38639,     0.38739,     0.38839,     0.38939,     0.39039,     0.39139,     0.39239,     0.39339,     0.39439,      0.3954,      0.3964,      0.3974,      0.3984,      0.3994,      0.4004,      0.4014,      0.4024,      0.4034,      0.4044,     0.40541,     0.40641,     0.40741,\n",
              "           0.40841,     0.40941,     0.41041,     0.41141,     0.41241,     0.41341,     0.41441,     0.41542,     0.41642,     0.41742,     0.41842,     0.41942,     0.42042,     0.42142,     0.42242,     0.42342,     0.42442,     0.42543,     0.42643,     0.42743,     0.42843,     0.42943,     0.43043,     0.43143,\n",
              "           0.43243,     0.43343,     0.43443,     0.43544,     0.43644,     0.43744,     0.43844,     0.43944,     0.44044,     0.44144,     0.44244,     0.44344,     0.44444,     0.44545,     0.44645,     0.44745,     0.44845,     0.44945,     0.45045,     0.45145,     0.45245,     0.45345,     0.45445,     0.45546,\n",
              "           0.45646,     0.45746,     0.45846,     0.45946,     0.46046,     0.46146,     0.46246,     0.46346,     0.46446,     0.46547,     0.46647,     0.46747,     0.46847,     0.46947,     0.47047,     0.47147,     0.47247,     0.47347,     0.47447,     0.47548,     0.47648,     0.47748,     0.47848,     0.47948,\n",
              "           0.48048,     0.48148,     0.48248,     0.48348,     0.48448,     0.48549,     0.48649,     0.48749,     0.48849,     0.48949,     0.49049,     0.49149,     0.49249,     0.49349,     0.49449,      0.4955,      0.4965,      0.4975,      0.4985,      0.4995,      0.5005,      0.5015,      0.5025,      0.5035,\n",
              "            0.5045,     0.50551,     0.50651,     0.50751,     0.50851,     0.50951,     0.51051,     0.51151,     0.51251,     0.51351,     0.51451,     0.51552,     0.51652,     0.51752,     0.51852,     0.51952,     0.52052,     0.52152,     0.52252,     0.52352,     0.52452,     0.52553,     0.52653,     0.52753,\n",
              "           0.52853,     0.52953,     0.53053,     0.53153,     0.53253,     0.53353,     0.53453,     0.53554,     0.53654,     0.53754,     0.53854,     0.53954,     0.54054,     0.54154,     0.54254,     0.54354,     0.54454,     0.54555,     0.54655,     0.54755,     0.54855,     0.54955,     0.55055,     0.55155,\n",
              "           0.55255,     0.55355,     0.55455,     0.55556,     0.55656,     0.55756,     0.55856,     0.55956,     0.56056,     0.56156,     0.56256,     0.56356,     0.56456,     0.56557,     0.56657,     0.56757,     0.56857,     0.56957,     0.57057,     0.57157,     0.57257,     0.57357,     0.57457,     0.57558,\n",
              "           0.57658,     0.57758,     0.57858,     0.57958,     0.58058,     0.58158,     0.58258,     0.58358,     0.58458,     0.58559,     0.58659,     0.58759,     0.58859,     0.58959,     0.59059,     0.59159,     0.59259,     0.59359,     0.59459,      0.5956,      0.5966,      0.5976,      0.5986,      0.5996,\n",
              "            0.6006,      0.6016,      0.6026,      0.6036,      0.6046,     0.60561,     0.60661,     0.60761,     0.60861,     0.60961,     0.61061,     0.61161,     0.61261,     0.61361,     0.61461,     0.61562,     0.61662,     0.61762,     0.61862,     0.61962,     0.62062,     0.62162,     0.62262,     0.62362,\n",
              "           0.62462,     0.62563,     0.62663,     0.62763,     0.62863,     0.62963,     0.63063,     0.63163,     0.63263,     0.63363,     0.63463,     0.63564,     0.63664,     0.63764,     0.63864,     0.63964,     0.64064,     0.64164,     0.64264,     0.64364,     0.64464,     0.64565,     0.64665,     0.64765,\n",
              "           0.64865,     0.64965,     0.65065,     0.65165,     0.65265,     0.65365,     0.65465,     0.65566,     0.65666,     0.65766,     0.65866,     0.65966,     0.66066,     0.66166,     0.66266,     0.66366,     0.66466,     0.66567,     0.66667,     0.66767,     0.66867,     0.66967,     0.67067,     0.67167,\n",
              "           0.67267,     0.67367,     0.67467,     0.67568,     0.67668,     0.67768,     0.67868,     0.67968,     0.68068,     0.68168,     0.68268,     0.68368,     0.68468,     0.68569,     0.68669,     0.68769,     0.68869,     0.68969,     0.69069,     0.69169,     0.69269,     0.69369,     0.69469,      0.6957,\n",
              "            0.6967,      0.6977,      0.6987,      0.6997,      0.7007,      0.7017,      0.7027,      0.7037,      0.7047,     0.70571,     0.70671,     0.70771,     0.70871,     0.70971,     0.71071,     0.71171,     0.71271,     0.71371,     0.71471,     0.71572,     0.71672,     0.71772,     0.71872,     0.71972,\n",
              "           0.72072,     0.72172,     0.72272,     0.72372,     0.72472,     0.72573,     0.72673,     0.72773,     0.72873,     0.72973,     0.73073,     0.73173,     0.73273,     0.73373,     0.73473,     0.73574,     0.73674,     0.73774,     0.73874,     0.73974,     0.74074,     0.74174,     0.74274,     0.74374,\n",
              "           0.74474,     0.74575,     0.74675,     0.74775,     0.74875,     0.74975,     0.75075,     0.75175,     0.75275,     0.75375,     0.75475,     0.75576,     0.75676,     0.75776,     0.75876,     0.75976,     0.76076,     0.76176,     0.76276,     0.76376,     0.76476,     0.76577,     0.76677,     0.76777,\n",
              "           0.76877,     0.76977,     0.77077,     0.77177,     0.77277,     0.77377,     0.77477,     0.77578,     0.77678,     0.77778,     0.77878,     0.77978,     0.78078,     0.78178,     0.78278,     0.78378,     0.78478,     0.78579,     0.78679,     0.78779,     0.78879,     0.78979,     0.79079,     0.79179,\n",
              "           0.79279,     0.79379,     0.79479,      0.7958,      0.7968,      0.7978,      0.7988,      0.7998,      0.8008,      0.8018,      0.8028,      0.8038,      0.8048,     0.80581,     0.80681,     0.80781,     0.80881,     0.80981,     0.81081,     0.81181,     0.81281,     0.81381,     0.81481,     0.81582,\n",
              "           0.81682,     0.81782,     0.81882,     0.81982,     0.82082,     0.82182,     0.82282,     0.82382,     0.82482,     0.82583,     0.82683,     0.82783,     0.82883,     0.82983,     0.83083,     0.83183,     0.83283,     0.83383,     0.83483,     0.83584,     0.83684,     0.83784,     0.83884,     0.83984,\n",
              "           0.84084,     0.84184,     0.84284,     0.84384,     0.84484,     0.84585,     0.84685,     0.84785,     0.84885,     0.84985,     0.85085,     0.85185,     0.85285,     0.85385,     0.85485,     0.85586,     0.85686,     0.85786,     0.85886,     0.85986,     0.86086,     0.86186,     0.86286,     0.86386,\n",
              "           0.86486,     0.86587,     0.86687,     0.86787,     0.86887,     0.86987,     0.87087,     0.87187,     0.87287,     0.87387,     0.87487,     0.87588,     0.87688,     0.87788,     0.87888,     0.87988,     0.88088,     0.88188,     0.88288,     0.88388,     0.88488,     0.88589,     0.88689,     0.88789,\n",
              "           0.88889,     0.88989,     0.89089,     0.89189,     0.89289,     0.89389,     0.89489,      0.8959,      0.8969,      0.8979,      0.8989,      0.8999,      0.9009,      0.9019,      0.9029,      0.9039,      0.9049,     0.90591,     0.90691,     0.90791,     0.90891,     0.90991,     0.91091,     0.91191,\n",
              "           0.91291,     0.91391,     0.91491,     0.91592,     0.91692,     0.91792,     0.91892,     0.91992,     0.92092,     0.92192,     0.92292,     0.92392,     0.92492,     0.92593,     0.92693,     0.92793,     0.92893,     0.92993,     0.93093,     0.93193,     0.93293,     0.93393,     0.93493,     0.93594,\n",
              "           0.93694,     0.93794,     0.93894,     0.93994,     0.94094,     0.94194,     0.94294,     0.94394,     0.94494,     0.94595,     0.94695,     0.94795,     0.94895,     0.94995,     0.95095,     0.95195,     0.95295,     0.95395,     0.95495,     0.95596,     0.95696,     0.95796,     0.95896,     0.95996,\n",
              "           0.96096,     0.96196,     0.96296,     0.96396,     0.96496,     0.96597,     0.96697,     0.96797,     0.96897,     0.96997,     0.97097,     0.97197,     0.97297,     0.97397,     0.97497,     0.97598,     0.97698,     0.97798,     0.97898,     0.97998,     0.98098,     0.98198,     0.98298,     0.98398,\n",
              "           0.98498,     0.98599,     0.98699,     0.98799,     0.98899,     0.98999,     0.99099,     0.99199,     0.99299,     0.99399,     0.99499,       0.996,       0.997,       0.998,       0.999,           1]), array([[    0.41139,     0.41145,       0.502,     0.55203,     0.58575,      0.6109,     0.63019,      0.6467,      0.6615,     0.67183,     0.68151,     0.68867,     0.69693,     0.70551,     0.71262,     0.71838,     0.72362,     0.72923,     0.73378,     0.73925,     0.74488,     0.74844,     0.75173,\n",
              "            0.75649,     0.75966,       0.763,     0.76584,     0.76924,     0.77245,     0.77518,     0.77898,     0.78242,     0.78435,     0.78582,     0.78706,     0.78798,     0.78947,     0.78975,     0.79147,     0.79267,     0.79357,     0.79466,     0.79542,     0.79786,     0.79881,     0.79936,\n",
              "            0.80154,     0.80209,     0.80312,     0.80424,     0.80566,     0.80639,     0.80751,     0.80806,     0.80873,     0.80982,     0.81067,     0.81138,     0.81237,     0.81328,     0.81384,     0.81478,     0.81551,     0.81657,     0.81731,     0.81877,      0.8198,     0.82151,      0.8224,\n",
              "            0.82335,     0.82384,     0.82515,     0.82588,     0.82678,     0.82766,     0.82816,     0.82859,     0.82909,     0.82983,     0.83047,      0.8307,     0.83136,     0.83171,      0.8325,     0.83315,     0.83417,     0.83467,     0.83565,     0.83624,     0.83665,     0.83754,     0.83794,\n",
              "            0.83829,     0.83851,     0.83875,     0.83908,     0.83982,     0.84046,     0.84058,     0.84105,     0.84107,     0.84105,     0.84229,     0.84355,     0.84419,     0.84496,     0.84577,     0.84636,     0.84725,     0.84802,     0.84826,     0.84866,     0.84852,     0.84904,     0.84977,\n",
              "            0.85023,     0.85117,     0.85206,     0.85286,     0.85297,     0.85367,     0.85377,     0.85374,     0.85396,      0.8541,     0.85471,     0.85486,     0.85496,     0.85518,     0.85585,     0.85652,     0.85728,     0.85794,     0.85873,      0.8599,     0.86024,     0.86034,     0.86124,\n",
              "            0.86145,     0.86175,     0.86175,     0.86256,     0.86304,     0.86366,      0.8636,     0.86412,     0.86487,     0.86539,     0.86552,     0.86565,     0.86603,     0.86671,     0.86723,     0.86749,     0.86774,     0.86844,     0.86901,     0.86953,     0.86971,      0.8699,     0.87029,\n",
              "            0.87091,     0.87128,      0.8718,     0.87189,     0.87208,     0.87232,     0.87244,     0.87262,     0.87292,     0.87322,     0.87333,     0.87344,     0.87378,     0.87361,      0.8737,      0.8738,     0.87412,     0.87454,     0.87515,      0.8755,     0.87598,     0.87641,     0.87691,\n",
              "             0.8782,     0.87865,     0.87893,     0.87946,     0.87964,     0.87989,     0.87971,     0.88005,     0.88038,     0.88049,     0.88063,     0.88105,     0.88155,     0.88147,     0.88157,     0.88204,     0.88191,     0.88179,     0.88247,     0.88266,     0.88276,     0.88287,     0.88299,\n",
              "            0.88341,      0.8836,     0.88372,     0.88387,     0.88421,     0.88468,     0.88491,     0.88505,     0.88537,     0.88565,     0.88595,     0.88606,      0.8863,     0.88656,     0.88644,     0.88632,     0.88646,     0.88662,     0.88679,     0.88715,     0.88768,      0.8882,     0.88849,\n",
              "            0.88898,     0.88878,     0.88902,     0.88941,      0.8896,     0.88984,     0.89033,     0.89047,     0.89072,     0.89089,     0.89126,      0.8916,     0.89185,     0.89214,     0.89254,     0.89263,     0.89271,     0.89279,     0.89286,     0.89293,     0.89304,     0.89349,     0.89371,\n",
              "            0.89393,     0.89411,     0.89421,      0.8943,     0.89458,     0.89448,     0.89438,     0.89439,      0.8947,      0.8948,     0.89469,     0.89516,      0.8953,      0.8952,     0.89554,     0.89561,     0.89569,     0.89576,     0.89585,     0.89593,      0.8961,     0.89645,     0.89665,\n",
              "             0.8968,     0.89665,     0.89673,     0.89682,      0.8968,     0.89693,     0.89693,     0.89706,     0.89729,     0.89738,     0.89781,     0.89806,     0.89824,     0.89841,     0.89857,     0.89933,     0.89956,      0.9001,     0.90026,     0.90057,     0.90124,     0.90144,     0.90155,\n",
              "            0.90191,     0.90231,      0.9024,     0.90249,     0.90259,      0.9027,     0.90296,      0.9031,     0.90306,     0.90346,     0.90358,     0.90388,     0.90367,     0.90371,     0.90389,     0.90405,     0.90367,     0.90386,     0.90346,     0.90381,      0.9039,      0.9045,      0.9043,\n",
              "            0.90484,      0.9048,     0.90504,      0.9049,     0.90504,     0.90496,     0.90477,     0.90448,     0.90424,     0.90382,     0.90367,     0.90376,      0.9041,     0.90427,     0.90426,     0.90417,     0.90407,     0.90398,     0.90418,     0.90404,     0.90364,     0.90387,     0.90338,\n",
              "            0.90377,     0.90398,     0.90407,     0.90415,     0.90423,     0.90398,     0.90412,     0.90446,     0.90455,     0.90463,      0.9048,     0.90499,     0.90512,     0.90535,     0.90507,     0.90523,     0.90493,     0.90483,     0.90472,     0.90465,     0.90455,     0.90436,     0.90436,\n",
              "             0.9044,     0.90445,     0.90449,     0.90454,     0.90485,       0.905,     0.90437,     0.90422,     0.90429,     0.90436,     0.90468,     0.90471,     0.90438,     0.90444,     0.90394,      0.9036,     0.90353,     0.90345,     0.90342,     0.90342,     0.90365,     0.90375,     0.90356,\n",
              "            0.90362,     0.90375,     0.90373,     0.90398,     0.90428,     0.90384,     0.90373,     0.90366,     0.90358,     0.90351,     0.90342,     0.90363,     0.90407,     0.90428,     0.90371,     0.90327,     0.90326,     0.90282,     0.90248,     0.90257,     0.90265,     0.90274,     0.90282,\n",
              "            0.90289,     0.90311,     0.90291,     0.90315,     0.90322,     0.90329,     0.90336,     0.90284,     0.90219,     0.90241,     0.90214,     0.90154,     0.90153,     0.90164,     0.90158,     0.90143,      0.9016,     0.90134,     0.90147,      0.9015,     0.90136,     0.90149,     0.90138,\n",
              "            0.90128,     0.90102,     0.90081,     0.90067,     0.90026,     0.90036,     0.90074,     0.90063,     0.90051,     0.90065,     0.90055,     0.90044,     0.90054,     0.90077,       0.901,     0.90133,     0.90127,     0.90114,     0.90123,     0.90154,     0.90141,     0.90128,     0.90152,\n",
              "             0.9022,     0.90244,     0.90294,     0.90271,     0.90295,     0.90306,     0.90292,     0.90303,      0.9033,     0.90344,     0.90332,      0.9036,      0.9039,     0.90304,     0.90288,     0.90302,     0.90289,     0.90281,     0.90308,     0.90286,     0.90291,     0.90297,     0.90304,\n",
              "             0.9031,     0.90354,     0.90332,     0.90346,     0.90351,     0.90343,     0.90334,     0.90326,     0.90304,     0.90295,     0.90307,     0.90312,      0.9035,     0.90335,      0.9034,       0.903,      0.9027,     0.90242,     0.90237,      0.9022,     0.90212,     0.90203,     0.90198,\n",
              "            0.90217,     0.90261,     0.90257,     0.90258,     0.90246,     0.90264,     0.90274,     0.90283,     0.90297,     0.90282,     0.90292,     0.90302,     0.90293,     0.90282,     0.90279,     0.90269,     0.90249,     0.90228,     0.90236,     0.90245,      0.9025,     0.90214,     0.90185,\n",
              "            0.90158,     0.90201,      0.9022,     0.90225,     0.90208,     0.90206,     0.90215,     0.90225,     0.90198,     0.90208,     0.90218,     0.90183,     0.90177,     0.90171,     0.90164,     0.90158,     0.90173,     0.90148,     0.90156,     0.90163,     0.90171,      0.9015,      0.9015,\n",
              "             0.9016,     0.90151,     0.90158,      0.9011,     0.90103,     0.90107,     0.90111,     0.90115,     0.90119,     0.90123,     0.90161,     0.90165,      0.9015,     0.90102,     0.90136,     0.90141,     0.90162,     0.90174,      0.9017,     0.90151,      0.9016,     0.90173,     0.90219,\n",
              "            0.90173,     0.90122,     0.90108,     0.90086,     0.90061,     0.90028,     0.89961,     0.89947,     0.89962,     0.89915,     0.89888,     0.89883,     0.89876,     0.89886,     0.89875,     0.89864,     0.89847,     0.89878,     0.89842,     0.89819,     0.89828,     0.89837,      0.8984,\n",
              "            0.89819,     0.89824,     0.89838,     0.89818,     0.89815,     0.89786,     0.89789,     0.89778,     0.89767,     0.89754,     0.89736,     0.89717,     0.89697,     0.89699,     0.89681,     0.89671,      0.8966,     0.89587,     0.89534,     0.89478,      0.8939,     0.89375,     0.89386,\n",
              "            0.89392,     0.89369,      0.8938,     0.89347,      0.8933,     0.89337,     0.89344,     0.89351,     0.89323,     0.89337,     0.89326,     0.89315,     0.89282,     0.89255,     0.89238,     0.89222,      0.8917,     0.89078,     0.89066,     0.89054,     0.89012,     0.89003,     0.88994,\n",
              "             0.8895,     0.88936,     0.88938,     0.88915,     0.88894,     0.88868,     0.88848,     0.88842,     0.88835,     0.88829,     0.88823,     0.88772,     0.88779,     0.88736,     0.88722,     0.88664,     0.88624,     0.88633,     0.88643,     0.88688,     0.88682,     0.88666,     0.88647,\n",
              "            0.88624,     0.88583,     0.88537,     0.88552,     0.88524,     0.88503,     0.88454,     0.88391,      0.8838,     0.88369,     0.88348,      0.8832,     0.88305,     0.88292,     0.88283,     0.88274,     0.88264,     0.88253,     0.88243,     0.88232,     0.88137,     0.88144,     0.88055,\n",
              "            0.88028,     0.88001,      0.8795,     0.87928,     0.87949,     0.87934,     0.87919,     0.87822,     0.87828,     0.87811,     0.87803,     0.87795,     0.87787,     0.87758,     0.87726,      0.8774,      0.8773,     0.87716,     0.87702,     0.87717,     0.87706,     0.87694,     0.87616,\n",
              "            0.87597,     0.87453,     0.87425,     0.87413,     0.87401,     0.87302,     0.87315,     0.87291,       0.873,     0.87309,     0.87301,     0.87276,     0.87265,     0.87255,     0.87221,     0.87232,     0.87242,     0.87227,     0.87209,     0.87196,     0.87183,     0.87129,     0.87081,\n",
              "            0.87104,     0.87114,     0.87124,     0.87114,     0.87097,     0.87109,      0.8712,     0.86977,     0.86978,     0.86912,     0.86948,     0.86966,     0.86938,     0.86901,     0.86864,     0.86811,     0.86793,     0.86672,     0.86606,     0.86586,     0.86564,     0.86535,     0.86486,\n",
              "            0.86378,     0.86378,     0.86351,     0.86309,     0.86272,     0.86266,     0.86154,     0.86122,     0.86102,     0.86107,     0.86027,     0.85946,     0.85927,     0.85898,     0.85792,      0.8572,     0.85688,     0.85673,     0.85618,     0.85632,     0.85657,     0.85642,     0.85583,\n",
              "            0.85551,     0.85526,     0.85379,     0.85228,     0.85229,     0.85214,      0.8518,     0.85117,     0.85088,     0.85053,     0.85046,     0.85007,     0.84946,     0.84928,      0.8488,      0.8479,      0.8474,     0.84709,     0.84684,     0.84655,      0.8456,     0.84435,     0.84337,\n",
              "             0.8421,     0.84035,     0.83987,     0.83956,     0.83938,     0.83914,     0.83844,     0.83653,     0.83482,     0.83432,     0.83263,     0.83103,     0.83053,     0.82989,     0.82925,     0.82769,     0.82725,     0.82593,     0.82475,     0.82316,     0.82162,     0.81974,      0.8179,\n",
              "            0.81752,     0.81461,       0.813,     0.81237,     0.81075,     0.80949,     0.80835,     0.80634,     0.80293,     0.80161,     0.79991,     0.79828,     0.79767,     0.79672,     0.79318,     0.79085,     0.78839,     0.78694,     0.78249,     0.78034,     0.77854,     0.77465,     0.77288,\n",
              "            0.77035,     0.76705,     0.76605,     0.76362,     0.76047,     0.75781,      0.7552,     0.75174,     0.74959,      0.7477,     0.74502,      0.7419,     0.73949,     0.73477,     0.72889,     0.72535,     0.72164,     0.71897,     0.71549,     0.71427,     0.71035,     0.70496,     0.70166,\n",
              "            0.69869,     0.69611,     0.68878,     0.68321,      0.6791,     0.67433,     0.66736,     0.66109,     0.65846,     0.65125,     0.64584,     0.64259,     0.63664,     0.63151,     0.62369,     0.61925,     0.61559,     0.61075,     0.60321,     0.59778,     0.59177,     0.58657,     0.57886,\n",
              "            0.57125,     0.56272,     0.55308,     0.54459,     0.53068,     0.52188,     0.51076,     0.49995,     0.48472,     0.47054,     0.46009,     0.44973,     0.43623,     0.42294,      0.4052,     0.39609,     0.38188,      0.3651,     0.35895,     0.34916,     0.33447,     0.31782,     0.31069,\n",
              "            0.29884,     0.28698,     0.27527,     0.25806,     0.24411,     0.23501,     0.22483,     0.21693,     0.20424,     0.19268,     0.18337,     0.17152,     0.16241,     0.15283,     0.14643,     0.13528,     0.12744,     0.12246,     0.11933,     0.10947,     0.10321,    0.095128,    0.092625,\n",
              "           0.084553,    0.079188,    0.076863,    0.074338,    0.068544,    0.061378,    0.058851,    0.053207,    0.047869,    0.046532,     0.04292,    0.040129,    0.036727,    0.036082,    0.032418,    0.030856,    0.024124,    0.022499,    0.019572,    0.017158,    0.016098,    0.015046,    0.010612,\n",
              "           0.009741,   0.0056011,   0.0042208,   0.0038082,   0.0033955,   0.0027955,   0.0021107,   0.0017927,   0.0014746,   0.0011564,           0,           0,           0,           0,           0,           0,           0,           0,           0,           0,           0,           0,           0,\n",
              "                  0,           0,           0,           0,           0,           0,           0,           0,           0,           0,           0]]), 'Confidence', 'F1'], [array([          0,    0.001001,    0.002002,    0.003003,    0.004004,    0.005005,    0.006006,    0.007007,    0.008008,    0.009009,     0.01001,    0.011011,    0.012012,    0.013013,    0.014014,    0.015015,    0.016016,    0.017017,    0.018018,    0.019019,     0.02002,    0.021021,    0.022022,    0.023023,\n",
              "          0.024024,    0.025025,    0.026026,    0.027027,    0.028028,    0.029029,     0.03003,    0.031031,    0.032032,    0.033033,    0.034034,    0.035035,    0.036036,    0.037037,    0.038038,    0.039039,     0.04004,    0.041041,    0.042042,    0.043043,    0.044044,    0.045045,    0.046046,    0.047047,\n",
              "          0.048048,    0.049049,     0.05005,    0.051051,    0.052052,    0.053053,    0.054054,    0.055055,    0.056056,    0.057057,    0.058058,    0.059059,     0.06006,    0.061061,    0.062062,    0.063063,    0.064064,    0.065065,    0.066066,    0.067067,    0.068068,    0.069069,     0.07007,    0.071071,\n",
              "          0.072072,    0.073073,    0.074074,    0.075075,    0.076076,    0.077077,    0.078078,    0.079079,     0.08008,    0.081081,    0.082082,    0.083083,    0.084084,    0.085085,    0.086086,    0.087087,    0.088088,    0.089089,     0.09009,    0.091091,    0.092092,    0.093093,    0.094094,    0.095095,\n",
              "          0.096096,    0.097097,    0.098098,    0.099099,      0.1001,      0.1011,      0.1021,      0.1031,      0.1041,     0.10511,     0.10611,     0.10711,     0.10811,     0.10911,     0.11011,     0.11111,     0.11211,     0.11311,     0.11411,     0.11512,     0.11612,     0.11712,     0.11812,     0.11912,\n",
              "           0.12012,     0.12112,     0.12212,     0.12312,     0.12412,     0.12513,     0.12613,     0.12713,     0.12813,     0.12913,     0.13013,     0.13113,     0.13213,     0.13313,     0.13413,     0.13514,     0.13614,     0.13714,     0.13814,     0.13914,     0.14014,     0.14114,     0.14214,     0.14314,\n",
              "           0.14414,     0.14515,     0.14615,     0.14715,     0.14815,     0.14915,     0.15015,     0.15115,     0.15215,     0.15315,     0.15415,     0.15516,     0.15616,     0.15716,     0.15816,     0.15916,     0.16016,     0.16116,     0.16216,     0.16316,     0.16416,     0.16517,     0.16617,     0.16717,\n",
              "           0.16817,     0.16917,     0.17017,     0.17117,     0.17217,     0.17317,     0.17417,     0.17518,     0.17618,     0.17718,     0.17818,     0.17918,     0.18018,     0.18118,     0.18218,     0.18318,     0.18418,     0.18519,     0.18619,     0.18719,     0.18819,     0.18919,     0.19019,     0.19119,\n",
              "           0.19219,     0.19319,     0.19419,      0.1952,      0.1962,      0.1972,      0.1982,      0.1992,      0.2002,      0.2012,      0.2022,      0.2032,      0.2042,     0.20521,     0.20621,     0.20721,     0.20821,     0.20921,     0.21021,     0.21121,     0.21221,     0.21321,     0.21421,     0.21522,\n",
              "           0.21622,     0.21722,     0.21822,     0.21922,     0.22022,     0.22122,     0.22222,     0.22322,     0.22422,     0.22523,     0.22623,     0.22723,     0.22823,     0.22923,     0.23023,     0.23123,     0.23223,     0.23323,     0.23423,     0.23524,     0.23624,     0.23724,     0.23824,     0.23924,\n",
              "           0.24024,     0.24124,     0.24224,     0.24324,     0.24424,     0.24525,     0.24625,     0.24725,     0.24825,     0.24925,     0.25025,     0.25125,     0.25225,     0.25325,     0.25425,     0.25526,     0.25626,     0.25726,     0.25826,     0.25926,     0.26026,     0.26126,     0.26226,     0.26326,\n",
              "           0.26426,     0.26527,     0.26627,     0.26727,     0.26827,     0.26927,     0.27027,     0.27127,     0.27227,     0.27327,     0.27427,     0.27528,     0.27628,     0.27728,     0.27828,     0.27928,     0.28028,     0.28128,     0.28228,     0.28328,     0.28428,     0.28529,     0.28629,     0.28729,\n",
              "           0.28829,     0.28929,     0.29029,     0.29129,     0.29229,     0.29329,     0.29429,      0.2953,      0.2963,      0.2973,      0.2983,      0.2993,      0.3003,      0.3013,      0.3023,      0.3033,      0.3043,     0.30531,     0.30631,     0.30731,     0.30831,     0.30931,     0.31031,     0.31131,\n",
              "           0.31231,     0.31331,     0.31431,     0.31532,     0.31632,     0.31732,     0.31832,     0.31932,     0.32032,     0.32132,     0.32232,     0.32332,     0.32432,     0.32533,     0.32633,     0.32733,     0.32833,     0.32933,     0.33033,     0.33133,     0.33233,     0.33333,     0.33433,     0.33534,\n",
              "           0.33634,     0.33734,     0.33834,     0.33934,     0.34034,     0.34134,     0.34234,     0.34334,     0.34434,     0.34535,     0.34635,     0.34735,     0.34835,     0.34935,     0.35035,     0.35135,     0.35235,     0.35335,     0.35435,     0.35536,     0.35636,     0.35736,     0.35836,     0.35936,\n",
              "           0.36036,     0.36136,     0.36236,     0.36336,     0.36436,     0.36537,     0.36637,     0.36737,     0.36837,     0.36937,     0.37037,     0.37137,     0.37237,     0.37337,     0.37437,     0.37538,     0.37638,     0.37738,     0.37838,     0.37938,     0.38038,     0.38138,     0.38238,     0.38338,\n",
              "           0.38438,     0.38539,     0.38639,     0.38739,     0.38839,     0.38939,     0.39039,     0.39139,     0.39239,     0.39339,     0.39439,      0.3954,      0.3964,      0.3974,      0.3984,      0.3994,      0.4004,      0.4014,      0.4024,      0.4034,      0.4044,     0.40541,     0.40641,     0.40741,\n",
              "           0.40841,     0.40941,     0.41041,     0.41141,     0.41241,     0.41341,     0.41441,     0.41542,     0.41642,     0.41742,     0.41842,     0.41942,     0.42042,     0.42142,     0.42242,     0.42342,     0.42442,     0.42543,     0.42643,     0.42743,     0.42843,     0.42943,     0.43043,     0.43143,\n",
              "           0.43243,     0.43343,     0.43443,     0.43544,     0.43644,     0.43744,     0.43844,     0.43944,     0.44044,     0.44144,     0.44244,     0.44344,     0.44444,     0.44545,     0.44645,     0.44745,     0.44845,     0.44945,     0.45045,     0.45145,     0.45245,     0.45345,     0.45445,     0.45546,\n",
              "           0.45646,     0.45746,     0.45846,     0.45946,     0.46046,     0.46146,     0.46246,     0.46346,     0.46446,     0.46547,     0.46647,     0.46747,     0.46847,     0.46947,     0.47047,     0.47147,     0.47247,     0.47347,     0.47447,     0.47548,     0.47648,     0.47748,     0.47848,     0.47948,\n",
              "           0.48048,     0.48148,     0.48248,     0.48348,     0.48448,     0.48549,     0.48649,     0.48749,     0.48849,     0.48949,     0.49049,     0.49149,     0.49249,     0.49349,     0.49449,      0.4955,      0.4965,      0.4975,      0.4985,      0.4995,      0.5005,      0.5015,      0.5025,      0.5035,\n",
              "            0.5045,     0.50551,     0.50651,     0.50751,     0.50851,     0.50951,     0.51051,     0.51151,     0.51251,     0.51351,     0.51451,     0.51552,     0.51652,     0.51752,     0.51852,     0.51952,     0.52052,     0.52152,     0.52252,     0.52352,     0.52452,     0.52553,     0.52653,     0.52753,\n",
              "           0.52853,     0.52953,     0.53053,     0.53153,     0.53253,     0.53353,     0.53453,     0.53554,     0.53654,     0.53754,     0.53854,     0.53954,     0.54054,     0.54154,     0.54254,     0.54354,     0.54454,     0.54555,     0.54655,     0.54755,     0.54855,     0.54955,     0.55055,     0.55155,\n",
              "           0.55255,     0.55355,     0.55455,     0.55556,     0.55656,     0.55756,     0.55856,     0.55956,     0.56056,     0.56156,     0.56256,     0.56356,     0.56456,     0.56557,     0.56657,     0.56757,     0.56857,     0.56957,     0.57057,     0.57157,     0.57257,     0.57357,     0.57457,     0.57558,\n",
              "           0.57658,     0.57758,     0.57858,     0.57958,     0.58058,     0.58158,     0.58258,     0.58358,     0.58458,     0.58559,     0.58659,     0.58759,     0.58859,     0.58959,     0.59059,     0.59159,     0.59259,     0.59359,     0.59459,      0.5956,      0.5966,      0.5976,      0.5986,      0.5996,\n",
              "            0.6006,      0.6016,      0.6026,      0.6036,      0.6046,     0.60561,     0.60661,     0.60761,     0.60861,     0.60961,     0.61061,     0.61161,     0.61261,     0.61361,     0.61461,     0.61562,     0.61662,     0.61762,     0.61862,     0.61962,     0.62062,     0.62162,     0.62262,     0.62362,\n",
              "           0.62462,     0.62563,     0.62663,     0.62763,     0.62863,     0.62963,     0.63063,     0.63163,     0.63263,     0.63363,     0.63463,     0.63564,     0.63664,     0.63764,     0.63864,     0.63964,     0.64064,     0.64164,     0.64264,     0.64364,     0.64464,     0.64565,     0.64665,     0.64765,\n",
              "           0.64865,     0.64965,     0.65065,     0.65165,     0.65265,     0.65365,     0.65465,     0.65566,     0.65666,     0.65766,     0.65866,     0.65966,     0.66066,     0.66166,     0.66266,     0.66366,     0.66466,     0.66567,     0.66667,     0.66767,     0.66867,     0.66967,     0.67067,     0.67167,\n",
              "           0.67267,     0.67367,     0.67467,     0.67568,     0.67668,     0.67768,     0.67868,     0.67968,     0.68068,     0.68168,     0.68268,     0.68368,     0.68468,     0.68569,     0.68669,     0.68769,     0.68869,     0.68969,     0.69069,     0.69169,     0.69269,     0.69369,     0.69469,      0.6957,\n",
              "            0.6967,      0.6977,      0.6987,      0.6997,      0.7007,      0.7017,      0.7027,      0.7037,      0.7047,     0.70571,     0.70671,     0.70771,     0.70871,     0.70971,     0.71071,     0.71171,     0.71271,     0.71371,     0.71471,     0.71572,     0.71672,     0.71772,     0.71872,     0.71972,\n",
              "           0.72072,     0.72172,     0.72272,     0.72372,     0.72472,     0.72573,     0.72673,     0.72773,     0.72873,     0.72973,     0.73073,     0.73173,     0.73273,     0.73373,     0.73473,     0.73574,     0.73674,     0.73774,     0.73874,     0.73974,     0.74074,     0.74174,     0.74274,     0.74374,\n",
              "           0.74474,     0.74575,     0.74675,     0.74775,     0.74875,     0.74975,     0.75075,     0.75175,     0.75275,     0.75375,     0.75475,     0.75576,     0.75676,     0.75776,     0.75876,     0.75976,     0.76076,     0.76176,     0.76276,     0.76376,     0.76476,     0.76577,     0.76677,     0.76777,\n",
              "           0.76877,     0.76977,     0.77077,     0.77177,     0.77277,     0.77377,     0.77477,     0.77578,     0.77678,     0.77778,     0.77878,     0.77978,     0.78078,     0.78178,     0.78278,     0.78378,     0.78478,     0.78579,     0.78679,     0.78779,     0.78879,     0.78979,     0.79079,     0.79179,\n",
              "           0.79279,     0.79379,     0.79479,      0.7958,      0.7968,      0.7978,      0.7988,      0.7998,      0.8008,      0.8018,      0.8028,      0.8038,      0.8048,     0.80581,     0.80681,     0.80781,     0.80881,     0.80981,     0.81081,     0.81181,     0.81281,     0.81381,     0.81481,     0.81582,\n",
              "           0.81682,     0.81782,     0.81882,     0.81982,     0.82082,     0.82182,     0.82282,     0.82382,     0.82482,     0.82583,     0.82683,     0.82783,     0.82883,     0.82983,     0.83083,     0.83183,     0.83283,     0.83383,     0.83483,     0.83584,     0.83684,     0.83784,     0.83884,     0.83984,\n",
              "           0.84084,     0.84184,     0.84284,     0.84384,     0.84484,     0.84585,     0.84685,     0.84785,     0.84885,     0.84985,     0.85085,     0.85185,     0.85285,     0.85385,     0.85485,     0.85586,     0.85686,     0.85786,     0.85886,     0.85986,     0.86086,     0.86186,     0.86286,     0.86386,\n",
              "           0.86486,     0.86587,     0.86687,     0.86787,     0.86887,     0.86987,     0.87087,     0.87187,     0.87287,     0.87387,     0.87487,     0.87588,     0.87688,     0.87788,     0.87888,     0.87988,     0.88088,     0.88188,     0.88288,     0.88388,     0.88488,     0.88589,     0.88689,     0.88789,\n",
              "           0.88889,     0.88989,     0.89089,     0.89189,     0.89289,     0.89389,     0.89489,      0.8959,      0.8969,      0.8979,      0.8989,      0.8999,      0.9009,      0.9019,      0.9029,      0.9039,      0.9049,     0.90591,     0.90691,     0.90791,     0.90891,     0.90991,     0.91091,     0.91191,\n",
              "           0.91291,     0.91391,     0.91491,     0.91592,     0.91692,     0.91792,     0.91892,     0.91992,     0.92092,     0.92192,     0.92292,     0.92392,     0.92492,     0.92593,     0.92693,     0.92793,     0.92893,     0.92993,     0.93093,     0.93193,     0.93293,     0.93393,     0.93493,     0.93594,\n",
              "           0.93694,     0.93794,     0.93894,     0.93994,     0.94094,     0.94194,     0.94294,     0.94394,     0.94494,     0.94595,     0.94695,     0.94795,     0.94895,     0.94995,     0.95095,     0.95195,     0.95295,     0.95395,     0.95495,     0.95596,     0.95696,     0.95796,     0.95896,     0.95996,\n",
              "           0.96096,     0.96196,     0.96296,     0.96396,     0.96496,     0.96597,     0.96697,     0.96797,     0.96897,     0.96997,     0.97097,     0.97197,     0.97297,     0.97397,     0.97497,     0.97598,     0.97698,     0.97798,     0.97898,     0.97998,     0.98098,     0.98198,     0.98298,     0.98398,\n",
              "           0.98498,     0.98599,     0.98699,     0.98799,     0.98899,     0.98999,     0.99099,     0.99199,     0.99299,     0.99399,     0.99499,       0.996,       0.997,       0.998,       0.999,           1]), array([[    0.26122,     0.26126,      0.3391,     0.38684,     0.42089,     0.44771,     0.46888,     0.48753,     0.50469,     0.51698,     0.52854,      0.5372,     0.54732,     0.55797,      0.5671,     0.57443,     0.58116,     0.58844,     0.59439,      0.6016,     0.60931,     0.61409,     0.61875,\n",
              "            0.62547,      0.6298,     0.63441,     0.63835,     0.64309,     0.64808,     0.65193,     0.65733,     0.66224,     0.66526,     0.66765,      0.6697,     0.67104,     0.67323,     0.67388,     0.67639,     0.67814,     0.67946,     0.68106,     0.68218,     0.68577,     0.68719,     0.68799,\n",
              "            0.69124,     0.69205,     0.69359,     0.69526,     0.69767,     0.69877,     0.70046,     0.70128,     0.70229,     0.70394,     0.70522,     0.70629,      0.7078,     0.70918,     0.71004,      0.7116,     0.71289,     0.71449,     0.71563,     0.71787,     0.71946,      0.7221,     0.72347,\n",
              "            0.72494,     0.72571,     0.72774,     0.72888,     0.73028,     0.73165,     0.73243,     0.73311,     0.73389,     0.73506,     0.73606,     0.73642,     0.73746,     0.73833,     0.73959,      0.7406,     0.74222,     0.74302,     0.74457,      0.7455,     0.74683,     0.74823,     0.74888,\n",
              "            0.74944,     0.75012,      0.7505,     0.75103,     0.75223,     0.75324,     0.75377,     0.75454,     0.75491,     0.75556,     0.75756,      0.7596,     0.76063,      0.7619,     0.76322,     0.76417,     0.76597,     0.76723,     0.76763,     0.76829,     0.76834,     0.76926,     0.77046,\n",
              "            0.77122,     0.77277,     0.77423,     0.77556,     0.77609,     0.77725,     0.77793,      0.7781,     0.77883,     0.77906,     0.78008,     0.78033,      0.7805,     0.78087,     0.78235,     0.78347,     0.78474,     0.78584,     0.78718,     0.78914,     0.78971,     0.78988,      0.7914,\n",
              "            0.79176,     0.79239,     0.79264,     0.79401,     0.79483,     0.79589,     0.79616,     0.79705,     0.79833,     0.79921,     0.79943,     0.79966,      0.8003,     0.80146,     0.80236,      0.8028,     0.80323,     0.80443,     0.80541,      0.8063,     0.80661,     0.80693,     0.80761,\n",
              "            0.80867,     0.80932,     0.81021,     0.81038,      0.8107,     0.81111,     0.81132,     0.81164,     0.81216,     0.81307,     0.81327,     0.81346,     0.81403,     0.81413,      0.8143,     0.81448,     0.81503,     0.81576,     0.81682,     0.81744,     0.81827,     0.81903,      0.8199,\n",
              "            0.82215,     0.82295,     0.82344,     0.82438,     0.82469,     0.82513,     0.82517,     0.82581,      0.8264,      0.8266,     0.82683,     0.82758,     0.82865,     0.82874,     0.82892,     0.82977,     0.82974,      0.8297,     0.83134,     0.83169,     0.83187,     0.83206,     0.83228,\n",
              "            0.83302,     0.83336,     0.83357,     0.83384,     0.83444,     0.83528,     0.83568,     0.83595,     0.83651,     0.83702,      0.8379,     0.83817,      0.8386,     0.83909,     0.83906,     0.83903,     0.83933,      0.8396,      0.8399,     0.84055,     0.84151,     0.84243,     0.84297,\n",
              "            0.84388,     0.84393,     0.84435,     0.84505,     0.84541,     0.84583,     0.84672,     0.84697,     0.84743,     0.84773,      0.8484,     0.84913,     0.84991,     0.85044,     0.85117,     0.85133,     0.85149,     0.85163,     0.85175,     0.85188,     0.85207,     0.85291,     0.85329,\n",
              "            0.85369,     0.85402,     0.85421,     0.85438,      0.8549,     0.85488,     0.85485,     0.85498,     0.85554,     0.85604,     0.85638,      0.8573,     0.85755,     0.85782,     0.85845,     0.85858,     0.85871,     0.85884,     0.85901,     0.85917,     0.85948,     0.86011,     0.86049,\n",
              "            0.86077,     0.86094,     0.86109,     0.86125,     0.86168,     0.86192,     0.86208,     0.86261,     0.86303,     0.86321,       0.864,     0.86447,      0.8648,     0.86511,     0.86541,     0.86681,     0.86724,     0.86847,     0.86902,     0.86959,     0.87084,     0.87123,     0.87143,\n",
              "             0.8721,     0.87284,     0.87301,     0.87318,     0.87337,     0.87358,     0.87406,     0.87453,     0.87472,     0.87548,     0.87569,     0.87626,     0.87622,     0.87642,     0.87675,     0.87706,     0.87729,     0.87764,     0.87774,     0.87851,     0.87916,     0.88034,     0.88041,\n",
              "            0.88142,     0.88183,     0.88229,     0.88252,     0.88278,     0.88284,      0.8828,     0.88274,     0.88269,      0.8826,     0.88257,     0.88278,     0.88347,     0.88424,     0.88471,     0.88469,     0.88468,     0.88466,     0.88505,     0.88508,     0.88499,     0.88544,     0.88535,\n",
              "            0.88625,     0.88664,     0.88683,     0.88698,     0.88713,     0.88711,     0.88742,     0.88807,     0.88824,     0.88841,     0.88874,     0.88909,     0.88935,     0.88979,     0.89025,     0.89057,     0.89061,     0.89059,     0.89057,     0.89097,     0.89126,     0.89134,      0.8914,\n",
              "            0.89149,     0.89158,     0.89167,     0.89175,     0.89236,     0.89272,      0.8926,     0.89266,      0.8928,     0.89293,     0.89355,     0.89393,     0.89386,      0.8943,     0.89421,     0.89414,     0.89413,     0.89411,     0.89418,     0.89453,     0.89514,     0.89545,     0.89541,\n",
              "             0.8956,     0.89586,     0.89685,     0.89735,     0.89812,     0.89804,     0.89802,     0.89801,       0.898,     0.89798,     0.89834,     0.89876,     0.89963,     0.90073,     0.90104,     0.90099,     0.90173,     0.90179,     0.90179,     0.90196,     0.90213,      0.9023,     0.90246,\n",
              "            0.90262,     0.90316,     0.90313,     0.90367,     0.90381,     0.90395,     0.90409,       0.904,      0.9039,     0.90435,     0.90477,     0.90512,      0.9053,     0.90552,     0.90557,     0.90555,     0.90603,     0.90601,     0.90626,     0.90646,      0.9066,     0.90691,     0.90689,\n",
              "            0.90687,     0.90683,     0.90679,     0.90677,      0.9067,     0.90734,     0.90814,     0.90812,      0.9081,     0.90858,     0.90857,     0.90855,     0.90882,     0.90928,     0.90975,     0.91042,     0.91052,      0.9105,     0.91078,     0.91148,     0.91146,     0.91144,     0.91251,\n",
              "             0.9139,     0.91439,     0.91541,     0.91552,     0.91599,     0.91638,     0.91652,     0.91674,     0.91729,     0.91785,     0.91791,     0.91849,      0.9191,     0.91921,     0.91929,     0.91959,     0.92062,     0.92089,      0.9216,     0.92157,     0.92169,     0.92182,     0.92195,\n",
              "            0.92207,     0.92299,     0.92313,     0.92343,     0.92359,     0.92358,     0.92357,     0.92356,     0.92401,     0.92412,     0.92436,     0.92499,     0.92602,       0.926,     0.92649,     0.92644,      0.9264,     0.92636,     0.92684,     0.92682,     0.92681,      0.9268,     0.92684,\n",
              "            0.92723,     0.92816,     0.92835,     0.92885,     0.92904,     0.92944,     0.92963,     0.92982,     0.93039,     0.93041,     0.93062,     0.93083,     0.93124,     0.93137,     0.93156,     0.93185,     0.93233,      0.9323,     0.93248,     0.93267,     0.93283,     0.93279,     0.93275,\n",
              "            0.93272,     0.93418,      0.9346,     0.93483,      0.9348,     0.93491,     0.93511,     0.93532,     0.93536,     0.93558,      0.9358,      0.9363,      0.9363,     0.93629,     0.93628,     0.93627,      0.9368,     0.93678,     0.93694,     0.93711,     0.93727,     0.93729,     0.93744,\n",
              "            0.93765,     0.93781,     0.93833,     0.93828,     0.93832,     0.93841,      0.9385,     0.93858,     0.93867,     0.93876,     0.93957,     0.93989,     0.93988,     0.93982,     0.94094,     0.94168,     0.94214,     0.94239,     0.94251,     0.94249,     0.94274,     0.94303,     0.94414,\n",
              "             0.9441,     0.94404,     0.94403,       0.944,     0.94444,     0.94447,      0.9444,     0.94439,     0.94486,     0.94488,     0.94486,     0.94507,     0.94557,     0.94592,     0.94591,      0.9459,     0.94623,     0.94699,     0.94695,     0.94693,     0.94713,     0.94733,     0.94749,\n",
              "            0.94747,     0.94769,     0.94801,     0.94801,     0.94884,     0.94906,     0.94961,      0.9496,     0.94959,     0.94958,     0.94956,     0.94954,     0.94952,     0.95007,     0.95005,     0.95004,     0.95003,     0.94996,     0.94991,     0.94986,     0.95032,     0.95041,     0.95067,\n",
              "            0.95088,     0.95085,     0.95142,     0.95139,     0.95144,      0.9516,     0.95176,     0.95192,     0.95198,     0.95249,     0.95248,     0.95247,       0.953,      0.9532,     0.95352,      0.9535,     0.95346,     0.95337,     0.95336,     0.95335,     0.95331,      0.9533,      0.9533,\n",
              "            0.95326,     0.95358,     0.95381,     0.95379,     0.95377,     0.95375,     0.95373,     0.95372,     0.95372,     0.95371,     0.95371,     0.95366,     0.95422,      0.9542,     0.95418,     0.95413,     0.95419,     0.95441,     0.95463,     0.95568,     0.95586,     0.95585,     0.95583,\n",
              "            0.95581,     0.95578,     0.95577,     0.95632,      0.9563,     0.95628,     0.95682,     0.95676,     0.95676,     0.95675,     0.95673,     0.95671,     0.95669,     0.95668,     0.95667,     0.95667,     0.95666,     0.95665,     0.95664,     0.95663,     0.95655,     0.95714,     0.95765,\n",
              "            0.95763,      0.9576,     0.95756,      0.9576,     0.95815,     0.95813,     0.95812,     0.95808,     0.95864,     0.95862,     0.95862,     0.95861,      0.9586,     0.95858,     0.95881,     0.95913,     0.95974,     0.95973,     0.95974,     0.96033,     0.96032,     0.96031,     0.96025,\n",
              "            0.96023,     0.96012,      0.9601,     0.96009,     0.96008,     0.96008,     0.96039,     0.96061,     0.96082,     0.96104,      0.9612,     0.96118,     0.96118,     0.96117,     0.96124,     0.96149,     0.96174,     0.96175,     0.96174,     0.96173,     0.96172,     0.96168,     0.96173,\n",
              "            0.96231,     0.96256,      0.9628,     0.96288,     0.96292,      0.9632,     0.96349,     0.96339,       0.964,     0.96473,     0.96563,     0.96646,     0.96644,     0.96642,     0.96639,     0.96636,     0.96634,     0.96626,     0.96622,     0.96621,     0.96619,     0.96617,     0.96614,\n",
              "            0.96609,     0.96669,     0.96668,     0.96665,     0.96662,     0.96725,     0.96718,     0.96716,     0.96714,     0.96758,     0.96773,     0.96831,     0.96894,     0.96892,     0.96886,     0.96881,     0.96879,     0.96943,     0.96956,     0.96993,     0.97056,      0.9707,     0.97066,\n",
              "            0.97064,     0.97063,     0.97054,     0.97046,     0.97111,      0.9711,     0.97108,      0.9717,     0.97245,     0.97334,     0.97364,     0.97362,     0.97359,     0.97491,     0.97488,     0.97551,     0.97548,     0.97614,     0.97613,     0.97611,     0.97607,     0.97601,     0.97596,\n",
              "             0.9759,     0.97581,     0.97619,     0.97646,     0.97677,       0.978,     0.97847,     0.97839,     0.97831,     0.97829,     0.97822,     0.97815,     0.97813,      0.9781,     0.97807,       0.978,     0.97798,     0.97792,     0.97787,     0.97809,     0.97844,     0.97836,     0.97828,\n",
              "            0.97899,     0.97886,     0.97928,     0.98023,     0.98024,     0.98086,     0.98081,     0.98073,      0.9806,     0.98055,     0.98048,     0.98117,     0.98115,     0.98264,     0.98285,     0.98321,     0.98312,     0.98381,     0.98371,     0.98364,     0.98357,     0.98344,     0.98525,\n",
              "            0.98574,     0.98564,     0.98644,     0.98721,     0.98712,     0.98705,     0.98783,     0.98774,     0.98941,     0.99024,     0.99019,     0.99012,     0.99096,     0.99087,     0.99167,     0.99253,     0.99247,     0.99242,     0.99237,     0.99235,     0.99324,     0.99316,     0.99408,\n",
              "            0.99404,     0.99401,     0.99391,     0.99384,     0.99378,      0.9958,     0.99573,     0.99567,     0.99564,     0.99557,     0.99552,     0.99549,     0.99542,     0.99537,     0.99528,     0.99524,     0.99519,     0.99514,     0.99505,     0.99561,     0.99618,     0.99613,     0.99606,\n",
              "            0.99599,      0.9959,      0.9958,     0.99571,     0.99556,     0.99546,     0.99532,     0.99519,     0.99499,     0.99479,     0.99464,     0.99448,     0.99616,     0.99601,     0.99579,     0.99567,     0.99547,     0.99521,     0.99511,     0.99494,     0.99468,     0.99434,     0.99419,\n",
              "            0.99392,     0.99363,     0.99331,      0.9928,     0.99233,     0.99199,     0.99159,     0.99124,     0.99064,     0.99002,     0.98947,     0.98867,     0.98799,     0.98718,     0.98658,      0.9854,     0.98445,     0.98379,     0.98334,     0.98178,     0.98063,     0.97893,     0.97835,\n",
              "            0.97623,     0.97459,     0.97381,     0.97291,     0.97061,     0.96717,     0.96576,     0.96216,     0.95801,     0.95683,     0.97607,     0.97441,     0.97206,     0.97157,     0.96839,     0.96682,     0.95781,     0.95487,     0.94837,     0.94149,     0.93784,     0.93375,     0.90838,\n",
              "            0.90094,           1,           1,           1,           1,           1,           1,           1,           1,           1,           1,           1,           1,           1,           1,           1,           1,           1,           1,           1,           1,           1,           1,\n",
              "                  1,           1,           1,           1,           1,           1,           1,           1,           1,           1,           1]]), 'Confidence', 'Precision'], [array([          0,    0.001001,    0.002002,    0.003003,    0.004004,    0.005005,    0.006006,    0.007007,    0.008008,    0.009009,     0.01001,    0.011011,    0.012012,    0.013013,    0.014014,    0.015015,    0.016016,    0.017017,    0.018018,    0.019019,     0.02002,    0.021021,    0.022022,    0.023023,\n",
              "          0.024024,    0.025025,    0.026026,    0.027027,    0.028028,    0.029029,     0.03003,    0.031031,    0.032032,    0.033033,    0.034034,    0.035035,    0.036036,    0.037037,    0.038038,    0.039039,     0.04004,    0.041041,    0.042042,    0.043043,    0.044044,    0.045045,    0.046046,    0.047047,\n",
              "          0.048048,    0.049049,     0.05005,    0.051051,    0.052052,    0.053053,    0.054054,    0.055055,    0.056056,    0.057057,    0.058058,    0.059059,     0.06006,    0.061061,    0.062062,    0.063063,    0.064064,    0.065065,    0.066066,    0.067067,    0.068068,    0.069069,     0.07007,    0.071071,\n",
              "          0.072072,    0.073073,    0.074074,    0.075075,    0.076076,    0.077077,    0.078078,    0.079079,     0.08008,    0.081081,    0.082082,    0.083083,    0.084084,    0.085085,    0.086086,    0.087087,    0.088088,    0.089089,     0.09009,    0.091091,    0.092092,    0.093093,    0.094094,    0.095095,\n",
              "          0.096096,    0.097097,    0.098098,    0.099099,      0.1001,      0.1011,      0.1021,      0.1031,      0.1041,     0.10511,     0.10611,     0.10711,     0.10811,     0.10911,     0.11011,     0.11111,     0.11211,     0.11311,     0.11411,     0.11512,     0.11612,     0.11712,     0.11812,     0.11912,\n",
              "           0.12012,     0.12112,     0.12212,     0.12312,     0.12412,     0.12513,     0.12613,     0.12713,     0.12813,     0.12913,     0.13013,     0.13113,     0.13213,     0.13313,     0.13413,     0.13514,     0.13614,     0.13714,     0.13814,     0.13914,     0.14014,     0.14114,     0.14214,     0.14314,\n",
              "           0.14414,     0.14515,     0.14615,     0.14715,     0.14815,     0.14915,     0.15015,     0.15115,     0.15215,     0.15315,     0.15415,     0.15516,     0.15616,     0.15716,     0.15816,     0.15916,     0.16016,     0.16116,     0.16216,     0.16316,     0.16416,     0.16517,     0.16617,     0.16717,\n",
              "           0.16817,     0.16917,     0.17017,     0.17117,     0.17217,     0.17317,     0.17417,     0.17518,     0.17618,     0.17718,     0.17818,     0.17918,     0.18018,     0.18118,     0.18218,     0.18318,     0.18418,     0.18519,     0.18619,     0.18719,     0.18819,     0.18919,     0.19019,     0.19119,\n",
              "           0.19219,     0.19319,     0.19419,      0.1952,      0.1962,      0.1972,      0.1982,      0.1992,      0.2002,      0.2012,      0.2022,      0.2032,      0.2042,     0.20521,     0.20621,     0.20721,     0.20821,     0.20921,     0.21021,     0.21121,     0.21221,     0.21321,     0.21421,     0.21522,\n",
              "           0.21622,     0.21722,     0.21822,     0.21922,     0.22022,     0.22122,     0.22222,     0.22322,     0.22422,     0.22523,     0.22623,     0.22723,     0.22823,     0.22923,     0.23023,     0.23123,     0.23223,     0.23323,     0.23423,     0.23524,     0.23624,     0.23724,     0.23824,     0.23924,\n",
              "           0.24024,     0.24124,     0.24224,     0.24324,     0.24424,     0.24525,     0.24625,     0.24725,     0.24825,     0.24925,     0.25025,     0.25125,     0.25225,     0.25325,     0.25425,     0.25526,     0.25626,     0.25726,     0.25826,     0.25926,     0.26026,     0.26126,     0.26226,     0.26326,\n",
              "           0.26426,     0.26527,     0.26627,     0.26727,     0.26827,     0.26927,     0.27027,     0.27127,     0.27227,     0.27327,     0.27427,     0.27528,     0.27628,     0.27728,     0.27828,     0.27928,     0.28028,     0.28128,     0.28228,     0.28328,     0.28428,     0.28529,     0.28629,     0.28729,\n",
              "           0.28829,     0.28929,     0.29029,     0.29129,     0.29229,     0.29329,     0.29429,      0.2953,      0.2963,      0.2973,      0.2983,      0.2993,      0.3003,      0.3013,      0.3023,      0.3033,      0.3043,     0.30531,     0.30631,     0.30731,     0.30831,     0.30931,     0.31031,     0.31131,\n",
              "           0.31231,     0.31331,     0.31431,     0.31532,     0.31632,     0.31732,     0.31832,     0.31932,     0.32032,     0.32132,     0.32232,     0.32332,     0.32432,     0.32533,     0.32633,     0.32733,     0.32833,     0.32933,     0.33033,     0.33133,     0.33233,     0.33333,     0.33433,     0.33534,\n",
              "           0.33634,     0.33734,     0.33834,     0.33934,     0.34034,     0.34134,     0.34234,     0.34334,     0.34434,     0.34535,     0.34635,     0.34735,     0.34835,     0.34935,     0.35035,     0.35135,     0.35235,     0.35335,     0.35435,     0.35536,     0.35636,     0.35736,     0.35836,     0.35936,\n",
              "           0.36036,     0.36136,     0.36236,     0.36336,     0.36436,     0.36537,     0.36637,     0.36737,     0.36837,     0.36937,     0.37037,     0.37137,     0.37237,     0.37337,     0.37437,     0.37538,     0.37638,     0.37738,     0.37838,     0.37938,     0.38038,     0.38138,     0.38238,     0.38338,\n",
              "           0.38438,     0.38539,     0.38639,     0.38739,     0.38839,     0.38939,     0.39039,     0.39139,     0.39239,     0.39339,     0.39439,      0.3954,      0.3964,      0.3974,      0.3984,      0.3994,      0.4004,      0.4014,      0.4024,      0.4034,      0.4044,     0.40541,     0.40641,     0.40741,\n",
              "           0.40841,     0.40941,     0.41041,     0.41141,     0.41241,     0.41341,     0.41441,     0.41542,     0.41642,     0.41742,     0.41842,     0.41942,     0.42042,     0.42142,     0.42242,     0.42342,     0.42442,     0.42543,     0.42643,     0.42743,     0.42843,     0.42943,     0.43043,     0.43143,\n",
              "           0.43243,     0.43343,     0.43443,     0.43544,     0.43644,     0.43744,     0.43844,     0.43944,     0.44044,     0.44144,     0.44244,     0.44344,     0.44444,     0.44545,     0.44645,     0.44745,     0.44845,     0.44945,     0.45045,     0.45145,     0.45245,     0.45345,     0.45445,     0.45546,\n",
              "           0.45646,     0.45746,     0.45846,     0.45946,     0.46046,     0.46146,     0.46246,     0.46346,     0.46446,     0.46547,     0.46647,     0.46747,     0.46847,     0.46947,     0.47047,     0.47147,     0.47247,     0.47347,     0.47447,     0.47548,     0.47648,     0.47748,     0.47848,     0.47948,\n",
              "           0.48048,     0.48148,     0.48248,     0.48348,     0.48448,     0.48549,     0.48649,     0.48749,     0.48849,     0.48949,     0.49049,     0.49149,     0.49249,     0.49349,     0.49449,      0.4955,      0.4965,      0.4975,      0.4985,      0.4995,      0.5005,      0.5015,      0.5025,      0.5035,\n",
              "            0.5045,     0.50551,     0.50651,     0.50751,     0.50851,     0.50951,     0.51051,     0.51151,     0.51251,     0.51351,     0.51451,     0.51552,     0.51652,     0.51752,     0.51852,     0.51952,     0.52052,     0.52152,     0.52252,     0.52352,     0.52452,     0.52553,     0.52653,     0.52753,\n",
              "           0.52853,     0.52953,     0.53053,     0.53153,     0.53253,     0.53353,     0.53453,     0.53554,     0.53654,     0.53754,     0.53854,     0.53954,     0.54054,     0.54154,     0.54254,     0.54354,     0.54454,     0.54555,     0.54655,     0.54755,     0.54855,     0.54955,     0.55055,     0.55155,\n",
              "           0.55255,     0.55355,     0.55455,     0.55556,     0.55656,     0.55756,     0.55856,     0.55956,     0.56056,     0.56156,     0.56256,     0.56356,     0.56456,     0.56557,     0.56657,     0.56757,     0.56857,     0.56957,     0.57057,     0.57157,     0.57257,     0.57357,     0.57457,     0.57558,\n",
              "           0.57658,     0.57758,     0.57858,     0.57958,     0.58058,     0.58158,     0.58258,     0.58358,     0.58458,     0.58559,     0.58659,     0.58759,     0.58859,     0.58959,     0.59059,     0.59159,     0.59259,     0.59359,     0.59459,      0.5956,      0.5966,      0.5976,      0.5986,      0.5996,\n",
              "            0.6006,      0.6016,      0.6026,      0.6036,      0.6046,     0.60561,     0.60661,     0.60761,     0.60861,     0.60961,     0.61061,     0.61161,     0.61261,     0.61361,     0.61461,     0.61562,     0.61662,     0.61762,     0.61862,     0.61962,     0.62062,     0.62162,     0.62262,     0.62362,\n",
              "           0.62462,     0.62563,     0.62663,     0.62763,     0.62863,     0.62963,     0.63063,     0.63163,     0.63263,     0.63363,     0.63463,     0.63564,     0.63664,     0.63764,     0.63864,     0.63964,     0.64064,     0.64164,     0.64264,     0.64364,     0.64464,     0.64565,     0.64665,     0.64765,\n",
              "           0.64865,     0.64965,     0.65065,     0.65165,     0.65265,     0.65365,     0.65465,     0.65566,     0.65666,     0.65766,     0.65866,     0.65966,     0.66066,     0.66166,     0.66266,     0.66366,     0.66466,     0.66567,     0.66667,     0.66767,     0.66867,     0.66967,     0.67067,     0.67167,\n",
              "           0.67267,     0.67367,     0.67467,     0.67568,     0.67668,     0.67768,     0.67868,     0.67968,     0.68068,     0.68168,     0.68268,     0.68368,     0.68468,     0.68569,     0.68669,     0.68769,     0.68869,     0.68969,     0.69069,     0.69169,     0.69269,     0.69369,     0.69469,      0.6957,\n",
              "            0.6967,      0.6977,      0.6987,      0.6997,      0.7007,      0.7017,      0.7027,      0.7037,      0.7047,     0.70571,     0.70671,     0.70771,     0.70871,     0.70971,     0.71071,     0.71171,     0.71271,     0.71371,     0.71471,     0.71572,     0.71672,     0.71772,     0.71872,     0.71972,\n",
              "           0.72072,     0.72172,     0.72272,     0.72372,     0.72472,     0.72573,     0.72673,     0.72773,     0.72873,     0.72973,     0.73073,     0.73173,     0.73273,     0.73373,     0.73473,     0.73574,     0.73674,     0.73774,     0.73874,     0.73974,     0.74074,     0.74174,     0.74274,     0.74374,\n",
              "           0.74474,     0.74575,     0.74675,     0.74775,     0.74875,     0.74975,     0.75075,     0.75175,     0.75275,     0.75375,     0.75475,     0.75576,     0.75676,     0.75776,     0.75876,     0.75976,     0.76076,     0.76176,     0.76276,     0.76376,     0.76476,     0.76577,     0.76677,     0.76777,\n",
              "           0.76877,     0.76977,     0.77077,     0.77177,     0.77277,     0.77377,     0.77477,     0.77578,     0.77678,     0.77778,     0.77878,     0.77978,     0.78078,     0.78178,     0.78278,     0.78378,     0.78478,     0.78579,     0.78679,     0.78779,     0.78879,     0.78979,     0.79079,     0.79179,\n",
              "           0.79279,     0.79379,     0.79479,      0.7958,      0.7968,      0.7978,      0.7988,      0.7998,      0.8008,      0.8018,      0.8028,      0.8038,      0.8048,     0.80581,     0.80681,     0.80781,     0.80881,     0.80981,     0.81081,     0.81181,     0.81281,     0.81381,     0.81481,     0.81582,\n",
              "           0.81682,     0.81782,     0.81882,     0.81982,     0.82082,     0.82182,     0.82282,     0.82382,     0.82482,     0.82583,     0.82683,     0.82783,     0.82883,     0.82983,     0.83083,     0.83183,     0.83283,     0.83383,     0.83483,     0.83584,     0.83684,     0.83784,     0.83884,     0.83984,\n",
              "           0.84084,     0.84184,     0.84284,     0.84384,     0.84484,     0.84585,     0.84685,     0.84785,     0.84885,     0.84985,     0.85085,     0.85185,     0.85285,     0.85385,     0.85485,     0.85586,     0.85686,     0.85786,     0.85886,     0.85986,     0.86086,     0.86186,     0.86286,     0.86386,\n",
              "           0.86486,     0.86587,     0.86687,     0.86787,     0.86887,     0.86987,     0.87087,     0.87187,     0.87287,     0.87387,     0.87487,     0.87588,     0.87688,     0.87788,     0.87888,     0.87988,     0.88088,     0.88188,     0.88288,     0.88388,     0.88488,     0.88589,     0.88689,     0.88789,\n",
              "           0.88889,     0.88989,     0.89089,     0.89189,     0.89289,     0.89389,     0.89489,      0.8959,      0.8969,      0.8979,      0.8989,      0.8999,      0.9009,      0.9019,      0.9029,      0.9039,      0.9049,     0.90591,     0.90691,     0.90791,     0.90891,     0.90991,     0.91091,     0.91191,\n",
              "           0.91291,     0.91391,     0.91491,     0.91592,     0.91692,     0.91792,     0.91892,     0.91992,     0.92092,     0.92192,     0.92292,     0.92392,     0.92492,     0.92593,     0.92693,     0.92793,     0.92893,     0.92993,     0.93093,     0.93193,     0.93293,     0.93393,     0.93493,     0.93594,\n",
              "           0.93694,     0.93794,     0.93894,     0.93994,     0.94094,     0.94194,     0.94294,     0.94394,     0.94494,     0.94595,     0.94695,     0.94795,     0.94895,     0.94995,     0.95095,     0.95195,     0.95295,     0.95395,     0.95495,     0.95596,     0.95696,     0.95796,     0.95896,     0.95996,\n",
              "           0.96096,     0.96196,     0.96296,     0.96396,     0.96496,     0.96597,     0.96697,     0.96797,     0.96897,     0.96997,     0.97097,     0.97197,     0.97297,     0.97397,     0.97497,     0.97598,     0.97698,     0.97798,     0.97898,     0.97998,     0.98098,     0.98198,     0.98298,     0.98398,\n",
              "           0.98498,     0.98599,     0.98699,     0.98799,     0.98899,     0.98999,     0.99099,     0.99199,     0.99299,     0.99399,     0.99499,       0.996,       0.997,       0.998,       0.999,           1]), array([[    0.96772,     0.96772,     0.96611,     0.96342,     0.96288,     0.96127,     0.96073,     0.96019,     0.95966,     0.95912,     0.95912,     0.95912,     0.95912,     0.95912,     0.95858,     0.95858,     0.95858,     0.95858,     0.95858,     0.95858,     0.95804,     0.95804,      0.9575,\n",
              "            0.95697,     0.95697,     0.95697,     0.95697,     0.95697,     0.95589,     0.95589,     0.95589,     0.95589,     0.95535,     0.95481,     0.95428,     0.95428,     0.95422,     0.95374,     0.95374,     0.95374,     0.95374,     0.95374,     0.95374,     0.95374,     0.95374,     0.95374,\n",
              "            0.95374,     0.95374,     0.95374,     0.95374,      0.9532,      0.9532,      0.9532,      0.9532,      0.9532,      0.9532,      0.9532,      0.9532,      0.9532,      0.9532,      0.9532,     0.95296,     0.95266,     0.95266,     0.95266,     0.95266,     0.95266,     0.95266,     0.95266,\n",
              "            0.95266,     0.95266,     0.95266,     0.95266,     0.95266,     0.95266,     0.95266,     0.95266,     0.95266,     0.95266,     0.95266,     0.95266,     0.95266,     0.95212,     0.95212,     0.95212,     0.95212,     0.95212,     0.95212,     0.95212,     0.95105,     0.95105,     0.95105,\n",
              "            0.95105,     0.95051,     0.95051,     0.95051,     0.95051,     0.95051,     0.94997,     0.94997,     0.94944,     0.94836,     0.94836,     0.94836,     0.94836,     0.94836,     0.94836,     0.94836,     0.94782,     0.94782,     0.94782,     0.94782,     0.94738,     0.94728,     0.94728,\n",
              "            0.94728,     0.94728,     0.94728,     0.94728,     0.94675,     0.94675,     0.94599,     0.94567,     0.94513,     0.94513,     0.94513,     0.94513,     0.94513,     0.94513,     0.94459,     0.94459,     0.94459,     0.94459,     0.94459,     0.94459,     0.94459,     0.94459,     0.94459,\n",
              "            0.94459,     0.94442,     0.94406,     0.94406,     0.94406,     0.94406,     0.94352,     0.94352,     0.94352,     0.94352,     0.94352,     0.94352,     0.94352,     0.94352,     0.94352,     0.94352,     0.94352,     0.94352,     0.94352,     0.94352,     0.94352,     0.94352,     0.94352,\n",
              "            0.94352,     0.94352,     0.94352,     0.94352,     0.94352,     0.94352,     0.94352,     0.94352,     0.94352,     0.94298,     0.94298,     0.94298,     0.94298,     0.94246,     0.94244,     0.94244,     0.94244,     0.94244,     0.94244,     0.94244,     0.94244,     0.94244,     0.94244,\n",
              "            0.94244,     0.94244,     0.94244,     0.94244,     0.94244,     0.94244,     0.94196,      0.9419,      0.9419,      0.9419,      0.9419,      0.9419,     0.94168,     0.94137,     0.94137,     0.94133,     0.94109,     0.94085,     0.94029,     0.94029,     0.94029,     0.94029,     0.94029,\n",
              "            0.94029,     0.94029,     0.94029,     0.94029,     0.94029,     0.94029,     0.94029,     0.94029,     0.94029,     0.94029,     0.93983,     0.93975,     0.93975,     0.93972,     0.93949,     0.93926,     0.93921,     0.93921,     0.93921,     0.93921,     0.93921,     0.93921,     0.93921,\n",
              "            0.93916,     0.93868,     0.93868,     0.93868,     0.93868,     0.93868,     0.93868,     0.93868,     0.93868,     0.93868,     0.93868,     0.93855,     0.93814,     0.93814,     0.93814,     0.93814,     0.93814,     0.93814,     0.93814,     0.93814,     0.93814,     0.93814,     0.93814,\n",
              "            0.93814,     0.93814,     0.93814,     0.93814,     0.93813,     0.93794,     0.93775,      0.9376,      0.9376,     0.93724,     0.93659,     0.93653,     0.93653,     0.93599,     0.93599,     0.93599,     0.93599,     0.93599,     0.93599,     0.93599,     0.93599,     0.93599,     0.93599,\n",
              "            0.93599,     0.93545,     0.93545,     0.93545,     0.93491,     0.93491,     0.93472,     0.93437,     0.93437,     0.93437,     0.93437,     0.93437,     0.93437,     0.93437,     0.93437,     0.93437,     0.93437,     0.93413,     0.93384,     0.93384,     0.93384,     0.93384,     0.93384,\n",
              "            0.93384,     0.93384,     0.93384,     0.93384,     0.93384,     0.93384,     0.93384,     0.93359,      0.9333,      0.9333,      0.9333,     0.93329,      0.9329,     0.93276,     0.93276,     0.93276,     0.93168,     0.93168,     0.93074,     0.93061,     0.93007,     0.93002,     0.92953,\n",
              "            0.92953,     0.92899,     0.92899,     0.92846,     0.92846,     0.92823,     0.92786,     0.92732,     0.92688,     0.92608,     0.92581,     0.92577,     0.92573,     0.92523,     0.92469,     0.92451,     0.92433,     0.92416,     0.92415,     0.92384,     0.92308,     0.92308,     0.92217,\n",
              "              0.922,       0.922,       0.922,       0.922,       0.922,     0.92151,     0.92146,     0.92146,     0.92146,     0.92146,     0.92146,     0.92146,     0.92146,     0.92146,     0.92039,     0.92039,     0.91973,     0.91953,     0.91933,     0.91876,     0.91824,     0.91778,      0.9177,\n",
              "             0.9177,      0.9177,      0.9177,      0.9177,      0.9177,     0.91763,     0.91646,     0.91608,     0.91608,     0.91608,     0.91608,     0.91575,     0.91514,      0.9148,     0.91389,     0.91327,     0.91313,     0.91299,     0.91286,     0.91248,     0.91232,      0.9122,     0.91186,\n",
              "            0.91178,     0.91178,      0.9107,      0.9107,     0.91052,      0.9097,      0.9095,     0.90937,     0.90924,     0.90911,     0.90855,     0.90855,     0.90855,     0.90785,      0.9064,     0.90556,     0.90479,     0.90386,     0.90317,     0.90317,     0.90317,     0.90317,     0.90317,\n",
              "            0.90317,     0.90306,      0.9027,     0.90264,     0.90264,     0.90264,     0.90264,     0.90168,     0.90048,     0.90048,     0.89953,     0.89799,     0.89779,     0.89779,     0.89761,     0.89735,     0.89722,     0.89672,     0.89672,     0.89659,     0.89618,     0.89613,     0.89594,\n",
              "            0.89575,     0.89528,      0.8949,     0.89465,     0.89392,     0.89349,     0.89346,     0.89325,     0.89304,     0.89285,     0.89266,     0.89248,     0.89242,     0.89242,     0.89242,     0.89242,      0.8922,     0.89196,     0.89188,     0.89181,     0.89158,     0.89134,      0.8908,\n",
              "             0.8908,      0.8908,      0.8908,     0.89026,     0.89026,     0.89013,     0.88973,     0.88973,     0.88973,     0.88947,     0.88919,     0.88919,     0.88919,     0.88743,     0.88704,     0.88704,     0.88584,     0.88542,     0.88529,     0.88489,     0.88488,     0.88488,     0.88488,\n",
              "            0.88488,     0.88488,     0.88435,     0.88435,     0.88428,     0.88414,     0.88399,     0.88384,       0.883,     0.88273,     0.88273,     0.88225,     0.88204,     0.88179,     0.88143,     0.88072,     0.88018,     0.87969,     0.87915,     0.87886,     0.87871,     0.87856,     0.87843,\n",
              "            0.87843,     0.87843,     0.87818,     0.87775,     0.87735,     0.87735,     0.87735,     0.87735,     0.87713,     0.87682,     0.87682,     0.87682,     0.87628,     0.87597,     0.87574,      0.8753,      0.8745,     0.87413,     0.87413,     0.87413,     0.87408,     0.87344,     0.87293,\n",
              "            0.87246,     0.87197,     0.87197,     0.87188,     0.87157,     0.87144,     0.87144,     0.87144,      0.8709,      0.8709,      0.8709,      0.8698,     0.86969,     0.86958,     0.86948,     0.86937,     0.86918,     0.86875,     0.86875,     0.86875,     0.86875,     0.86835,     0.86821,\n",
              "            0.86821,     0.86793,      0.8676,     0.86676,     0.86659,     0.86659,     0.86659,     0.86659,     0.86659,     0.86659,     0.86659,     0.86641,     0.86613,     0.86529,     0.86498,     0.86444,     0.86444,     0.86444,     0.86428,     0.86394,     0.86391,     0.86391,      0.8638,\n",
              "            0.86301,     0.86211,     0.86187,     0.86148,     0.86068,     0.86004,     0.85888,     0.85864,     0.85853,     0.85763,     0.85717,     0.85691,     0.85637,     0.85627,     0.85607,     0.85587,      0.8553,     0.85524,     0.85463,     0.85423,     0.85422,     0.85422,     0.85415,\n",
              "            0.85379,     0.85368,     0.85368,     0.85332,     0.85261,     0.85191,     0.85152,     0.85133,     0.85114,     0.85092,      0.8506,     0.85027,     0.84993,     0.84952,     0.84922,     0.84904,     0.84887,      0.8476,      0.8467,     0.84574,      0.8438,     0.84346,     0.84346,\n",
              "             0.8434,     0.84301,     0.84277,     0.84221,     0.84185,     0.84185,     0.84185,     0.84185,     0.84131,     0.84116,     0.84098,     0.84079,     0.83979,     0.83916,     0.83861,     0.83834,     0.83746,      0.8359,      0.8357,      0.8355,     0.83479,     0.83463,     0.83447,\n",
              "            0.83373,     0.83324,      0.8331,     0.83272,     0.83236,     0.83193,     0.83158,     0.83148,     0.83137,     0.83127,     0.83116,     0.83031,     0.83002,     0.82927,     0.82903,     0.82806,     0.82733,     0.82733,     0.82733,     0.82733,     0.82709,     0.82681,      0.8265,\n",
              "            0.82611,     0.82542,     0.82464,     0.82448,     0.82401,     0.82366,     0.82242,     0.82137,     0.82118,       0.821,     0.82065,     0.82018,     0.81993,     0.81972,     0.81957,     0.81941,     0.81926,     0.81908,      0.8189,     0.81872,     0.81715,     0.81684,     0.81494,\n",
              "            0.81449,     0.81404,      0.8132,      0.8128,     0.81277,     0.81252,     0.81228,     0.81065,     0.81035,     0.81007,     0.80994,     0.80981,     0.80968,      0.8092,      0.8085,      0.8085,     0.80791,     0.80766,     0.80742,     0.80727,     0.80708,     0.80689,     0.80562,\n",
              "            0.80531,     0.80295,     0.80249,      0.8023,     0.80211,     0.80043,     0.80043,     0.79989,     0.79989,     0.79989,     0.79964,     0.79923,     0.79906,      0.7989,     0.79828,     0.79828,     0.79828,     0.79802,     0.79773,     0.79752,     0.79731,     0.79643,     0.79559,\n",
              "            0.79559,     0.79559,     0.79559,     0.79535,     0.79505,     0.79505,     0.79505,     0.79273,     0.79234,     0.79075,     0.79075,     0.79049,     0.79003,     0.78944,     0.78884,     0.78799,     0.78771,     0.78576,     0.78471,     0.78439,     0.78404,     0.78358,      0.7828,\n",
              "            0.78107,     0.78067,     0.78024,     0.77958,     0.77898,     0.77849,      0.7767,      0.7762,     0.77588,     0.77569,     0.77428,     0.77261,      0.7719,     0.77144,     0.76979,     0.76865,     0.76815,     0.76751,     0.76654,     0.76654,     0.76654,     0.76622,     0.76529,\n",
              "             0.7648,     0.76441,      0.7621,     0.75977,     0.75937,     0.75915,     0.75862,     0.75724,     0.75632,     0.75524,     0.75495,     0.75435,     0.75341,     0.75234,      0.7516,     0.74982,     0.74905,     0.74817,      0.7478,     0.74736,     0.74589,       0.744,      0.7425,\n",
              "            0.74057,     0.73791,     0.73696,     0.73632,     0.73588,      0.7348,     0.73347,      0.7306,     0.72803,     0.72729,     0.72476,     0.72238,     0.72163,     0.72069,     0.71974,     0.71742,     0.71677,     0.71482,     0.71309,      0.7106,     0.70812,     0.70538,      0.7027,\n",
              "            0.70177,     0.69757,       0.695,     0.69359,     0.69123,      0.6891,     0.68747,      0.6846,     0.67977,      0.6779,     0.67551,     0.67286,     0.67201,     0.66996,     0.66487,     0.66144,     0.65804,     0.65573,     0.64961,     0.64668,     0.64424,     0.63899,     0.63583,\n",
              "            0.63221,     0.62782,     0.62616,     0.62261,     0.61847,     0.61498,     0.61125,     0.60677,     0.60335,     0.60059,     0.59717,     0.59319,     0.58982,     0.58386,     0.57621,     0.57151,     0.56694,     0.56365,     0.55941,     0.55793,     0.55288,      0.5464,     0.54217,\n",
              "            0.53864,      0.5356,     0.52699,     0.52052,     0.51578,     0.50977,     0.50186,     0.49481,     0.49188,     0.48389,     0.47796,     0.47442,     0.46796,     0.46245,     0.45414,     0.44945,     0.44562,     0.44057,     0.43279,     0.42711,      0.4209,     0.41566,     0.40798,\n",
              "            0.40047,     0.39215,     0.38287,     0.37478,     0.36175,     0.35364,     0.34352,     0.33383,     0.32041,     0.30815,     0.29926,     0.29056,     0.27926,     0.26847,     0.25435,     0.24722,     0.23626,     0.22356,     0.21897,     0.21173,     0.20104,     0.18914,     0.18411,\n",
              "            0.17585,     0.16771,     0.15977,     0.14831,     0.13917,      0.1333,     0.12679,     0.12179,     0.11386,     0.10673,     0.10105,    0.093904,    0.088477,    0.082824,    0.079081,    0.072625,    0.068129,    0.065292,    0.063518,    0.057968,     0.05447,    0.049993,    0.048614,\n",
              "            0.04419,    0.041271,     0.04001,    0.038645,    0.035527,    0.031695,     0.03035,     0.02736,    0.024548,    0.023846,    0.021942,    0.020486,    0.018717,    0.018382,    0.016485,    0.015678,    0.012216,    0.011383,   0.0098882,    0.008658,   0.0081187,   0.0075841,   0.0053372,\n",
              "           0.004897,   0.0028084,   0.0021149,   0.0019077,   0.0017006,   0.0013997,   0.0010565,  0.00089718,  0.00073787,  0.00057856,           0,           0,           0,           0,           0,           0,           0,           0,           0,           0,           0,           0,           0,\n",
              "                  0,           0,           0,           0,           0,           0,           0,           0,           0,           0,           0]]), 'Confidence', 'Recall']]\n",
              "fitness: 0.8166726012567969\n",
              "keys: ['metrics/precision(B)', 'metrics/recall(B)', 'metrics/mAP50(B)', 'metrics/mAP50-95(B)']\n",
              "maps: array([    0.80248])\n",
              "names: {0: 'solar-panel'}\n",
              "plot: True\n",
              "results_dict: {'metrics/precision(B)': 0.88934502242175, 'metrics/recall(B)': 0.921463152232383, 'metrics/mAP50(B)': 0.9443794243974996, 'metrics/mAP50-95(B)': 0.8024829542411632, 'fitness': 0.8166726012567969}\n",
              "save_dir: PosixPath('runs/detect/train42')\n",
              "speed: {'preprocess': 0.5821870007646194, 'inference': 6.327843447344019, 'loss': 0.01982756710927421, 'postprocess': 2.892714574796344}\n",
              "task: 'detect'"
            ]
          },
          "metadata": {},
          "execution_count": 10
        }
      ]
    },
    {
      "cell_type": "code",
      "source": [
        "results = model.predict('/content/img-1.jpg')\n",
        "results"
      ],
      "metadata": {
        "id": "RCeQ2Slvo5xw",
        "colab": {
          "base_uri": "https://localhost:8080/"
        },
        "outputId": "c470c8af-bb6f-4c6e-b2f5-ea2343a776df"
      },
      "execution_count": 11,
      "outputs": [
        {
          "output_type": "stream",
          "name": "stdout",
          "text": [
            "\n",
            "image 1/1 /content/img-1.jpg: 640x640 1 solar-panel, 11.9ms\n",
            "Speed: 3.3ms preprocess, 11.9ms inference, 1.8ms postprocess per image at shape (1, 3, 640, 640)\n"
          ]
        },
        {
          "output_type": "execute_result",
          "data": {
            "text/plain": [
              "[ultralytics.engine.results.Results object with attributes:\n",
              " \n",
              " boxes: ultralytics.engine.results.Boxes object\n",
              " keypoints: None\n",
              " masks: None\n",
              " names: {0: 'solar-panel'}\n",
              " obb: None\n",
              " orig_img: array([[[2, 0, 0],\n",
              "         [0, 0, 0],\n",
              "         [0, 0, 0],\n",
              "         ...,\n",
              "         [0, 0, 0],\n",
              "         [0, 0, 0],\n",
              "         [0, 0, 0]],\n",
              " \n",
              "        [[2, 0, 0],\n",
              "         [2, 0, 0],\n",
              "         [0, 0, 0],\n",
              "         ...,\n",
              "         [0, 0, 0],\n",
              "         [0, 0, 0],\n",
              "         [0, 0, 0]],\n",
              " \n",
              "        [[2, 0, 0],\n",
              "         [2, 0, 0],\n",
              "         [0, 0, 0],\n",
              "         ...,\n",
              "         [0, 0, 0],\n",
              "         [0, 0, 0],\n",
              "         [0, 0, 0]],\n",
              " \n",
              "        ...,\n",
              " \n",
              "        [[0, 0, 0],\n",
              "         [0, 0, 0],\n",
              "         [0, 0, 0],\n",
              "         ...,\n",
              "         [0, 0, 0],\n",
              "         [0, 0, 0],\n",
              "         [0, 0, 0]],\n",
              " \n",
              "        [[0, 0, 0],\n",
              "         [0, 0, 0],\n",
              "         [0, 0, 0],\n",
              "         ...,\n",
              "         [0, 0, 0],\n",
              "         [0, 0, 0],\n",
              "         [0, 0, 0]],\n",
              " \n",
              "        [[0, 0, 0],\n",
              "         [0, 0, 0],\n",
              "         [0, 0, 0],\n",
              "         ...,\n",
              "         [0, 0, 0],\n",
              "         [0, 0, 0],\n",
              "         [0, 0, 0]]], dtype=uint8)\n",
              " orig_shape: (200, 200)\n",
              " path: '/content/img-1.jpg'\n",
              " probs: None\n",
              " save_dir: 'runs/detect/train43'\n",
              " speed: {'preprocess': 3.3342838287353516, 'inference': 11.924028396606445, 'postprocess': 1.840353012084961}]"
            ]
          },
          "metadata": {},
          "execution_count": 11
        }
      ]
    },
    {
      "cell_type": "code",
      "source": [
        "## model.export(format='onnx')  # Choose the format you need\n"
      ],
      "metadata": {
        "id": "-nCDTyizo9cd"
      },
      "execution_count": null,
      "outputs": []
    }
  ]
}